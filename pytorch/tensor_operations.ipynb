{
 "metadata": {
  "language_info": {
   "codemirror_mode": {
    "name": "ipython",
    "version": 3
   },
   "file_extension": ".py",
   "mimetype": "text/x-python",
   "name": "python",
   "nbconvert_exporter": "python",
   "pygments_lexer": "ipython3",
   "version": "3.8.5-final"
  },
  "orig_nbformat": 2,
  "kernelspec": {
   "name": "python3",
   "display_name": "Python 3",
   "language": "python"
  }
 },
 "nbformat": 4,
 "nbformat_minor": 2,
 "cells": [
  {
   "source": [
    "Tensor Operations\n",
    "================="
   ],
   "cell_type": "markdown",
   "metadata": {}
  },
  {
   "source": [
    "## Addition"
   ],
   "cell_type": "markdown",
   "metadata": {}
  },
  {
   "cell_type": "code",
   "execution_count": 4,
   "metadata": {},
   "outputs": [
    {
     "output_type": "stream",
     "name": "stdout",
     "text": [
      "Type:torch.FloatTensor\nShape/size:torch.Size([2, 3])\nValues: \ntensor([[-0.7697,  1.3831,  0.7184],\n        [-2.2645,  0.4363,  1.7446]])\n"
     ]
    }
   ],
   "source": [
    "import torch\n",
    "from functions import describe\n",
    "x = torch.randn(2,3)\n",
    "describe(x)"
   ]
  },
  {
   "cell_type": "code",
   "execution_count": 5,
   "metadata": {},
   "outputs": [
    {
     "output_type": "stream",
     "name": "stdout",
     "text": [
      "Type:torch.FloatTensor\nShape/size:torch.Size([2, 3])\nValues: \ntensor([[-1.5394,  2.7661,  1.4369],\n        [-4.5290,  0.8725,  3.4892]])\n"
     ]
    }
   ],
   "source": [
    "describe(torch.add(x,x))"
   ]
  },
  {
   "cell_type": "code",
   "execution_count": 6,
   "metadata": {},
   "outputs": [
    {
     "output_type": "stream",
     "name": "stdout",
     "text": [
      "Type:torch.FloatTensor\nShape/size:torch.Size([2, 3])\nValues: \ntensor([[-1.5394,  2.7661,  1.4369],\n        [-4.5290,  0.8725,  3.4892]])\n"
     ]
    }
   ],
   "source": [
    "describe(x + x)"
   ]
  },
  {
   "source": [
    "## Dimension based tensor operations"
   ],
   "cell_type": "markdown",
   "metadata": {}
  },
  {
   "cell_type": "code",
   "execution_count": 8,
   "metadata": {},
   "outputs": [
    {
     "output_type": "stream",
     "name": "stdout",
     "text": [
      "Type:torch.LongTensor\nShape/size:torch.Size([6])\nValues: \ntensor([0, 1, 2, 3, 4, 5])\n"
     ]
    }
   ],
   "source": [
    "x = torch.arange(6)\n",
    "describe(x)\n"
   ]
  },
  {
   "cell_type": "code",
   "execution_count": 9,
   "metadata": {},
   "outputs": [
    {
     "output_type": "stream",
     "name": "stdout",
     "text": [
      "Type:torch.LongTensor\nShape/size:torch.Size([2, 3])\nValues: \ntensor([[0, 1, 2],\n        [3, 4, 5]])\n"
     ]
    }
   ],
   "source": [
    "x = x.view(2,3)\n",
    "describe(x)"
   ]
  },
  {
   "cell_type": "code",
   "execution_count": 10,
   "metadata": {},
   "outputs": [
    {
     "output_type": "stream",
     "name": "stdout",
     "text": [
      "Type:torch.LongTensor\nShape/size:torch.Size([3])\nValues: \ntensor([3, 5, 7])\n"
     ]
    }
   ],
   "source": [
    "describe(torch.sum(x, dim=0))"
   ]
  },
  {
   "cell_type": "code",
   "execution_count": 11,
   "metadata": {},
   "outputs": [
    {
     "output_type": "stream",
     "name": "stdout",
     "text": [
      "Type:torch.LongTensor\nShape/size:torch.Size([2])\nValues: \ntensor([ 3, 12])\n"
     ]
    }
   ],
   "source": [
    "describe(torch.sum(x, dim=1))"
   ]
  },
  {
   "cell_type": "code",
   "execution_count": 12,
   "metadata": {},
   "outputs": [
    {
     "output_type": "stream",
     "name": "stdout",
     "text": [
      "Type:torch.LongTensor\nShape/size:torch.Size([3, 2])\nValues: \ntensor([[0, 3],\n        [1, 4],\n        [2, 5]])\n"
     ]
    }
   ],
   "source": [
    "describe(torch.transpose(x, 0, 1))"
   ]
  },
  {
   "cell_type": "code",
   "execution_count": null,
   "metadata": {},
   "outputs": [],
   "source": []
  }
 ]
}