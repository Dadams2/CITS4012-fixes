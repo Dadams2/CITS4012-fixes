{
 "cells": [
  {
   "cell_type": "markdown",
   "metadata": {},
   "source": [
    "Installation\n",
    "=============\n",
    "\n",
    "More Tutorials:\n",
    "\n",
    "**NUMPY**: <br/>\n",
    "[https://cs231n.github.io/python-numpy-tutorial/#numpy]<br/>\n",
    "[https://numpy.org/doc/stable/user/quickstart.html]\n",
    "\n",
    "**MATPLOTLIB**: <br/>\n",
    "[https://matplotlib.org/gallery/index.html]<\n",
    "\n",
    "**BASICS**:<br/>\n",
    "[https://www.w3schools.com/python/]<br/>\n",
    "*CONSULT THESE WISELY*:<br/>\n",
    "The official documentation, Google, and Stack-overflow are your friends!\n",
    "\n",
    "\n",
    "```{Note} \n",
    " This tutorial is based on Python 3.8\n",
    " but it should apply to all Python 3.X versions\n",
    " Please note that this tutorial is NOT exhaustive\n",
    " We try to cover everything you need for class assignments\n",
    " but you should also navigate external resources\n",
    "```"
   ]
  },
  {
   "cell_type": "code",
   "execution_count": null,
   "metadata": {},
   "outputs": [],
   "source": [
    "\n",
    "## Anaconda for environment management \n",
    "\n",
    "https://www.anaconda.com/\n",
    "\n",
    "common commands\n",
    "\n",
    "```\n",
    "conda env list                                <-- list all environments\n",
    "\n",
    "conda create -n newenv python=3.8            <-- create new environment\n",
    "\n",
    "conda enc create -f env.yml     <-- create environment from config file\n",
    "\n",
    "conda activate envname                       <-- activate a environment\n",
    "\n",
    "conda deactivate                                   <-- exit environment\n",
    "\n",
    "pip install packagename     <-- install package for current environment\n",
    "\n",
    "jupyter notebook                <-- open jupyter in current environment\n",
    "```\n",
    "\n",
    "## Recommended IDEs\n",
    "\n",
    "Spyder (in-built in Anaconda) <br/>\n",
    "\n",
    "Pycharm (the most popular choice, compatible with Anaconda)"
   ]
  }
 ],
 "metadata": {
  "language_info": {
   "codemirror_mode": {
    "name": "ipython",
    "version": 3
   },
   "file_extension": ".py",
   "mimetype": "text/x-python",
   "name": "python",
   "nbconvert_exporter": "python",
   "pygments_lexer": "ipython3",
   "version": 3
  }
 },
 "nbformat": 4,
 "nbformat_minor": 2
}