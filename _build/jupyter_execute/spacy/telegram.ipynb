{
 "cells": [
  {
   "cell_type": "markdown",
   "metadata": {},
   "source": [
    "Your first chatbot\r\n",
    "==================\r\n",
    "\r\n",
    "A typical chatbot app consists of multiple tiers. After you've implemented\r\n",
    "the logic for processing user input on your machine, you'll need a messenger\r\n",
    "app (e.g. Skype, Facebook Messenger or Telegram) that allows you to create accounts that your programs operate. Users won't interact with the bot implementation on your machine directly; instead, they'll chat with the bot through the messenger API. Apart from a messenger, your chatbot might require some additional services, such as a database or other storage."
   ]
  },
  {
   "cell_type": "markdown",
   "metadata": {},
   "source": [
    "## Creating a Telegram Account and Authorizing Your Bot\r\n",
    "\r\n",
    "```{note}\r\n",
    "You'll need a smartphone or tablet that runs either iOS or Android to create a Telegram account. A PC version of Telegram won't work for this operation. However,\r\n",
    "once you create a Telegram account, you can use it on a PC.\r\n",
    "```\r\n",
    "On your smartphone or tablet go to an app store, and install the `Telegram app`. Then you need to enter your `phone number` to access the app. \r\n",
    "\r\n",
    "1. In the Telegram app, perform a search for @BotFather (note: case sensitive) or open the URL https://telegram.me/botfather/. BotFather is a Telegram bot that manages all the other bots in your account.\r\n",
    "2. On the BotFather page, click the Start button to see the list of commands\r\n",
    "that you can use to set up your Telegram bots.\r\n",
    "3. To create a new bot, enter the `/newbot` command in the Write a message\r\n",
    "box. You'll be prompted for a name and a username for your bot. Then\r\n",
    "you'll be given an authorization token for the new bot. Note down the token in a secure place as people who have access to the token can manipulate your new bot."
   ]
  },
  {
   "cell_type": "markdown",
   "metadata": {},
   "source": [
    "## Install the `python-telegram-bot` Library\r\n",
    "\r\n",
    "To connect chatbot functionality implemented in Python, you'll need the\r\n",
    "python-telegram-bot library, which is built on top of the Telegram Bot API.\r\n",
    "The library provides an easy-to-use interface for bot programmers developing\r\n",
    "apps for Telegram.\r\n",
    "\r\n",
    "```\r\n",
    "pip install python-telegram-bot --upgrade\r\n",
    "```\r\n",
    "Once you've installed the library, use the following lines of code to\r\n",
    "perform a quick test to verify that you can access your Telegram bot from\r\n",
    "Python. You must have an internet connection for this test to work."
   ]
  },
  {
   "cell_type": "code",
   "execution_count": 5,
   "metadata": {},
   "outputs": [],
   "source": [
    "import telegram\r\n",
    "TOKEN = 'YOUR TOKEN'\r\n",
    "bot = telegram.Bot(token=TOKEN)"
   ]
  },
  {
   "cell_type": "code",
   "execution_count": 6,
   "metadata": {},
   "outputs": [
    {
     "name": "stdout",
     "output_type": "stream",
     "text": [
      "{'first_name': 'Pizza2me', 'is_bot': True, 'supports_inline_queries': False, 'id': 1947674606, 'username': 'Pizza2meBot', 'can_join_groups': True, 'can_read_all_group_messages': False}\n"
     ]
    }
   ],
   "source": [
    "print(bot.get_me())"
   ]
  },
  {
   "cell_type": "markdown",
   "metadata": {},
   "source": [
    "## A copy-cat chatbot\r\n",
    "A chatbot simply echoing the input message. "
   ]
  },
  {
   "cell_type": "code",
   "execution_count": 8,
   "metadata": {},
   "outputs": [],
   "source": [
    "from telegram.ext import Updater, MessageHandler, Filters\r\n",
    "#function that implements the message handler\r\n",
    "def echo(update, context):\r\n",
    "    update.message.reply_text(update.message.text)\r\n",
    "#creating an Updater instance\r\n",
    "updater = Updater(TOKEN, use_context=True)\r\n",
    "#registering a handler to handle input text messages\r\n",
    "updater.dispatcher.add_handler(MessageHandler(Filters.text, echo))\r\n",
    "#starting polling updates from the messenger\r\n",
    "updater.start_polling()\r\n",
    "updater.idle()"
   ]
  },
  {
   "cell_type": "markdown",
   "metadata": {},
   "source": [
    "Click the `run` button for the above cell, it will start the bot. You can then go to your smartphone or tablet's Telegram app to chat with your bot. \r\n",
    "\r\n",
    "```{note}\r\n",
    "You can use the Interrupt button in your notebook to stop the bot after testing.\r\n",
    "```"
   ]
  },
  {
   "cell_type": "markdown",
   "metadata": {},
   "source": [
    "## Chatbot that uses spaCy code"
   ]
  },
  {
   "cell_type": "code",
   "execution_count": 12,
   "metadata": {},
   "outputs": [],
   "source": [
    "import spacy\r\n",
    "from telegram.ext import Updater, MessageHandler, Filters\r\n",
    "#the callback function that uses spaCy\r\n",
    "def utterance(update, context):\r\n",
    "    msg = update.message.text\r\n",
    "    nlp = spacy.load('en_core_web_sm')\r\n",
    "    doc = nlp(msg)\r\n",
    "    for token in doc:\r\n",
    "        if token.dep_ == 'dobj':\r\n",
    "            update.message.reply_text('We are processing your request...')\r\n",
    "            return \r\n",
    "    update.message.reply_text('Please rephrase your request. Be as specific as possible!')\r\n",
    "\r\n",
    "#the code responsible for interactions with Telegram\r\n",
    "updater = Updater(TOKEN, use_context=True)\r\n",
    "updater.dispatcher.add_handler(MessageHandler(Filters.text, utterance))\r\n",
    "updater.start_polling()\r\n",
    "updater.idle()"
   ]
  },
  {
   "cell_type": "markdown",
   "metadata": {},
   "source": [
    "```{admonition} Your Turn\r\n",
    "Integrte some more patterns to handle more varieties of requests. For example, extracting the type of pizza by finding its left children, if you are handling pizza ordering. \r\n",
    "```\r\n",
    "**Reference**: Chapter 11 of NATURAL LANGUAGE PROCESSING WITH PYTHON AND SPACY"
   ]
  }
 ],
 "metadata": {
  "interpreter": {
   "hash": "e5f76115fc97e95e5e5f274d9a04d3733842aec59c7431144116cf5affd2efc8"
  },
  "kernelspec": {
   "display_name": "Python 3.8.8 64-bit ('lda': conda)",
   "name": "python3"
  },
  "language_info": {
   "codemirror_mode": {
    "name": "ipython",
    "version": 3
   },
   "file_extension": ".py",
   "mimetype": "text/x-python",
   "name": "python",
   "nbconvert_exporter": "python",
   "pygments_lexer": "ipython3",
   "version": "3.8.8"
  }
 },
 "nbformat": 4,
 "nbformat_minor": 2
}