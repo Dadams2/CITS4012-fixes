{
 "cells": [
  {
   "cell_type": "markdown",
   "metadata": {},
   "source": [
    "Exercise\r\n",
    "=========\r\n",
    "\r\n",
    "**Extend a `to + GPE` NER pattern**\r\n",
    "\r\n",
    "Let's consider a travel assistant here. Write a function that uses the entity type `GPE` to find the desired destination of a user. The code below is capable of very simple parsing, but not able to handle sentences like `I am going to a conference in Berlin.` \r\n",
    "\r\n",
    "- Modify the code to make it work for more cases. \r\n",
    "- Incoporate that into your Telgram booking bot. "
   ]
  },
  {
   "cell_type": "code",
   "execution_count": 9,
   "metadata": {},
   "outputs": [],
   "source": [
    "import spacy\r\n",
    "nlp = spacy.load('en_core_web_sm')"
   ]
  },
  {
   "cell_type": "code",
   "execution_count": 18,
   "metadata": {},
   "outputs": [],
   "source": [
    "# Here's the function that figures out the destination\r\n",
    "def det_destination(doc):\r\n",
    "    for i, token in enumerate(doc):\r\n",
    "        if token.ent_type != 0 and token.ent_type_ == 'GPE':\r\n",
    "            while True:\r\n",
    "                token = token.head\r\n",
    "                if token.text == 'to':\r\n",
    "                    return doc[i].text\r\n",
    "                if token.head == token:\r\n",
    "                    return 'Failed to determine'\r\n",
    "    return 'Failed to determine'"
   ]
  },
  {
   "cell_type": "code",
   "execution_count": 24,
   "metadata": {},
   "outputs": [
    {
     "name": "stdout",
     "output_type": "stream",
     "text": [
      "I  going\n",
      "am  going\n",
      "going  going\n",
      "to  going\n",
      "Berlin GPE to\n",
      ".  going\n"
     ]
    }
   ],
   "source": [
    "# Testing the det_destination function\r\n",
    "doc = nlp(u'I am going to Berlin.')\r\n",
    "# doc = nlp(u'I am going to the conference in Berlin.')\r\n",
    "for token in doc:\r\n",
    "    print(token.text, token.ent_type_, token.head)"
   ]
  },
  {
   "cell_type": "code",
   "execution_count": 25,
   "metadata": {},
   "outputs": [
    {
     "name": "stdout",
     "output_type": "stream",
     "text": [
      "It seems the user wants a ticket to Berlin\n"
     ]
    }
   ],
   "source": [
    "dest = det_destination(doc)\r\n",
    "print('It seems the user wants a ticket to ' + dest)"
   ]
  }
 ],
 "metadata": {
  "interpreter": {
   "hash": "e5f76115fc97e95e5e5f274d9a04d3733842aec59c7431144116cf5affd2efc8"
  },
  "kernelspec": {
   "display_name": "Python 3.8.8 64-bit ('lda': conda)",
   "name": "python3"
  },
  "language_info": {
   "codemirror_mode": {
    "name": "ipython",
    "version": 3
   },
   "file_extension": ".py",
   "mimetype": "text/x-python",
   "name": "python",
   "nbconvert_exporter": "python",
   "pygments_lexer": "ipython3",
   "version": "3.8.8"
  }
 },
 "nbformat": 4,
 "nbformat_minor": 2
}