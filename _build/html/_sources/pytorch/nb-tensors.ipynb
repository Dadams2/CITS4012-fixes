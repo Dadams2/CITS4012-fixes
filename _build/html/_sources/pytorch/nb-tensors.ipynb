{
 "metadata": {
  "language_info": {
   "codemirror_mode": {
    "name": "ipython",
    "version": 3
   },
   "file_extension": ".py",
   "mimetype": "text/x-python",
   "name": "python",
   "nbconvert_exporter": "python",
   "pygments_lexer": "ipython3",
   "version": "3.8.5-final"
  },
  "orig_nbformat": 2,
  "kernelspec": {
   "name": "python3",
   "display_name": "Python 3",
   "language": "python"
  }
 },
 "nbformat": 4,
 "nbformat_minor": 2,
 "cells": [
  {
   "cell_type": "code",
   "execution_count": 7,
   "metadata": {},
   "outputs": [],
   "source": [
    "def describe(x):\n",
    "    print(\"Type:{}\".format(x.type()))\n",
    "    print(\"Shape/size:{}\".format(x.shape))\n",
    "    print(\"Values: \\n{}\".format(x))\n"
   ]
  },
  {
   "cell_type": "code",
   "execution_count": 8,
   "metadata": {},
   "outputs": [
    {
     "output_type": "stream",
     "name": "stdout",
     "text": [
      "Type:torch.FloatTensor\nShape/size:torch.Size([2, 3])\nValues: \ntensor([[5.3482e+22, 1.6987e-07, 2.6846e+23],\n        [3.2907e+21, 1.7249e-07, 4.3915e-05]])\n"
     ]
    }
   ],
   "source": [
    "import torch\n",
    "\n",
    "describe(torch.Tensor(2,3))"
   ]
  },
  {
   "cell_type": "code",
   "execution_count": null,
   "metadata": {},
   "outputs": [],
   "source": []
  }
 ]
}