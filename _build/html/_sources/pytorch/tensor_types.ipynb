{
 "metadata": {
  "language_info": {
   "codemirror_mode": {
    "name": "ipython",
    "version": 3
   },
   "file_extension": ".py",
   "mimetype": "text/x-python",
   "name": "python",
   "nbconvert_exporter": "python",
   "pygments_lexer": "ipython3",
   "version": "3.8.5-final"
  },
  "orig_nbformat": 2,
  "kernelspec": {
   "name": "python3",
   "display_name": "Python 3",
   "language": "python"
  }
 },
 "nbformat": 4,
 "nbformat_minor": 2,
 "cells": [
  {
   "source": [
    "Types of Tensor\n",
    "================="
   ],
   "cell_type": "markdown",
   "metadata": {}
  },
  {
   "source": [
    "## A helper function `describe(x)`\n",
    "`x` is a torch tensor\n",
    "\n",
    "NOTE: `tensor.shape` is a property, not a callable function"
   ],
   "cell_type": "markdown",
   "metadata": {}
  },
  {
   "cell_type": "code",
   "execution_count": 2,
   "metadata": {},
   "outputs": [],
   "source": [
    "def describe(x):\n",
    "    print(\"Type:{}\".format(x.type()))\n",
    "    print(\"Shape/size:{}\".format(x.shape))\n",
    "    print(\"Values: \\n{}\".format(x))\n"
   ]
  },
  {
   "source": [
    "## Creating a tensor with `torch.Tensor()`"
   ],
   "cell_type": "markdown",
   "metadata": {}
  },
  {
   "cell_type": "code",
   "execution_count": 3,
   "metadata": {},
   "outputs": [
    {
     "output_type": "stream",
     "name": "stdout",
     "text": [
      "Type:torch.FloatTensor\nShape/size:torch.Size([2, 3])\nValues: \ntensor([[1.3311e+22, 4.2769e-05, 2.0890e+20],\n        [4.3920e-05, 4.2426e-08, 5.3832e+22]])\n"
     ]
    }
   ],
   "source": [
    "import torch\n",
    "\n",
    "describe(torch.Tensor(2,3))"
   ]
  },
  {
   "source": [
    "## Creating a randomly initialized tensor"
   ],
   "cell_type": "markdown",
   "metadata": {}
  },
  {
   "cell_type": "code",
   "execution_count": 9,
   "metadata": {},
   "outputs": [
    {
     "output_type": "stream",
     "name": "stdout",
     "text": [
      "Type:torch.FloatTensor\nShape/size:torch.Size([2, 3])\nValues: \ntensor([[0.9806, 0.4036, 0.7936],\n        [0.0670, 0.0506, 0.8571]])\nType:torch.FloatTensor\nShape/size:torch.Size([2, 3])\nValues: \ntensor([[ 0.9838, -0.6697,  1.4443],\n        [-0.7833, -0.9141,  0.0443]])\n"
     ]
    }
   ],
   "source": [
    "import torch\n",
    "\n",
    "describe(torch.rand(2,3))   # uniform random\n",
    "describe(torch.randn(2,3))  # normal random"
   ]
  },
  {
   "source": [
    "## Creating a filled tensor"
   ],
   "cell_type": "markdown",
   "metadata": {}
  },
  {
   "cell_type": "code",
   "execution_count": 12,
   "metadata": {},
   "outputs": [
    {
     "output_type": "stream",
     "name": "stdout",
     "text": [
      "Type:torch.FloatTensor\nShape/size:torch.Size([2, 3])\nValues: \ntensor([[0., 0., 0.],\n        [0., 0., 0.]])\nType:torch.FloatTensor\nShape/size:torch.Size([2, 3])\nValues: \ntensor([[1., 1., 1.],\n        [1., 1., 1.]])\nType:torch.FloatTensor\nShape/size:torch.Size([2, 3])\nValues: \ntensor([[5., 5., 5.],\n        [5., 5., 5.]])\n"
     ]
    }
   ],
   "source": [
    "import torch\n",
    "\n",
    "describe(torch.zeros(2,3))\n",
    "\n",
    "x = torch.ones(2,3)\n",
    "describe(x)\n",
    "\n",
    "x.fill_(5)\n",
    "describe(x)"
   ]
  },
  {
   "source": [
    "## Creating and initialising a tensor from lists"
   ],
   "cell_type": "markdown",
   "metadata": {}
  },
  {
   "cell_type": "code",
   "execution_count": 13,
   "metadata": {},
   "outputs": [
    {
     "output_type": "stream",
     "name": "stdout",
     "text": [
      "Type:torch.FloatTensor\nShape/size:torch.Size([2, 3])\nValues: \ntensor([[1., 2., 3.],\n        [4., 5., 6.]])\n"
     ]
    }
   ],
   "source": [
    "x = torch.Tensor([[1, 2, 3],\n",
    "                  [4, 5, 6]])\n",
    "describe(x)                  "
   ]
  },
  {
   "source": [
    "## Creating and initialising a tensor from Numpy"
   ],
   "cell_type": "markdown",
   "metadata": {}
  },
  {
   "cell_type": "code",
   "execution_count": 15,
   "metadata": {},
   "outputs": [
    {
     "output_type": "stream",
     "name": "stdout",
     "text": [
      "Type:torch.DoubleTensor\nShape/size:torch.Size([2, 3])\nValues: \ntensor([[0.5401, 0.9993, 0.0777],\n        [0.6996, 0.2525, 0.2630]], dtype=torch.float64)\n"
     ]
    }
   ],
   "source": [
    "import torch\n",
    "import numpy as np\n",
    "\n",
    "npy = np.random.rand(2,3)\n",
    "describe(torch.from_numpy(npy))"
   ]
  },
  {
   "cell_type": "code",
   "execution_count": null,
   "metadata": {},
   "outputs": [],
   "source": []
  }
 ]
}