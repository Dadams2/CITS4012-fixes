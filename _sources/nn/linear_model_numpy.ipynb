{
 "cells": [
  {
   "cell_type": "markdown",
   "source": [
    "Linear Models in Numpy\r\n",
    "======================"
   ],
   "metadata": {}
  },
  {
   "cell_type": "markdown",
   "source": [
    "Despite the simplicity, linear models can be applicable in many scenarios. For example, a traditional model for document sentiment classification can be achieved by collecting a set of features (e.g. fequency of positive and negative words by looking up [SentiWordNet](https://github.com/aesuli/SentiWordNet), and model the sentiment score as a linear combination of the features.  Linear models can be seen as the simplest type of neural networks without non-linear activation functions.\r\n",
    "\r\n",
    "Notebook adapted from [Github of Deep Learning with Pytorch: Step by Step](https://github.com/dvgodoy/PyTorchStepByStep/blob/master/Chapter01.ipynb)"
   ],
   "metadata": {}
  },
  {
   "cell_type": "code",
   "execution_count": 1,
   "source": [
    "import numpy as np\r\n",
    "import matplotlib.pyplot as plt"
   ],
   "outputs": [],
   "metadata": {}
  },
  {
   "cell_type": "markdown",
   "source": [
    "## Data Preparation\r\n",
    "### Generating a synthetic dataset\r\n",
    "We define a linear line $y = 2x +1$ and add random small guassian noise for the synthetic dataset.  "
   ],
   "metadata": {}
  },
  {
   "cell_type": "code",
   "execution_count": 2,
   "source": [
    "true_b = 1\r\n",
    "true_w = 2\r\n",
    "N = 100\r\n",
    "# Data Generation\r\n",
    "np.random.seed(42)\r\n",
    "x = np.random.rand(N, 1)\r\n",
    "# Guassian noise to add some randomness to y\r\n",
    "epsilon = (.1 * np.random.randn(N, 1))\r\n",
    "y = true_b + true_w * x + epsilon"
   ],
   "outputs": [],
   "metadata": {}
  },
  {
   "cell_type": "code",
   "execution_count": 3,
   "source": [
    "print(\"The epsilon is in the range of [%3.2f, %3.2f]\" % (min(epsilon), max(epsilon)))"
   ],
   "outputs": [
    {
     "output_type": "stream",
     "name": "stdout",
     "text": [
      "The epsilon is in the range of [-0.20, 0.25]\n"
     ]
    }
   ],
   "metadata": {}
  },
  {
   "cell_type": "markdown",
   "source": [
    "### Splitting the dataset to training and validation\r\n",
    "Next, let's split our synthetic data into train and validation sets, shuffling the array of indexes and using the first 80 shuffled points for training, the rest of 20 for validation. "
   ],
   "metadata": {}
  },
  {
   "cell_type": "code",
   "execution_count": 4,
   "source": [
    "# Shuffles the indices\r\n",
    "idx = np.arange(N)\r\n",
    "np.random.shuffle(idx)\r\n",
    "# Uses first 80 random indices for train\r\n",
    "train_idx = idx[:int(N*.8)]\r\n",
    "# Uses the remaining indices for validation\r\n",
    "val_idx = idx[int(N*.8):]\r\n",
    "# Generates train and validation sets\r\n",
    "x_train, y_train = x[train_idx], y[train_idx]\r\n",
    "x_val, y_val = x[val_idx], y[val_idx]"
   ],
   "outputs": [],
   "metadata": {}
  },
  {
   "cell_type": "code",
   "execution_count": 5,
   "source": [
    "def figure1(x_train, y_train, x_val, y_val):\r\n",
    "    fig, ax = plt.subplots(1, 2, figsize=(12, 6))\r\n",
    "    \r\n",
    "    ax[0].scatter(x_train, y_train)\r\n",
    "    ax[0].set_xlabel('x')\r\n",
    "    ax[0].set_ylabel('y')\r\n",
    "    ax[0].set_ylim([0, 3.1])\r\n",
    "    ax[0].set_title('Generated Data - Train')\r\n",
    "\r\n",
    "    ax[1].scatter(x_val, y_val, c='r')\r\n",
    "    ax[1].set_xlabel('x')\r\n",
    "    ax[1].set_ylabel('y')\r\n",
    "    ax[1].set_ylim([0, 3.1])\r\n",
    "    ax[1].set_title('Generated Data - Validation')\r\n",
    "    fig.tight_layout()\r\n",
    "    \r\n",
    "    return fig, ax"
   ],
   "outputs": [],
   "metadata": {}
  },
  {
   "cell_type": "code",
   "execution_count": 6,
   "source": [
    "figure1(x_train, y_train, x_val, y_val)"
   ],
   "outputs": [
    {
     "output_type": "execute_result",
     "data": {
      "text/plain": [
       "(<Figure size 864x432 with 2 Axes>,\n",
       " array([<AxesSubplot:title={'center':'Generated Data - Train'}, xlabel='x', ylabel='y'>,\n",
       "        <AxesSubplot:title={'center':'Generated Data - Validation'}, xlabel='x', ylabel='y'>],\n",
       "       dtype=object))"
      ]
     },
     "metadata": {},
     "execution_count": 6
    },
    {
     "output_type": "display_data",
     "data": {
      "text/plain": [
       "<Figure size 864x432 with 2 Axes>"
      ],
      "image/svg+xml": "<?xml version=\"1.0\" encoding=\"utf-8\" standalone=\"no\"?>\r\n<!DOCTYPE svg PUBLIC \"-//W3C//DTD SVG 1.1//EN\"\r\n  \"http://www.w3.org/Graphics/SVG/1.1/DTD/svg11.dtd\">\r\n<svg height=\"423.274375pt\" version=\"1.1\" viewBox=\"0 0 855.567481 423.274375\" width=\"855.567481pt\" xmlns=\"http://www.w3.org/2000/svg\" xmlns:xlink=\"http://www.w3.org/1999/xlink\">\r\n <metadata>\r\n  <rdf:RDF xmlns:cc=\"http://creativecommons.org/ns#\" xmlns:dc=\"http://purl.org/dc/elements/1.1/\" xmlns:rdf=\"http://www.w3.org/1999/02/22-rdf-syntax-ns#\">\r\n   <cc:Work>\r\n    <dc:type rdf:resource=\"http://purl.org/dc/dcmitype/StillImage\"/>\r\n    <dc:date>2021-08-18T23:45:25.759748</dc:date>\r\n    <dc:format>image/svg+xml</dc:format>\r\n    <dc:creator>\r\n     <cc:Agent>\r\n      <dc:title>Matplotlib v3.4.2, https://matplotlib.org/</dc:title>\r\n     </cc:Agent>\r\n    </dc:creator>\r\n   </cc:Work>\r\n  </rdf:RDF>\r\n </metadata>\r\n <defs>\r\n  <style type=\"text/css\">*{stroke-linecap:butt;stroke-linejoin:round;}</style>\r\n </defs>\r\n <g id=\"figure_1\">\r\n  <g id=\"patch_1\">\r\n   <path d=\"M 0 423.274375 \r\nL 855.567481 423.274375 \r\nL 855.567481 0 \r\nL 0 0 \r\nz\r\n\" style=\"fill:none;\"/>\r\n  </g>\r\n  <g id=\"axes_1\">\r\n   <g id=\"patch_2\">\r\n    <path d=\"M 43.78125 385.718125 \r\nL 420.357092 385.718125 \r\nL 420.357092 22.318125 \r\nL 43.78125 22.318125 \r\nz\r\n\" style=\"fill:#ffffff;\"/>\r\n   </g>\r\n   <g id=\"PathCollection_1\">\r\n    <defs>\r\n     <path d=\"M 0 3 \r\nC 0.795609 3 1.55874 2.683901 2.12132 2.12132 \r\nC 2.683901 1.55874 3 0.795609 3 0 \r\nC 3 -0.795609 2.683901 -1.55874 2.12132 -2.12132 \r\nC 1.55874 -2.683901 0.795609 -3 0 -3 \r\nC -0.795609 -3 -1.55874 -2.683901 -2.12132 -2.12132 \r\nC -2.683901 -1.55874 -3 -0.795609 -3 0 \r\nC -3 0.795609 -2.683901 1.55874 -2.12132 2.12132 \r\nC -1.55874 2.683901 -0.795609 3 0 3 \r\nz\r\n\" id=\"m9f61063149\" style=\"stroke:#1f77b4;\"/>\r\n    </defs>\r\n    <g clip-path=\"url(#p5fb7cb8b8d)\">\r\n     <use style=\"fill:#1f77b4;stroke:#1f77b4;\" x=\"328.023796\" xlink:href=\"#m9f61063149\" y=\"95.638386\"/>\r\n     <use style=\"fill:#1f77b4;stroke:#1f77b4;\" x=\"81.143834\" xlink:href=\"#m9f61063149\" y=\"245.894458\"/>\r\n     <use style=\"fill:#1f77b4;stroke:#1f77b4;\" x=\"360.05907\" xlink:href=\"#m9f61063149\" y=\"44.264636\"/>\r\n     <use style=\"fill:#1f77b4;stroke:#1f77b4;\" x=\"67.839255\" xlink:href=\"#m9f61063149\" y=\"259.289233\"/>\r\n     <use style=\"fill:#1f77b4;stroke:#1f77b4;\" x=\"314.32252\" xlink:href=\"#m9f61063149\" y=\"95.799485\"/>\r\n     <use style=\"fill:#1f77b4;stroke:#1f77b4;\" x=\"84.8019\" xlink:href=\"#m9f61063149\" y=\"248.409818\"/>\r\n     <use style=\"fill:#1f77b4;stroke:#1f77b4;\" x=\"128.292444\" xlink:href=\"#m9f61063149\" y=\"237.382266\"/>\r\n     <use style=\"fill:#1f77b4;stroke:#1f77b4;\" x=\"167.45581\" xlink:href=\"#m9f61063149\" y=\"207.007796\"/>\r\n     <use style=\"fill:#1f77b4;stroke:#1f77b4;\" x=\"223.70058\" xlink:href=\"#m9f61063149\" y=\"152.94191\"/>\r\n     <use style=\"fill:#1f77b4;stroke:#1f77b4;\" x=\"397.204229\" xlink:href=\"#m9f61063149\" y=\"52.783281\"/>\r\n     <use style=\"fill:#1f77b4;stroke:#1f77b4;\" x=\"101.544098\" xlink:href=\"#m9f61063149\" y=\"240.287169\"/>\r\n     <use style=\"fill:#1f77b4;stroke:#1f77b4;\" x=\"329.371192\" xlink:href=\"#m9f61063149\" y=\"93.399649\"/>\r\n     <use style=\"fill:#1f77b4;stroke:#1f77b4;\" x=\"338.812318\" xlink:href=\"#m9f61063149\" y=\"78.251557\"/>\r\n     <use style=\"fill:#1f77b4;stroke:#1f77b4;\" x=\"313.489567\" xlink:href=\"#m9f61063149\" y=\"83.853243\"/>\r\n     <use style=\"fill:#1f77b4;stroke:#1f77b4;\" x=\"93.044161\" xlink:href=\"#m9f61063149\" y=\"216.71738\"/>\r\n     <use style=\"fill:#1f77b4;stroke:#1f77b4;\" x=\"123.45706\" xlink:href=\"#m9f61063149\" y=\"199.475101\"/>\r\n     <use style=\"fill:#1f77b4;stroke:#1f77b4;\" x=\"113.397905\" xlink:href=\"#m9f61063149\" y=\"234.488618\"/>\r\n     <use style=\"fill:#1f77b4;stroke:#1f77b4;\" x=\"66.15273\" xlink:href=\"#m9f61063149\" y=\"252.935376\"/>\r\n     <use style=\"fill:#1f77b4;stroke:#1f77b4;\" x=\"403.240008\" xlink:href=\"#m9f61063149\" y=\"27.950103\"/>\r\n     <use style=\"fill:#1f77b4;stroke:#1f77b4;\" x=\"276.40481\" xlink:href=\"#m9f61063149\" y=\"116.804523\"/>\r\n     <use style=\"fill:#1f77b4;stroke:#1f77b4;\" x=\"305.977734\" xlink:href=\"#m9f61063149\" y=\"108.365448\"/>\r\n     <use style=\"fill:#1f77b4;stroke:#1f77b4;\" x=\"267.544858\" xlink:href=\"#m9f61063149\" y=\"146.491481\"/>\r\n     <use style=\"fill:#1f77b4;stroke:#1f77b4;\" x=\"380.560821\" xlink:href=\"#m9f61063149\" y=\"51.553682\"/>\r\n     <use style=\"fill:#1f77b4;stroke:#1f77b4;\" x=\"281.379074\" xlink:href=\"#m9f61063149\" y=\"128.636456\"/>\r\n     <use style=\"fill:#1f77b4;stroke:#1f77b4;\" x=\"156.973858\" xlink:href=\"#m9f61063149\" y=\"199.960352\"/>\r\n     <use style=\"fill:#1f77b4;stroke:#1f77b4;\" x=\"149.245419\" xlink:href=\"#m9f61063149\" y=\"198.547999\"/>\r\n     <use style=\"fill:#1f77b4;stroke:#1f77b4;\" x=\"100.691531\" xlink:href=\"#m9f61063149\" y=\"230.816588\"/>\r\n     <use style=\"fill:#1f77b4;stroke:#1f77b4;\" x=\"313.280607\" xlink:href=\"#m9f61063149\" y=\"93.514145\"/>\r\n     <use style=\"fill:#1f77b4;stroke:#1f77b4;\" x=\"389.983509\" xlink:href=\"#m9f61063149\" y=\"46.897272\"/>\r\n     <use style=\"fill:#1f77b4;stroke:#1f77b4;\" x=\"270.909399\" xlink:href=\"#m9f61063149\" y=\"103.941482\"/>\r\n     <use style=\"fill:#1f77b4;stroke:#1f77b4;\" x=\"254.769279\" xlink:href=\"#m9f61063149\" y=\"145.735707\"/>\r\n     <use style=\"fill:#1f77b4;stroke:#1f77b4;\" x=\"231.228834\" xlink:href=\"#m9f61063149\" y=\"162.284546\"/>\r\n     <use style=\"fill:#1f77b4;stroke:#1f77b4;\" x=\"122.400246\" xlink:href=\"#m9f61063149\" y=\"224.725162\"/>\r\n     <use style=\"fill:#1f77b4;stroke:#1f77b4;\" x=\"153.630037\" xlink:href=\"#m9f61063149\" y=\"208.649492\"/>\r\n     <use style=\"fill:#1f77b4;stroke:#1f77b4;\" x=\"397.317681\" xlink:href=\"#m9f61063149\" y=\"37.241578\"/>\r\n     <use style=\"fill:#1f77b4;stroke:#1f77b4;\" x=\"133.044873\" xlink:href=\"#m9f61063149\" y=\"212.692253\"/>\r\n     <use style=\"fill:#1f77b4;stroke:#1f77b4;\" x=\"122.951257\" xlink:href=\"#m9f61063149\" y=\"214.137816\"/>\r\n     <use style=\"fill:#1f77b4;stroke:#1f77b4;\" x=\"361.130965\" xlink:href=\"#m9f61063149\" y=\"71.491389\"/>\r\n     <use style=\"fill:#1f77b4;stroke:#1f77b4;\" x=\"189.627465\" xlink:href=\"#m9f61063149\" y=\"179.660367\"/>\r\n     <use style=\"fill:#1f77b4;stroke:#1f77b4;\" x=\"160.565062\" xlink:href=\"#m9f61063149\" y=\"217.369349\"/>\r\n     <use style=\"fill:#1f77b4;stroke:#1f77b4;\" x=\"340.975269\" xlink:href=\"#m9f61063149\" y=\"79.273067\"/>\r\n     <use style=\"fill:#1f77b4;stroke:#1f77b4;\" x=\"79.234013\" xlink:href=\"#m9f61063149\" y=\"237.54979\"/>\r\n     <use style=\"fill:#1f77b4;stroke:#1f77b4;\" x=\"349.363287\" xlink:href=\"#m9f61063149\" y=\"79.534955\"/>\r\n     <use style=\"fill:#1f77b4;stroke:#1f77b4;\" x=\"248.287398\" xlink:href=\"#m9f61063149\" y=\"125.93326\"/>\r\n     <use style=\"fill:#1f77b4;stroke:#1f77b4;\" x=\"328.363716\" xlink:href=\"#m9f61063149\" y=\"101.938541\"/>\r\n     <use style=\"fill:#1f77b4;stroke:#1f77b4;\" x=\"368.469422\" xlink:href=\"#m9f61063149\" y=\"49.190606\"/>\r\n     <use style=\"fill:#1f77b4;stroke:#1f77b4;\" x=\"89.841923\" xlink:href=\"#m9f61063149\" y=\"260.19805\"/>\r\n     <use style=\"fill:#1f77b4;stroke:#1f77b4;\" x=\"74.749182\" xlink:href=\"#m9f61063149\" y=\"268.666732\"/>\r\n     <use style=\"fill:#1f77b4;stroke:#1f77b4;\" x=\"265.631315\" xlink:href=\"#m9f61063149\" y=\"131.490452\"/>\r\n     <use style=\"fill:#1f77b4;stroke:#1f77b4;\" x=\"297.661487\" xlink:href=\"#m9f61063149\" y=\"110.327749\"/>\r\n     <use style=\"fill:#1f77b4;stroke:#1f77b4;\" x=\"307.78202\" xlink:href=\"#m9f61063149\" y=\"79.035619\"/>\r\n     <use style=\"fill:#1f77b4;stroke:#1f77b4;\" x=\"70.96816\" xlink:href=\"#m9f61063149\" y=\"247.033042\"/>\r\n     <use style=\"fill:#1f77b4;stroke:#1f77b4;\" x=\"268.666398\" xlink:href=\"#m9f61063149\" y=\"137.037566\"/>\r\n     <use style=\"fill:#1f77b4;stroke:#1f77b4;\" x=\"343.43952\" xlink:href=\"#m9f61063149\" y=\"73.824645\"/>\r\n     <use style=\"fill:#1f77b4;stroke:#1f77b4;\" x=\"212.515844\" xlink:href=\"#m9f61063149\" y=\"161.762943\"/>\r\n     <use style=\"fill:#1f77b4;stroke:#1f77b4;\" x=\"172.409721\" xlink:href=\"#m9f61063149\" y=\"183.025901\"/>\r\n     <use style=\"fill:#1f77b4;stroke:#1f77b4;\" x=\"332.874665\" xlink:href=\"#m9f61063149\" y=\"89.337597\"/>\r\n     <use style=\"fill:#1f77b4;stroke:#1f77b4;\" x=\"324.36608\" xlink:href=\"#m9f61063149\" y=\"93.001619\"/>\r\n     <use style=\"fill:#1f77b4;stroke:#1f77b4;\" x=\"231.710695\" xlink:href=\"#m9f61063149\" y=\"166.097216\"/>\r\n     <use style=\"fill:#1f77b4;stroke:#1f77b4;\" x=\"128.62667\" xlink:href=\"#m9f61063149\" y=\"225.695977\"/>\r\n     <use style=\"fill:#1f77b4;stroke:#1f77b4;\" x=\"390.621461\" xlink:href=\"#m9f61063149\" y=\"49.100954\"/>\r\n     <use style=\"fill:#1f77b4;stroke:#1f77b4;\" x=\"160.88443\" xlink:href=\"#m9f61063149\" y=\"199.938592\"/>\r\n     <use style=\"fill:#1f77b4;stroke:#1f77b4;\" x=\"107.63336\" xlink:href=\"#m9f61063149\" y=\"232.727516\"/>\r\n     <use style=\"fill:#1f77b4;stroke:#1f77b4;\" x=\"167.71003\" xlink:href=\"#m9f61063149\" y=\"178.966785\"/>\r\n     <use style=\"fill:#1f77b4;stroke:#1f77b4;\" x=\"305.553809\" xlink:href=\"#m9f61063149\" y=\"99.832052\"/>\r\n     <use style=\"fill:#1f77b4;stroke:#1f77b4;\" x=\"99.392028\" xlink:href=\"#m9f61063149\" y=\"249.700673\"/>\r\n     <use style=\"fill:#1f77b4;stroke:#1f77b4;\" x=\"184.020036\" xlink:href=\"#m9f61063149\" y=\"181.013885\"/>\r\n     <use style=\"fill:#1f77b4;stroke:#1f77b4;\" x=\"60.898334\" xlink:href=\"#m9f61063149\" y=\"261.079147\"/>\r\n     <use style=\"fill:#1f77b4;stroke:#1f77b4;\" x=\"127.33912\" xlink:href=\"#m9f61063149\" y=\"216.992095\"/>\r\n     <use style=\"fill:#1f77b4;stroke:#1f77b4;\" x=\"371.12572\" xlink:href=\"#m9f61063149\" y=\"64.600637\"/>\r\n     <use style=\"fill:#1f77b4;stroke:#1f77b4;\" x=\"218.06854\" xlink:href=\"#m9f61063149\" y=\"178.157773\"/>\r\n     <use style=\"fill:#1f77b4;stroke:#1f77b4;\" x=\"242.029287\" xlink:href=\"#m9f61063149\" y=\"149.303373\"/>\r\n     <use style=\"fill:#1f77b4;stroke:#1f77b4;\" x=\"108.132332\" xlink:href=\"#m9f61063149\" y=\"254.296259\"/>\r\n     <use style=\"fill:#1f77b4;stroke:#1f77b4;\" x=\"81.66474\" xlink:href=\"#m9f61063149\" y=\"250.221712\"/>\r\n     <use style=\"fill:#1f77b4;stroke:#1f77b4;\" x=\"118.458032\" xlink:href=\"#m9f61063149\" y=\"226.46616\"/>\r\n     <use style=\"fill:#1f77b4;stroke:#1f77b4;\" x=\"348.07078\" xlink:href=\"#m9f61063149\" y=\"64.656952\"/>\r\n     <use style=\"fill:#1f77b4;stroke:#1f77b4;\" x=\"172.461004\" xlink:href=\"#m9f61063149\" y=\"174.048867\"/>\r\n     <use style=\"fill:#1f77b4;stroke:#1f77b4;\" x=\"386.709066\" xlink:href=\"#m9f61063149\" y=\"47.057105\"/>\r\n     <use style=\"fill:#1f77b4;stroke:#1f77b4;\" x=\"174.403252\" xlink:href=\"#m9f61063149\" y=\"204.877894\"/>\r\n     <use style=\"fill:#1f77b4;stroke:#1f77b4;\" x=\"186.774536\" xlink:href=\"#m9f61063149\" y=\"185.34816\"/>\r\n    </g>\r\n   </g>\r\n   <g id=\"matplotlib.axis_1\">\r\n    <g id=\"xtick_1\">\r\n     <g id=\"line2d_1\">\r\n      <defs>\r\n       <path d=\"M 0 0 \r\nL 0 3.5 \r\n\" id=\"m81ed89b15d\" style=\"stroke:#000000;stroke-width:0.8;\"/>\r\n      </defs>\r\n      <g>\r\n       <use style=\"stroke:#000000;stroke-width:0.8;\" x=\"58.971985\" xlink:href=\"#m81ed89b15d\" y=\"385.718125\"/>\r\n      </g>\r\n     </g>\r\n     <g id=\"text_1\">\r\n      <!-- 0.0 -->\r\n      <g transform=\"translate(51.020423 400.316562)scale(0.1 -0.1)\">\r\n       <defs>\r\n        <path d=\"M 2034 4250 \r\nQ 1547 4250 1301 3770 \r\nQ 1056 3291 1056 2328 \r\nQ 1056 1369 1301 889 \r\nQ 1547 409 2034 409 \r\nQ 2525 409 2770 889 \r\nQ 3016 1369 3016 2328 \r\nQ 3016 3291 2770 3770 \r\nQ 2525 4250 2034 4250 \r\nz\r\nM 2034 4750 \r\nQ 2819 4750 3233 4129 \r\nQ 3647 3509 3647 2328 \r\nQ 3647 1150 3233 529 \r\nQ 2819 -91 2034 -91 \r\nQ 1250 -91 836 529 \r\nQ 422 1150 422 2328 \r\nQ 422 3509 836 4129 \r\nQ 1250 4750 2034 4750 \r\nz\r\n\" id=\"DejaVuSans-30\" transform=\"scale(0.015625)\"/>\r\n        <path d=\"M 684 794 \r\nL 1344 794 \r\nL 1344 0 \r\nL 684 0 \r\nL 684 794 \r\nz\r\n\" id=\"DejaVuSans-2e\" transform=\"scale(0.015625)\"/>\r\n       </defs>\r\n       <use xlink:href=\"#DejaVuSans-30\"/>\r\n       <use x=\"63.623047\" xlink:href=\"#DejaVuSans-2e\"/>\r\n       <use x=\"95.410156\" xlink:href=\"#DejaVuSans-30\"/>\r\n      </g>\r\n     </g>\r\n    </g>\r\n    <g id=\"xtick_2\">\r\n     <g id=\"line2d_2\">\r\n      <g>\r\n       <use style=\"stroke:#000000;stroke-width:0.8;\" x=\"128.740468\" xlink:href=\"#m81ed89b15d\" y=\"385.718125\"/>\r\n      </g>\r\n     </g>\r\n     <g id=\"text_2\">\r\n      <!-- 0.2 -->\r\n      <g transform=\"translate(120.788906 400.316562)scale(0.1 -0.1)\">\r\n       <defs>\r\n        <path d=\"M 1228 531 \r\nL 3431 531 \r\nL 3431 0 \r\nL 469 0 \r\nL 469 531 \r\nQ 828 903 1448 1529 \r\nQ 2069 2156 2228 2338 \r\nQ 2531 2678 2651 2914 \r\nQ 2772 3150 2772 3378 \r\nQ 2772 3750 2511 3984 \r\nQ 2250 4219 1831 4219 \r\nQ 1534 4219 1204 4116 \r\nQ 875 4013 500 3803 \r\nL 500 4441 \r\nQ 881 4594 1212 4672 \r\nQ 1544 4750 1819 4750 \r\nQ 2544 4750 2975 4387 \r\nQ 3406 4025 3406 3419 \r\nQ 3406 3131 3298 2873 \r\nQ 3191 2616 2906 2266 \r\nQ 2828 2175 2409 1742 \r\nQ 1991 1309 1228 531 \r\nz\r\n\" id=\"DejaVuSans-32\" transform=\"scale(0.015625)\"/>\r\n       </defs>\r\n       <use xlink:href=\"#DejaVuSans-30\"/>\r\n       <use x=\"63.623047\" xlink:href=\"#DejaVuSans-2e\"/>\r\n       <use x=\"95.410156\" xlink:href=\"#DejaVuSans-32\"/>\r\n      </g>\r\n     </g>\r\n    </g>\r\n    <g id=\"xtick_3\">\r\n     <g id=\"line2d_3\">\r\n      <g>\r\n       <use style=\"stroke:#000000;stroke-width:0.8;\" x=\"198.508952\" xlink:href=\"#m81ed89b15d\" y=\"385.718125\"/>\r\n      </g>\r\n     </g>\r\n     <g id=\"text_3\">\r\n      <!-- 0.4 -->\r\n      <g transform=\"translate(190.557389 400.316562)scale(0.1 -0.1)\">\r\n       <defs>\r\n        <path d=\"M 2419 4116 \r\nL 825 1625 \r\nL 2419 1625 \r\nL 2419 4116 \r\nz\r\nM 2253 4666 \r\nL 3047 4666 \r\nL 3047 1625 \r\nL 3713 1625 \r\nL 3713 1100 \r\nL 3047 1100 \r\nL 3047 0 \r\nL 2419 0 \r\nL 2419 1100 \r\nL 313 1100 \r\nL 313 1709 \r\nL 2253 4666 \r\nz\r\n\" id=\"DejaVuSans-34\" transform=\"scale(0.015625)\"/>\r\n       </defs>\r\n       <use xlink:href=\"#DejaVuSans-30\"/>\r\n       <use x=\"63.623047\" xlink:href=\"#DejaVuSans-2e\"/>\r\n       <use x=\"95.410156\" xlink:href=\"#DejaVuSans-34\"/>\r\n      </g>\r\n     </g>\r\n    </g>\r\n    <g id=\"xtick_4\">\r\n     <g id=\"line2d_4\">\r\n      <g>\r\n       <use style=\"stroke:#000000;stroke-width:0.8;\" x=\"268.277435\" xlink:href=\"#m81ed89b15d\" y=\"385.718125\"/>\r\n      </g>\r\n     </g>\r\n     <g id=\"text_4\">\r\n      <!-- 0.6 -->\r\n      <g transform=\"translate(260.325872 400.316562)scale(0.1 -0.1)\">\r\n       <defs>\r\n        <path d=\"M 2113 2584 \r\nQ 1688 2584 1439 2293 \r\nQ 1191 2003 1191 1497 \r\nQ 1191 994 1439 701 \r\nQ 1688 409 2113 409 \r\nQ 2538 409 2786 701 \r\nQ 3034 994 3034 1497 \r\nQ 3034 2003 2786 2293 \r\nQ 2538 2584 2113 2584 \r\nz\r\nM 3366 4563 \r\nL 3366 3988 \r\nQ 3128 4100 2886 4159 \r\nQ 2644 4219 2406 4219 \r\nQ 1781 4219 1451 3797 \r\nQ 1122 3375 1075 2522 \r\nQ 1259 2794 1537 2939 \r\nQ 1816 3084 2150 3084 \r\nQ 2853 3084 3261 2657 \r\nQ 3669 2231 3669 1497 \r\nQ 3669 778 3244 343 \r\nQ 2819 -91 2113 -91 \r\nQ 1303 -91 875 529 \r\nQ 447 1150 447 2328 \r\nQ 447 3434 972 4092 \r\nQ 1497 4750 2381 4750 \r\nQ 2619 4750 2861 4703 \r\nQ 3103 4656 3366 4563 \r\nz\r\n\" id=\"DejaVuSans-36\" transform=\"scale(0.015625)\"/>\r\n       </defs>\r\n       <use xlink:href=\"#DejaVuSans-30\"/>\r\n       <use x=\"63.623047\" xlink:href=\"#DejaVuSans-2e\"/>\r\n       <use x=\"95.410156\" xlink:href=\"#DejaVuSans-36\"/>\r\n      </g>\r\n     </g>\r\n    </g>\r\n    <g id=\"xtick_5\">\r\n     <g id=\"line2d_5\">\r\n      <g>\r\n       <use style=\"stroke:#000000;stroke-width:0.8;\" x=\"338.045918\" xlink:href=\"#m81ed89b15d\" y=\"385.718125\"/>\r\n      </g>\r\n     </g>\r\n     <g id=\"text_5\">\r\n      <!-- 0.8 -->\r\n      <g transform=\"translate(330.094355 400.316562)scale(0.1 -0.1)\">\r\n       <defs>\r\n        <path d=\"M 2034 2216 \r\nQ 1584 2216 1326 1975 \r\nQ 1069 1734 1069 1313 \r\nQ 1069 891 1326 650 \r\nQ 1584 409 2034 409 \r\nQ 2484 409 2743 651 \r\nQ 3003 894 3003 1313 \r\nQ 3003 1734 2745 1975 \r\nQ 2488 2216 2034 2216 \r\nz\r\nM 1403 2484 \r\nQ 997 2584 770 2862 \r\nQ 544 3141 544 3541 \r\nQ 544 4100 942 4425 \r\nQ 1341 4750 2034 4750 \r\nQ 2731 4750 3128 4425 \r\nQ 3525 4100 3525 3541 \r\nQ 3525 3141 3298 2862 \r\nQ 3072 2584 2669 2484 \r\nQ 3125 2378 3379 2068 \r\nQ 3634 1759 3634 1313 \r\nQ 3634 634 3220 271 \r\nQ 2806 -91 2034 -91 \r\nQ 1263 -91 848 271 \r\nQ 434 634 434 1313 \r\nQ 434 1759 690 2068 \r\nQ 947 2378 1403 2484 \r\nz\r\nM 1172 3481 \r\nQ 1172 3119 1398 2916 \r\nQ 1625 2713 2034 2713 \r\nQ 2441 2713 2670 2916 \r\nQ 2900 3119 2900 3481 \r\nQ 2900 3844 2670 4047 \r\nQ 2441 4250 2034 4250 \r\nQ 1625 4250 1398 4047 \r\nQ 1172 3844 1172 3481 \r\nz\r\n\" id=\"DejaVuSans-38\" transform=\"scale(0.015625)\"/>\r\n       </defs>\r\n       <use xlink:href=\"#DejaVuSans-30\"/>\r\n       <use x=\"63.623047\" xlink:href=\"#DejaVuSans-2e\"/>\r\n       <use x=\"95.410156\" xlink:href=\"#DejaVuSans-38\"/>\r\n      </g>\r\n     </g>\r\n    </g>\r\n    <g id=\"xtick_6\">\r\n     <g id=\"line2d_6\">\r\n      <g>\r\n       <use style=\"stroke:#000000;stroke-width:0.8;\" x=\"407.814401\" xlink:href=\"#m81ed89b15d\" y=\"385.718125\"/>\r\n      </g>\r\n     </g>\r\n     <g id=\"text_6\">\r\n      <!-- 1.0 -->\r\n      <g transform=\"translate(399.862839 400.316562)scale(0.1 -0.1)\">\r\n       <defs>\r\n        <path d=\"M 794 531 \r\nL 1825 531 \r\nL 1825 4091 \r\nL 703 3866 \r\nL 703 4441 \r\nL 1819 4666 \r\nL 2450 4666 \r\nL 2450 531 \r\nL 3481 531 \r\nL 3481 0 \r\nL 794 0 \r\nL 794 531 \r\nz\r\n\" id=\"DejaVuSans-31\" transform=\"scale(0.015625)\"/>\r\n       </defs>\r\n       <use xlink:href=\"#DejaVuSans-31\"/>\r\n       <use x=\"63.623047\" xlink:href=\"#DejaVuSans-2e\"/>\r\n       <use x=\"95.410156\" xlink:href=\"#DejaVuSans-30\"/>\r\n      </g>\r\n     </g>\r\n    </g>\r\n    <g id=\"text_7\">\r\n     <!-- x -->\r\n     <g transform=\"translate(229.109796 413.994687)scale(0.1 -0.1)\">\r\n      <defs>\r\n       <path d=\"M 3513 3500 \r\nL 2247 1797 \r\nL 3578 0 \r\nL 2900 0 \r\nL 1881 1375 \r\nL 863 0 \r\nL 184 0 \r\nL 1544 1831 \r\nL 300 3500 \r\nL 978 3500 \r\nL 1906 2253 \r\nL 2834 3500 \r\nL 3513 3500 \r\nz\r\n\" id=\"DejaVuSans-78\" transform=\"scale(0.015625)\"/>\r\n      </defs>\r\n      <use xlink:href=\"#DejaVuSans-78\"/>\r\n     </g>\r\n    </g>\r\n   </g>\r\n   <g id=\"matplotlib.axis_2\">\r\n    <g id=\"ytick_1\">\r\n     <g id=\"line2d_7\">\r\n      <defs>\r\n       <path d=\"M 0 0 \r\nL -3.5 0 \r\n\" id=\"m52eebfb77f\" style=\"stroke:#000000;stroke-width:0.8;\"/>\r\n      </defs>\r\n      <g>\r\n       <use style=\"stroke:#000000;stroke-width:0.8;\" x=\"43.78125\" xlink:href=\"#m52eebfb77f\" y=\"385.718125\"/>\r\n      </g>\r\n     </g>\r\n     <g id=\"text_8\">\r\n      <!-- 0.0 -->\r\n      <g transform=\"translate(20.878125 389.517344)scale(0.1 -0.1)\">\r\n       <use xlink:href=\"#DejaVuSans-30\"/>\r\n       <use x=\"63.623047\" xlink:href=\"#DejaVuSans-2e\"/>\r\n       <use x=\"95.410156\" xlink:href=\"#DejaVuSans-30\"/>\r\n      </g>\r\n     </g>\r\n    </g>\r\n    <g id=\"ytick_2\">\r\n     <g id=\"line2d_8\">\r\n      <g>\r\n       <use style=\"stroke:#000000;stroke-width:0.8;\" x=\"43.78125\" xlink:href=\"#m52eebfb77f\" y=\"327.105222\"/>\r\n      </g>\r\n     </g>\r\n     <g id=\"text_9\">\r\n      <!-- 0.5 -->\r\n      <g transform=\"translate(20.878125 330.904441)scale(0.1 -0.1)\">\r\n       <defs>\r\n        <path d=\"M 691 4666 \r\nL 3169 4666 \r\nL 3169 4134 \r\nL 1269 4134 \r\nL 1269 2991 \r\nQ 1406 3038 1543 3061 \r\nQ 1681 3084 1819 3084 \r\nQ 2600 3084 3056 2656 \r\nQ 3513 2228 3513 1497 \r\nQ 3513 744 3044 326 \r\nQ 2575 -91 1722 -91 \r\nQ 1428 -91 1123 -41 \r\nQ 819 9 494 109 \r\nL 494 744 \r\nQ 775 591 1075 516 \r\nQ 1375 441 1709 441 \r\nQ 2250 441 2565 725 \r\nQ 2881 1009 2881 1497 \r\nQ 2881 1984 2565 2268 \r\nQ 2250 2553 1709 2553 \r\nQ 1456 2553 1204 2497 \r\nQ 953 2441 691 2322 \r\nL 691 4666 \r\nz\r\n\" id=\"DejaVuSans-35\" transform=\"scale(0.015625)\"/>\r\n       </defs>\r\n       <use xlink:href=\"#DejaVuSans-30\"/>\r\n       <use x=\"63.623047\" xlink:href=\"#DejaVuSans-2e\"/>\r\n       <use x=\"95.410156\" xlink:href=\"#DejaVuSans-35\"/>\r\n      </g>\r\n     </g>\r\n    </g>\r\n    <g id=\"ytick_3\">\r\n     <g id=\"line2d_9\">\r\n      <g>\r\n       <use style=\"stroke:#000000;stroke-width:0.8;\" x=\"43.78125\" xlink:href=\"#m52eebfb77f\" y=\"268.492319\"/>\r\n      </g>\r\n     </g>\r\n     <g id=\"text_10\">\r\n      <!-- 1.0 -->\r\n      <g transform=\"translate(20.878125 272.291537)scale(0.1 -0.1)\">\r\n       <use xlink:href=\"#DejaVuSans-31\"/>\r\n       <use x=\"63.623047\" xlink:href=\"#DejaVuSans-2e\"/>\r\n       <use x=\"95.410156\" xlink:href=\"#DejaVuSans-30\"/>\r\n      </g>\r\n     </g>\r\n    </g>\r\n    <g id=\"ytick_4\">\r\n     <g id=\"line2d_10\">\r\n      <g>\r\n       <use style=\"stroke:#000000;stroke-width:0.8;\" x=\"43.78125\" xlink:href=\"#m52eebfb77f\" y=\"209.879415\"/>\r\n      </g>\r\n     </g>\r\n     <g id=\"text_11\">\r\n      <!-- 1.5 -->\r\n      <g transform=\"translate(20.878125 213.678634)scale(0.1 -0.1)\">\r\n       <use xlink:href=\"#DejaVuSans-31\"/>\r\n       <use x=\"63.623047\" xlink:href=\"#DejaVuSans-2e\"/>\r\n       <use x=\"95.410156\" xlink:href=\"#DejaVuSans-35\"/>\r\n      </g>\r\n     </g>\r\n    </g>\r\n    <g id=\"ytick_5\">\r\n     <g id=\"line2d_11\">\r\n      <g>\r\n       <use style=\"stroke:#000000;stroke-width:0.8;\" x=\"43.78125\" xlink:href=\"#m52eebfb77f\" y=\"151.266512\"/>\r\n      </g>\r\n     </g>\r\n     <g id=\"text_12\">\r\n      <!-- 2.0 -->\r\n      <g transform=\"translate(20.878125 155.065731)scale(0.1 -0.1)\">\r\n       <use xlink:href=\"#DejaVuSans-32\"/>\r\n       <use x=\"63.623047\" xlink:href=\"#DejaVuSans-2e\"/>\r\n       <use x=\"95.410156\" xlink:href=\"#DejaVuSans-30\"/>\r\n      </g>\r\n     </g>\r\n    </g>\r\n    <g id=\"ytick_6\">\r\n     <g id=\"line2d_12\">\r\n      <g>\r\n       <use style=\"stroke:#000000;stroke-width:0.8;\" x=\"43.78125\" xlink:href=\"#m52eebfb77f\" y=\"92.653609\"/>\r\n      </g>\r\n     </g>\r\n     <g id=\"text_13\">\r\n      <!-- 2.5 -->\r\n      <g transform=\"translate(20.878125 96.452828)scale(0.1 -0.1)\">\r\n       <use xlink:href=\"#DejaVuSans-32\"/>\r\n       <use x=\"63.623047\" xlink:href=\"#DejaVuSans-2e\"/>\r\n       <use x=\"95.410156\" xlink:href=\"#DejaVuSans-35\"/>\r\n      </g>\r\n     </g>\r\n    </g>\r\n    <g id=\"ytick_7\">\r\n     <g id=\"line2d_13\">\r\n      <g>\r\n       <use style=\"stroke:#000000;stroke-width:0.8;\" x=\"43.78125\" xlink:href=\"#m52eebfb77f\" y=\"34.040706\"/>\r\n      </g>\r\n     </g>\r\n     <g id=\"text_14\">\r\n      <!-- 3.0 -->\r\n      <g transform=\"translate(20.878125 37.839924)scale(0.1 -0.1)\">\r\n       <defs>\r\n        <path d=\"M 2597 2516 \r\nQ 3050 2419 3304 2112 \r\nQ 3559 1806 3559 1356 \r\nQ 3559 666 3084 287 \r\nQ 2609 -91 1734 -91 \r\nQ 1441 -91 1130 -33 \r\nQ 819 25 488 141 \r\nL 488 750 \r\nQ 750 597 1062 519 \r\nQ 1375 441 1716 441 \r\nQ 2309 441 2620 675 \r\nQ 2931 909 2931 1356 \r\nQ 2931 1769 2642 2001 \r\nQ 2353 2234 1838 2234 \r\nL 1294 2234 \r\nL 1294 2753 \r\nL 1863 2753 \r\nQ 2328 2753 2575 2939 \r\nQ 2822 3125 2822 3475 \r\nQ 2822 3834 2567 4026 \r\nQ 2313 4219 1838 4219 \r\nQ 1578 4219 1281 4162 \r\nQ 984 4106 628 3988 \r\nL 628 4550 \r\nQ 988 4650 1302 4700 \r\nQ 1616 4750 1894 4750 \r\nQ 2613 4750 3031 4423 \r\nQ 3450 4097 3450 3541 \r\nQ 3450 3153 3228 2886 \r\nQ 3006 2619 2597 2516 \r\nz\r\n\" id=\"DejaVuSans-33\" transform=\"scale(0.015625)\"/>\r\n       </defs>\r\n       <use xlink:href=\"#DejaVuSans-33\"/>\r\n       <use x=\"63.623047\" xlink:href=\"#DejaVuSans-2e\"/>\r\n       <use x=\"95.410156\" xlink:href=\"#DejaVuSans-30\"/>\r\n      </g>\r\n     </g>\r\n    </g>\r\n    <g id=\"text_15\">\r\n     <!-- y -->\r\n     <g transform=\"translate(14.798438 206.9775)rotate(-90)scale(0.1 -0.1)\">\r\n      <defs>\r\n       <path d=\"M 2059 -325 \r\nQ 1816 -950 1584 -1140 \r\nQ 1353 -1331 966 -1331 \r\nL 506 -1331 \r\nL 506 -850 \r\nL 844 -850 \r\nQ 1081 -850 1212 -737 \r\nQ 1344 -625 1503 -206 \r\nL 1606 56 \r\nL 191 3500 \r\nL 800 3500 \r\nL 1894 763 \r\nL 2988 3500 \r\nL 3597 3500 \r\nL 2059 -325 \r\nz\r\n\" id=\"DejaVuSans-79\" transform=\"scale(0.015625)\"/>\r\n      </defs>\r\n      <use xlink:href=\"#DejaVuSans-79\"/>\r\n     </g>\r\n    </g>\r\n   </g>\r\n   <g id=\"patch_3\">\r\n    <path d=\"M 43.78125 385.718125 \r\nL 43.78125 22.318125 \r\n\" style=\"fill:none;stroke:#000000;stroke-linecap:square;stroke-linejoin:miter;stroke-width:0.8;\"/>\r\n   </g>\r\n   <g id=\"patch_4\">\r\n    <path d=\"M 420.357092 385.718125 \r\nL 420.357092 22.318125 \r\n\" style=\"fill:none;stroke:#000000;stroke-linecap:square;stroke-linejoin:miter;stroke-width:0.8;\"/>\r\n   </g>\r\n   <g id=\"patch_5\">\r\n    <path d=\"M 43.78125 385.718125 \r\nL 420.357092 385.718125 \r\n\" style=\"fill:none;stroke:#000000;stroke-linecap:square;stroke-linejoin:miter;stroke-width:0.8;\"/>\r\n   </g>\r\n   <g id=\"patch_6\">\r\n    <path d=\"M 43.78125 22.318125 \r\nL 420.357092 22.318125 \r\n\" style=\"fill:none;stroke:#000000;stroke-linecap:square;stroke-linejoin:miter;stroke-width:0.8;\"/>\r\n   </g>\r\n   <g id=\"text_16\">\r\n    <!-- Generated Data - Train -->\r\n    <g transform=\"translate(163.633546 16.318125)scale(0.12 -0.12)\">\r\n     <defs>\r\n      <path d=\"M 3809 666 \r\nL 3809 1919 \r\nL 2778 1919 \r\nL 2778 2438 \r\nL 4434 2438 \r\nL 4434 434 \r\nQ 4069 175 3628 42 \r\nQ 3188 -91 2688 -91 \r\nQ 1594 -91 976 548 \r\nQ 359 1188 359 2328 \r\nQ 359 3472 976 4111 \r\nQ 1594 4750 2688 4750 \r\nQ 3144 4750 3555 4637 \r\nQ 3966 4525 4313 4306 \r\nL 4313 3634 \r\nQ 3963 3931 3569 4081 \r\nQ 3175 4231 2741 4231 \r\nQ 1884 4231 1454 3753 \r\nQ 1025 3275 1025 2328 \r\nQ 1025 1384 1454 906 \r\nQ 1884 428 2741 428 \r\nQ 3075 428 3337 486 \r\nQ 3600 544 3809 666 \r\nz\r\n\" id=\"DejaVuSans-47\" transform=\"scale(0.015625)\"/>\r\n      <path d=\"M 3597 1894 \r\nL 3597 1613 \r\nL 953 1613 \r\nQ 991 1019 1311 708 \r\nQ 1631 397 2203 397 \r\nQ 2534 397 2845 478 \r\nQ 3156 559 3463 722 \r\nL 3463 178 \r\nQ 3153 47 2828 -22 \r\nQ 2503 -91 2169 -91 \r\nQ 1331 -91 842 396 \r\nQ 353 884 353 1716 \r\nQ 353 2575 817 3079 \r\nQ 1281 3584 2069 3584 \r\nQ 2775 3584 3186 3129 \r\nQ 3597 2675 3597 1894 \r\nz\r\nM 3022 2063 \r\nQ 3016 2534 2758 2815 \r\nQ 2500 3097 2075 3097 \r\nQ 1594 3097 1305 2825 \r\nQ 1016 2553 972 2059 \r\nL 3022 2063 \r\nz\r\n\" id=\"DejaVuSans-65\" transform=\"scale(0.015625)\"/>\r\n      <path d=\"M 3513 2113 \r\nL 3513 0 \r\nL 2938 0 \r\nL 2938 2094 \r\nQ 2938 2591 2744 2837 \r\nQ 2550 3084 2163 3084 \r\nQ 1697 3084 1428 2787 \r\nQ 1159 2491 1159 1978 \r\nL 1159 0 \r\nL 581 0 \r\nL 581 3500 \r\nL 1159 3500 \r\nL 1159 2956 \r\nQ 1366 3272 1645 3428 \r\nQ 1925 3584 2291 3584 \r\nQ 2894 3584 3203 3211 \r\nQ 3513 2838 3513 2113 \r\nz\r\n\" id=\"DejaVuSans-6e\" transform=\"scale(0.015625)\"/>\r\n      <path d=\"M 2631 2963 \r\nQ 2534 3019 2420 3045 \r\nQ 2306 3072 2169 3072 \r\nQ 1681 3072 1420 2755 \r\nQ 1159 2438 1159 1844 \r\nL 1159 0 \r\nL 581 0 \r\nL 581 3500 \r\nL 1159 3500 \r\nL 1159 2956 \r\nQ 1341 3275 1631 3429 \r\nQ 1922 3584 2338 3584 \r\nQ 2397 3584 2469 3576 \r\nQ 2541 3569 2628 3553 \r\nL 2631 2963 \r\nz\r\n\" id=\"DejaVuSans-72\" transform=\"scale(0.015625)\"/>\r\n      <path d=\"M 2194 1759 \r\nQ 1497 1759 1228 1600 \r\nQ 959 1441 959 1056 \r\nQ 959 750 1161 570 \r\nQ 1363 391 1709 391 \r\nQ 2188 391 2477 730 \r\nQ 2766 1069 2766 1631 \r\nL 2766 1759 \r\nL 2194 1759 \r\nz\r\nM 3341 1997 \r\nL 3341 0 \r\nL 2766 0 \r\nL 2766 531 \r\nQ 2569 213 2275 61 \r\nQ 1981 -91 1556 -91 \r\nQ 1019 -91 701 211 \r\nQ 384 513 384 1019 \r\nQ 384 1609 779 1909 \r\nQ 1175 2209 1959 2209 \r\nL 2766 2209 \r\nL 2766 2266 \r\nQ 2766 2663 2505 2880 \r\nQ 2244 3097 1772 3097 \r\nQ 1472 3097 1187 3025 \r\nQ 903 2953 641 2809 \r\nL 641 3341 \r\nQ 956 3463 1253 3523 \r\nQ 1550 3584 1831 3584 \r\nQ 2591 3584 2966 3190 \r\nQ 3341 2797 3341 1997 \r\nz\r\n\" id=\"DejaVuSans-61\" transform=\"scale(0.015625)\"/>\r\n      <path d=\"M 1172 4494 \r\nL 1172 3500 \r\nL 2356 3500 \r\nL 2356 3053 \r\nL 1172 3053 \r\nL 1172 1153 \r\nQ 1172 725 1289 603 \r\nQ 1406 481 1766 481 \r\nL 2356 481 \r\nL 2356 0 \r\nL 1766 0 \r\nQ 1100 0 847 248 \r\nQ 594 497 594 1153 \r\nL 594 3053 \r\nL 172 3053 \r\nL 172 3500 \r\nL 594 3500 \r\nL 594 4494 \r\nL 1172 4494 \r\nz\r\n\" id=\"DejaVuSans-74\" transform=\"scale(0.015625)\"/>\r\n      <path d=\"M 2906 2969 \r\nL 2906 4863 \r\nL 3481 4863 \r\nL 3481 0 \r\nL 2906 0 \r\nL 2906 525 \r\nQ 2725 213 2448 61 \r\nQ 2172 -91 1784 -91 \r\nQ 1150 -91 751 415 \r\nQ 353 922 353 1747 \r\nQ 353 2572 751 3078 \r\nQ 1150 3584 1784 3584 \r\nQ 2172 3584 2448 3432 \r\nQ 2725 3281 2906 2969 \r\nz\r\nM 947 1747 \r\nQ 947 1113 1208 752 \r\nQ 1469 391 1925 391 \r\nQ 2381 391 2643 752 \r\nQ 2906 1113 2906 1747 \r\nQ 2906 2381 2643 2742 \r\nQ 2381 3103 1925 3103 \r\nQ 1469 3103 1208 2742 \r\nQ 947 2381 947 1747 \r\nz\r\n\" id=\"DejaVuSans-64\" transform=\"scale(0.015625)\"/>\r\n      <path id=\"DejaVuSans-20\" transform=\"scale(0.015625)\"/>\r\n      <path d=\"M 1259 4147 \r\nL 1259 519 \r\nL 2022 519 \r\nQ 2988 519 3436 956 \r\nQ 3884 1394 3884 2338 \r\nQ 3884 3275 3436 3711 \r\nQ 2988 4147 2022 4147 \r\nL 1259 4147 \r\nz\r\nM 628 4666 \r\nL 1925 4666 \r\nQ 3281 4666 3915 4102 \r\nQ 4550 3538 4550 2338 \r\nQ 4550 1131 3912 565 \r\nQ 3275 0 1925 0 \r\nL 628 0 \r\nL 628 4666 \r\nz\r\n\" id=\"DejaVuSans-44\" transform=\"scale(0.015625)\"/>\r\n      <path d=\"M 313 2009 \r\nL 1997 2009 \r\nL 1997 1497 \r\nL 313 1497 \r\nL 313 2009 \r\nz\r\n\" id=\"DejaVuSans-2d\" transform=\"scale(0.015625)\"/>\r\n      <path d=\"M -19 4666 \r\nL 3928 4666 \r\nL 3928 4134 \r\nL 2272 4134 \r\nL 2272 0 \r\nL 1638 0 \r\nL 1638 4134 \r\nL -19 4134 \r\nL -19 4666 \r\nz\r\n\" id=\"DejaVuSans-54\" transform=\"scale(0.015625)\"/>\r\n      <path d=\"M 603 3500 \r\nL 1178 3500 \r\nL 1178 0 \r\nL 603 0 \r\nL 603 3500 \r\nz\r\nM 603 4863 \r\nL 1178 4863 \r\nL 1178 4134 \r\nL 603 4134 \r\nL 603 4863 \r\nz\r\n\" id=\"DejaVuSans-69\" transform=\"scale(0.015625)\"/>\r\n     </defs>\r\n     <use xlink:href=\"#DejaVuSans-47\"/>\r\n     <use x=\"77.490234\" xlink:href=\"#DejaVuSans-65\"/>\r\n     <use x=\"139.013672\" xlink:href=\"#DejaVuSans-6e\"/>\r\n     <use x=\"202.392578\" xlink:href=\"#DejaVuSans-65\"/>\r\n     <use x=\"263.916016\" xlink:href=\"#DejaVuSans-72\"/>\r\n     <use x=\"305.029297\" xlink:href=\"#DejaVuSans-61\"/>\r\n     <use x=\"366.308594\" xlink:href=\"#DejaVuSans-74\"/>\r\n     <use x=\"405.517578\" xlink:href=\"#DejaVuSans-65\"/>\r\n     <use x=\"467.041016\" xlink:href=\"#DejaVuSans-64\"/>\r\n     <use x=\"530.517578\" xlink:href=\"#DejaVuSans-20\"/>\r\n     <use x=\"562.304688\" xlink:href=\"#DejaVuSans-44\"/>\r\n     <use x=\"639.306641\" xlink:href=\"#DejaVuSans-61\"/>\r\n     <use x=\"700.585938\" xlink:href=\"#DejaVuSans-74\"/>\r\n     <use x=\"739.794922\" xlink:href=\"#DejaVuSans-61\"/>\r\n     <use x=\"801.074219\" xlink:href=\"#DejaVuSans-20\"/>\r\n     <use x=\"832.861328\" xlink:href=\"#DejaVuSans-2d\"/>\r\n     <use x=\"868.945312\" xlink:href=\"#DejaVuSans-20\"/>\r\n     <use x=\"900.732422\" xlink:href=\"#DejaVuSans-54\"/>\r\n     <use x=\"947.066406\" xlink:href=\"#DejaVuSans-72\"/>\r\n     <use x=\"988.179688\" xlink:href=\"#DejaVuSans-61\"/>\r\n     <use x=\"1049.458984\" xlink:href=\"#DejaVuSans-69\"/>\r\n     <use x=\"1077.242188\" xlink:href=\"#DejaVuSans-6e\"/>\r\n    </g>\r\n   </g>\r\n  </g>\r\n  <g id=\"axes_2\">\r\n   <g id=\"patch_7\">\r\n    <path d=\"M 468.157092 385.718125 \r\nL 844.732934 385.718125 \r\nL 844.732934 22.318125 \r\nL 468.157092 22.318125 \r\nz\r\n\" style=\"fill:#ffffff;\"/>\r\n   </g>\r\n   <g id=\"PathCollection_2\">\r\n    <defs>\r\n     <path d=\"M 0 3 \r\nC 0.795609 3 1.55874 2.683901 2.12132 2.12132 \r\nC 2.683901 1.55874 3 0.795609 3 0 \r\nC 3 -0.795609 2.683901 -1.55874 2.12132 -2.12132 \r\nC 1.55874 -2.683901 0.795609 -3 0 -3 \r\nC -0.795609 -3 -1.55874 -2.683901 -2.12132 -2.12132 \r\nC -2.683901 -1.55874 -3 -0.795609 -3 0 \r\nC -3 0.795609 -2.683901 1.55874 -2.12132 2.12132 \r\nC -1.55874 2.683901 -0.795609 3 0 3 \r\nz\r\n\" id=\"m9fa35de15e\" style=\"stroke:#ff0000;\"/>\r\n    </defs>\r\n    <g clip-path=\"url(#p95f280a48a)\">\r\n     <use style=\"fill:#ff0000;stroke:#ff0000;\" x=\"581.425006\" xlink:href=\"#m9fa35de15e\" y=\"196.369076\"/>\r\n     <use style=\"fill:#ff0000;stroke:#ff0000;\" x=\"526.072983\" xlink:href=\"#m9fa35de15e\" y=\"227.732871\"/>\r\n     <use style=\"fill:#ff0000;stroke:#ff0000;\" x=\"714.725105\" xlink:href=\"#m9fa35de15e\" y=\"123.823268\"/>\r\n     <use style=\"fill:#ff0000;stroke:#ff0000;\" x=\"508.157379\" xlink:href=\"#m9fa35de15e\" y=\"233.500277\"/>\r\n     <use style=\"fill:#ff0000;stroke:#ff0000;\" x=\"806.643044\" xlink:href=\"#m9fa35de15e\" y=\"46.486088\"/>\r\n     <use style=\"fill:#ff0000;stroke:#ff0000;\" x=\"581.286634\" xlink:href=\"#m9fa35de15e\" y=\"205.392108\"/>\r\n     <use style=\"fill:#ff0000;stroke:#ff0000;\" x=\"671.591871\" xlink:href=\"#m9fa35de15e\" y=\"133.435732\"/>\r\n     <use style=\"fill:#ff0000;stroke:#ff0000;\" x=\"755.114519\" xlink:href=\"#m9fa35de15e\" y=\"98.165224\"/>\r\n     <use style=\"fill:#ff0000;stroke:#ff0000;\" x=\"827.615851\" xlink:href=\"#m9fa35de15e\" y=\"64.591281\"/>\r\n     <use style=\"fill:#ff0000;stroke:#ff0000;\" x=\"690.939555\" xlink:href=\"#m9fa35de15e\" y=\"151.435308\"/>\r\n     <use style=\"fill:#ff0000;stroke:#ff0000;\" x=\"628.848488\" xlink:href=\"#m9fa35de15e\" y=\"171.818632\"/>\r\n     <use style=\"fill:#ff0000;stroke:#ff0000;\" x=\"661.66918\" xlink:href=\"#m9fa35de15e\" y=\"162.994844\"/>\r\n     <use style=\"fill:#ff0000;stroke:#ff0000;\" x=\"612.733777\" xlink:href=\"#m9fa35de15e\" y=\"186.548051\"/>\r\n     <use style=\"fill:#ff0000;stroke:#ff0000;\" x=\"495.739877\" xlink:href=\"#m9fa35de15e\" y=\"247.967303\"/>\r\n     <use style=\"fill:#ff0000;stroke:#ff0000;\" x=\"600.843958\" xlink:href=\"#m9fa35de15e\" y=\"199.279832\"/>\r\n     <use style=\"fill:#ff0000;stroke:#ff0000;\" x=\"659.496509\" xlink:href=\"#m9fa35de15e\" y=\"157.333985\"/>\r\n     <use style=\"fill:#ff0000;stroke:#ff0000;\" x=\"662.661666\" xlink:href=\"#m9fa35de15e\" y=\"146.840595\"/>\r\n     <use style=\"fill:#ff0000;stroke:#ff0000;\" x=\"485.274176\" xlink:href=\"#m9fa35de15e\" y=\"252.865426\"/>\r\n     <use style=\"fill:#ff0000;stroke:#ff0000;\" x=\"695.853705\" xlink:href=\"#m9fa35de15e\" y=\"121.571127\"/>\r\n     <use style=\"fill:#ff0000;stroke:#ff0000;\" x=\"627.208254\" xlink:href=\"#m9fa35de15e\" y=\"164.255456\"/>\r\n    </g>\r\n   </g>\r\n   <g id=\"matplotlib.axis_3\">\r\n    <g id=\"xtick_7\">\r\n     <g id=\"line2d_14\">\r\n      <g>\r\n       <use style=\"stroke:#000000;stroke-width:0.8;\" x=\"542.462464\" xlink:href=\"#m81ed89b15d\" y=\"385.718125\"/>\r\n      </g>\r\n     </g>\r\n     <g id=\"text_17\">\r\n      <!-- 0.2 -->\r\n      <g transform=\"translate(534.510901 400.316562)scale(0.1 -0.1)\">\r\n       <use xlink:href=\"#DejaVuSans-30\"/>\r\n       <use x=\"63.623047\" xlink:href=\"#DejaVuSans-2e\"/>\r\n       <use x=\"95.410156\" xlink:href=\"#DejaVuSans-32\"/>\r\n      </g>\r\n     </g>\r\n    </g>\r\n    <g id=\"xtick_8\">\r\n     <g id=\"line2d_15\">\r\n      <g>\r\n       <use style=\"stroke:#000000;stroke-width:0.8;\" x=\"616.950827\" xlink:href=\"#m81ed89b15d\" y=\"385.718125\"/>\r\n      </g>\r\n     </g>\r\n     <g id=\"text_18\">\r\n      <!-- 0.4 -->\r\n      <g transform=\"translate(608.999265 400.316562)scale(0.1 -0.1)\">\r\n       <use xlink:href=\"#DejaVuSans-30\"/>\r\n       <use x=\"63.623047\" xlink:href=\"#DejaVuSans-2e\"/>\r\n       <use x=\"95.410156\" xlink:href=\"#DejaVuSans-34\"/>\r\n      </g>\r\n     </g>\r\n    </g>\r\n    <g id=\"xtick_9\">\r\n     <g id=\"line2d_16\">\r\n      <g>\r\n       <use style=\"stroke:#000000;stroke-width:0.8;\" x=\"691.439191\" xlink:href=\"#m81ed89b15d\" y=\"385.718125\"/>\r\n      </g>\r\n     </g>\r\n     <g id=\"text_19\">\r\n      <!-- 0.6 -->\r\n      <g transform=\"translate(683.487629 400.316562)scale(0.1 -0.1)\">\r\n       <use xlink:href=\"#DejaVuSans-30\"/>\r\n       <use x=\"63.623047\" xlink:href=\"#DejaVuSans-2e\"/>\r\n       <use x=\"95.410156\" xlink:href=\"#DejaVuSans-36\"/>\r\n      </g>\r\n     </g>\r\n    </g>\r\n    <g id=\"xtick_10\">\r\n     <g id=\"line2d_17\">\r\n      <g>\r\n       <use style=\"stroke:#000000;stroke-width:0.8;\" x=\"765.927555\" xlink:href=\"#m81ed89b15d\" y=\"385.718125\"/>\r\n      </g>\r\n     </g>\r\n     <g id=\"text_20\">\r\n      <!-- 0.8 -->\r\n      <g transform=\"translate(757.975993 400.316562)scale(0.1 -0.1)\">\r\n       <use xlink:href=\"#DejaVuSans-30\"/>\r\n       <use x=\"63.623047\" xlink:href=\"#DejaVuSans-2e\"/>\r\n       <use x=\"95.410156\" xlink:href=\"#DejaVuSans-38\"/>\r\n      </g>\r\n     </g>\r\n    </g>\r\n    <g id=\"xtick_11\">\r\n     <g id=\"line2d_18\">\r\n      <g>\r\n       <use style=\"stroke:#000000;stroke-width:0.8;\" x=\"840.415919\" xlink:href=\"#m81ed89b15d\" y=\"385.718125\"/>\r\n      </g>\r\n     </g>\r\n     <g id=\"text_21\">\r\n      <!-- 1.0 -->\r\n      <g transform=\"translate(832.464356 400.316562)scale(0.1 -0.1)\">\r\n       <use xlink:href=\"#DejaVuSans-31\"/>\r\n       <use x=\"63.623047\" xlink:href=\"#DejaVuSans-2e\"/>\r\n       <use x=\"95.410156\" xlink:href=\"#DejaVuSans-30\"/>\r\n      </g>\r\n     </g>\r\n    </g>\r\n    <g id=\"text_22\">\r\n     <!-- x -->\r\n     <g transform=\"translate(653.485638 413.994687)scale(0.1 -0.1)\">\r\n      <use xlink:href=\"#DejaVuSans-78\"/>\r\n     </g>\r\n    </g>\r\n   </g>\r\n   <g id=\"matplotlib.axis_4\">\r\n    <g id=\"ytick_8\">\r\n     <g id=\"line2d_19\">\r\n      <g>\r\n       <use style=\"stroke:#000000;stroke-width:0.8;\" x=\"468.157092\" xlink:href=\"#m52eebfb77f\" y=\"385.718125\"/>\r\n      </g>\r\n     </g>\r\n     <g id=\"text_23\">\r\n      <!-- 0.0 -->\r\n      <g transform=\"translate(445.253967 389.517344)scale(0.1 -0.1)\">\r\n       <use xlink:href=\"#DejaVuSans-30\"/>\r\n       <use x=\"63.623047\" xlink:href=\"#DejaVuSans-2e\"/>\r\n       <use x=\"95.410156\" xlink:href=\"#DejaVuSans-30\"/>\r\n      </g>\r\n     </g>\r\n    </g>\r\n    <g id=\"ytick_9\">\r\n     <g id=\"line2d_20\">\r\n      <g>\r\n       <use style=\"stroke:#000000;stroke-width:0.8;\" x=\"468.157092\" xlink:href=\"#m52eebfb77f\" y=\"327.105222\"/>\r\n      </g>\r\n     </g>\r\n     <g id=\"text_24\">\r\n      <!-- 0.5 -->\r\n      <g transform=\"translate(445.253967 330.904441)scale(0.1 -0.1)\">\r\n       <use xlink:href=\"#DejaVuSans-30\"/>\r\n       <use x=\"63.623047\" xlink:href=\"#DejaVuSans-2e\"/>\r\n       <use x=\"95.410156\" xlink:href=\"#DejaVuSans-35\"/>\r\n      </g>\r\n     </g>\r\n    </g>\r\n    <g id=\"ytick_10\">\r\n     <g id=\"line2d_21\">\r\n      <g>\r\n       <use style=\"stroke:#000000;stroke-width:0.8;\" x=\"468.157092\" xlink:href=\"#m52eebfb77f\" y=\"268.492319\"/>\r\n      </g>\r\n     </g>\r\n     <g id=\"text_25\">\r\n      <!-- 1.0 -->\r\n      <g transform=\"translate(445.253967 272.291537)scale(0.1 -0.1)\">\r\n       <use xlink:href=\"#DejaVuSans-31\"/>\r\n       <use x=\"63.623047\" xlink:href=\"#DejaVuSans-2e\"/>\r\n       <use x=\"95.410156\" xlink:href=\"#DejaVuSans-30\"/>\r\n      </g>\r\n     </g>\r\n    </g>\r\n    <g id=\"ytick_11\">\r\n     <g id=\"line2d_22\">\r\n      <g>\r\n       <use style=\"stroke:#000000;stroke-width:0.8;\" x=\"468.157092\" xlink:href=\"#m52eebfb77f\" y=\"209.879415\"/>\r\n      </g>\r\n     </g>\r\n     <g id=\"text_26\">\r\n      <!-- 1.5 -->\r\n      <g transform=\"translate(445.253967 213.678634)scale(0.1 -0.1)\">\r\n       <use xlink:href=\"#DejaVuSans-31\"/>\r\n       <use x=\"63.623047\" xlink:href=\"#DejaVuSans-2e\"/>\r\n       <use x=\"95.410156\" xlink:href=\"#DejaVuSans-35\"/>\r\n      </g>\r\n     </g>\r\n    </g>\r\n    <g id=\"ytick_12\">\r\n     <g id=\"line2d_23\">\r\n      <g>\r\n       <use style=\"stroke:#000000;stroke-width:0.8;\" x=\"468.157092\" xlink:href=\"#m52eebfb77f\" y=\"151.266512\"/>\r\n      </g>\r\n     </g>\r\n     <g id=\"text_27\">\r\n      <!-- 2.0 -->\r\n      <g transform=\"translate(445.253967 155.065731)scale(0.1 -0.1)\">\r\n       <use xlink:href=\"#DejaVuSans-32\"/>\r\n       <use x=\"63.623047\" xlink:href=\"#DejaVuSans-2e\"/>\r\n       <use x=\"95.410156\" xlink:href=\"#DejaVuSans-30\"/>\r\n      </g>\r\n     </g>\r\n    </g>\r\n    <g id=\"ytick_13\">\r\n     <g id=\"line2d_24\">\r\n      <g>\r\n       <use style=\"stroke:#000000;stroke-width:0.8;\" x=\"468.157092\" xlink:href=\"#m52eebfb77f\" y=\"92.653609\"/>\r\n      </g>\r\n     </g>\r\n     <g id=\"text_28\">\r\n      <!-- 2.5 -->\r\n      <g transform=\"translate(445.253967 96.452828)scale(0.1 -0.1)\">\r\n       <use xlink:href=\"#DejaVuSans-32\"/>\r\n       <use x=\"63.623047\" xlink:href=\"#DejaVuSans-2e\"/>\r\n       <use x=\"95.410156\" xlink:href=\"#DejaVuSans-35\"/>\r\n      </g>\r\n     </g>\r\n    </g>\r\n    <g id=\"ytick_14\">\r\n     <g id=\"line2d_25\">\r\n      <g>\r\n       <use style=\"stroke:#000000;stroke-width:0.8;\" x=\"468.157092\" xlink:href=\"#m52eebfb77f\" y=\"34.040706\"/>\r\n      </g>\r\n     </g>\r\n     <g id=\"text_29\">\r\n      <!-- 3.0 -->\r\n      <g transform=\"translate(445.253967 37.839924)scale(0.1 -0.1)\">\r\n       <use xlink:href=\"#DejaVuSans-33\"/>\r\n       <use x=\"63.623047\" xlink:href=\"#DejaVuSans-2e\"/>\r\n       <use x=\"95.410156\" xlink:href=\"#DejaVuSans-30\"/>\r\n      </g>\r\n     </g>\r\n    </g>\r\n    <g id=\"text_30\">\r\n     <!-- y -->\r\n     <g transform=\"translate(439.17428 206.9775)rotate(-90)scale(0.1 -0.1)\">\r\n      <use xlink:href=\"#DejaVuSans-79\"/>\r\n     </g>\r\n    </g>\r\n   </g>\r\n   <g id=\"patch_8\">\r\n    <path d=\"M 468.157092 385.718125 \r\nL 468.157092 22.318125 \r\n\" style=\"fill:none;stroke:#000000;stroke-linecap:square;stroke-linejoin:miter;stroke-width:0.8;\"/>\r\n   </g>\r\n   <g id=\"patch_9\">\r\n    <path d=\"M 844.732934 385.718125 \r\nL 844.732934 22.318125 \r\n\" style=\"fill:none;stroke:#000000;stroke-linecap:square;stroke-linejoin:miter;stroke-width:0.8;\"/>\r\n   </g>\r\n   <g id=\"patch_10\">\r\n    <path d=\"M 468.157092 385.718125 \r\nL 844.732934 385.718125 \r\n\" style=\"fill:none;stroke:#000000;stroke-linecap:square;stroke-linejoin:miter;stroke-width:0.8;\"/>\r\n   </g>\r\n   <g id=\"patch_11\">\r\n    <path d=\"M 468.157092 22.318125 \r\nL 844.732934 22.318125 \r\n\" style=\"fill:none;stroke:#000000;stroke-linecap:square;stroke-linejoin:miter;stroke-width:0.8;\"/>\r\n   </g>\r\n   <g id=\"text_31\">\r\n    <!-- Generated Data - Validation -->\r\n    <g transform=\"translate(572.773138 16.318125)scale(0.12 -0.12)\">\r\n     <defs>\r\n      <path d=\"M 1831 0 \r\nL 50 4666 \r\nL 709 4666 \r\nL 2188 738 \r\nL 3669 4666 \r\nL 4325 4666 \r\nL 2547 0 \r\nL 1831 0 \r\nz\r\n\" id=\"DejaVuSans-56\" transform=\"scale(0.015625)\"/>\r\n      <path d=\"M 603 4863 \r\nL 1178 4863 \r\nL 1178 0 \r\nL 603 0 \r\nL 603 4863 \r\nz\r\n\" id=\"DejaVuSans-6c\" transform=\"scale(0.015625)\"/>\r\n      <path d=\"M 1959 3097 \r\nQ 1497 3097 1228 2736 \r\nQ 959 2375 959 1747 \r\nQ 959 1119 1226 758 \r\nQ 1494 397 1959 397 \r\nQ 2419 397 2687 759 \r\nQ 2956 1122 2956 1747 \r\nQ 2956 2369 2687 2733 \r\nQ 2419 3097 1959 3097 \r\nz\r\nM 1959 3584 \r\nQ 2709 3584 3137 3096 \r\nQ 3566 2609 3566 1747 \r\nQ 3566 888 3137 398 \r\nQ 2709 -91 1959 -91 \r\nQ 1206 -91 779 398 \r\nQ 353 888 353 1747 \r\nQ 353 2609 779 3096 \r\nQ 1206 3584 1959 3584 \r\nz\r\n\" id=\"DejaVuSans-6f\" transform=\"scale(0.015625)\"/>\r\n     </defs>\r\n     <use xlink:href=\"#DejaVuSans-47\"/>\r\n     <use x=\"77.490234\" xlink:href=\"#DejaVuSans-65\"/>\r\n     <use x=\"139.013672\" xlink:href=\"#DejaVuSans-6e\"/>\r\n     <use x=\"202.392578\" xlink:href=\"#DejaVuSans-65\"/>\r\n     <use x=\"263.916016\" xlink:href=\"#DejaVuSans-72\"/>\r\n     <use x=\"305.029297\" xlink:href=\"#DejaVuSans-61\"/>\r\n     <use x=\"366.308594\" xlink:href=\"#DejaVuSans-74\"/>\r\n     <use x=\"405.517578\" xlink:href=\"#DejaVuSans-65\"/>\r\n     <use x=\"467.041016\" xlink:href=\"#DejaVuSans-64\"/>\r\n     <use x=\"530.517578\" xlink:href=\"#DejaVuSans-20\"/>\r\n     <use x=\"562.304688\" xlink:href=\"#DejaVuSans-44\"/>\r\n     <use x=\"639.306641\" xlink:href=\"#DejaVuSans-61\"/>\r\n     <use x=\"700.585938\" xlink:href=\"#DejaVuSans-74\"/>\r\n     <use x=\"739.794922\" xlink:href=\"#DejaVuSans-61\"/>\r\n     <use x=\"801.074219\" xlink:href=\"#DejaVuSans-20\"/>\r\n     <use x=\"832.861328\" xlink:href=\"#DejaVuSans-2d\"/>\r\n     <use x=\"868.945312\" xlink:href=\"#DejaVuSans-20\"/>\r\n     <use x=\"900.732422\" xlink:href=\"#DejaVuSans-56\"/>\r\n     <use x=\"961.390625\" xlink:href=\"#DejaVuSans-61\"/>\r\n     <use x=\"1022.669922\" xlink:href=\"#DejaVuSans-6c\"/>\r\n     <use x=\"1050.453125\" xlink:href=\"#DejaVuSans-69\"/>\r\n     <use x=\"1078.236328\" xlink:href=\"#DejaVuSans-64\"/>\r\n     <use x=\"1141.712891\" xlink:href=\"#DejaVuSans-61\"/>\r\n     <use x=\"1202.992188\" xlink:href=\"#DejaVuSans-74\"/>\r\n     <use x=\"1242.201172\" xlink:href=\"#DejaVuSans-69\"/>\r\n     <use x=\"1269.984375\" xlink:href=\"#DejaVuSans-6f\"/>\r\n     <use x=\"1331.166016\" xlink:href=\"#DejaVuSans-6e\"/>\r\n    </g>\r\n   </g>\r\n  </g>\r\n </g>\r\n <defs>\r\n  <clipPath id=\"p5fb7cb8b8d\">\r\n   <rect height=\"363.4\" width=\"376.575842\" x=\"43.78125\" y=\"22.318125\"/>\r\n  </clipPath>\r\n  <clipPath id=\"p95f280a48a\">\r\n   <rect height=\"363.4\" width=\"376.575842\" x=\"468.157092\" y=\"22.318125\"/>\r\n  </clipPath>\r\n </defs>\r\n</svg>\r\n",
      "image/png": "[encoded data removed]"
     },
     "metadata": {
      "needs_background": "light"
     }
    }
   ],
   "metadata": {}
  },
  {
   "cell_type": "markdown",
   "source": [
    "## Gradient Descent\r\n",
    "\r\n",
    "### Step 0: Random Initialization\r\n",
    "For training a model, you need to randomly initialize the parameters/weights (we\r\n",
    "have only two, $b$ and $w$)."
   ],
   "metadata": {}
  },
  {
   "cell_type": "code",
   "execution_count": 7,
   "source": [
    "# Step 0 - Initializes parameters \"b\" and \"w\" randomly\r\n",
    "np.random.seed(42)\r\n",
    "b = np.random.randn(1)\r\n",
    "w = np.random.randn(1)\r\n",
    "print(b, w)"
   ],
   "outputs": [
    {
     "output_type": "stream",
     "name": "stdout",
     "text": [
      "[0.49671415] [-0.1382643]\n"
     ]
    }
   ],
   "metadata": {}
  },
  {
   "cell_type": "markdown",
   "source": [
    "### Step 1: Compute Predication\r\n",
    "\r\n"
   ],
   "metadata": {}
  },
  {
   "cell_type": "code",
   "execution_count": 8,
   "source": [
    "# Step 1 - Computes our model's predicted output - forward pass\r\n",
    "yhat = b + w * x_train\r\n",
    "yhat"
   ],
   "outputs": [
    {
     "output_type": "execute_result",
     "data": {
      "text/plain": [
       "array([[0.390075  ],\n",
       "       [0.4879263 ],\n",
       "       [0.37737776],\n",
       "       [0.4931996 ],\n",
       "       [0.39550552],\n",
       "       [0.48647642],\n",
       "       [0.46923887],\n",
       "       [0.4537164 ],\n",
       "       [0.43142369],\n",
       "       [0.36265521],\n",
       "       [0.47984062],\n",
       "       [0.38954095],\n",
       "       [0.38579895],\n",
       "       [0.39583566],\n",
       "       [0.48320959],\n",
       "       [0.47115538],\n",
       "       [0.47514234],\n",
       "       [0.49386805],\n",
       "       [0.36026292],\n",
       "       [0.41053427],\n",
       "       [0.39881299],\n",
       "       [0.41404593],\n",
       "       [0.36925186],\n",
       "       [0.40856271],\n",
       "       [0.45787094],\n",
       "       [0.46093412],\n",
       "       [0.48017854],\n",
       "       [0.39591849],\n",
       "       [0.36551716],\n",
       "       [0.41271239],\n",
       "       [0.41910955],\n",
       "       [0.42843985],\n",
       "       [0.47157425],\n",
       "       [0.45919627],\n",
       "       [0.36261025],\n",
       "       [0.46735523],\n",
       "       [0.47135586],\n",
       "       [0.37695291],\n",
       "       [0.44492863],\n",
       "       [0.45644756],\n",
       "       [0.38494166],\n",
       "       [0.48868326],\n",
       "       [0.38161705],\n",
       "       [0.42167866],\n",
       "       [0.38994027],\n",
       "       [0.3740443 ],\n",
       "       [0.4844788 ],\n",
       "       [0.49046083],\n",
       "       [0.41480437],\n",
       "       [0.40210915],\n",
       "       [0.39809786],\n",
       "       [0.49195945],\n",
       "       [0.41360141],\n",
       "       [0.38396495],\n",
       "       [0.43585678],\n",
       "       [0.45175291],\n",
       "       [0.38815235],\n",
       "       [0.39152474],\n",
       "       [0.42824886],\n",
       "       [0.4691064 ],\n",
       "       [0.3652643 ],\n",
       "       [0.45632098],\n",
       "       [0.47742713],\n",
       "       [0.45361564],\n",
       "       [0.39898102],\n",
       "       [0.4806936 ],\n",
       "       [0.44715114],\n",
       "       [0.49595064],\n",
       "       [0.46961672],\n",
       "       [0.37299147],\n",
       "       [0.43365596],\n",
       "       [0.42415907],\n",
       "       [0.47722936],\n",
       "       [0.48771984],\n",
       "       [0.47313675],\n",
       "       [0.38212934],\n",
       "       [0.45173258],\n",
       "       [0.36681499],\n",
       "       [0.45096277],\n",
       "       [0.44605939]])"
      ]
     },
     "metadata": {},
     "execution_count": 8
    }
   ],
   "metadata": {}
  },
  {
   "cell_type": "markdown",
   "source": [
    "### Step 2 - Compute the Loss\r\n",
    "For a regression problem, the loss is given by the Mean Squared Error (MSE), that\r\n",
    "is, the average of all squared errors, that is, the average of all squared differences between labels ($y$) and predictions ($b + wx$).\r\n",
    "\r\n",
    "For a regression problem, the loss is given by the Mean Squared Error (MSE), that\r\n",
    "is, the average of all squared errors, that is, the average of all squared differences between labels (y) and predictions (b + wx).\r\n",
    "\r\n",
    "\\begin{flalign}\r\n",
    "MSE & =\\frac{1}{n} \\sum_{i=1}^n error_i^2 \\\\\r\n",
    " & = \\frac{1}{n} \\sum_{i=1}^n (\\hat{y}_i - y_i)\r\n",
    " ^2\\\\\r\n",
    " & = \\frac{1}{n} \\sum_{i=1}^n (b + wx_i - y_i)^2\\\\\r\n",
    "\\end{flalign}\r\n",
    "\r\n",
    "In the code below, we are using all data points of the training set to compute the\r\n",
    "loss, so $n = N = 80$, meaning we are performing batch gradient descent."
   ],
   "metadata": {}
  },
  {
   "cell_type": "code",
   "execution_count": 9,
   "source": [
    "# Step 2 - Computing the loss\r\n",
    "# We are using ALL data points, so this is BATCH gradient\r\n",
    "# descent. \r\n",
    "\r\n",
    "# How wrong is our model? This is the error!\r\n",
    "error = (yhat - y_train)\r\n",
    "# It is a regression, so it computes mean squared error (MSE)\r\n",
    "loss = (error ** 2).mean()\r\n",
    "print(loss)"
   ],
   "outputs": [
    {
     "output_type": "stream",
     "name": "stdout",
     "text": [
      "2.7421577700550976\n"
     ]
    }
   ],
   "metadata": {}
  },
  {
   "cell_type": "markdown",
   "source": [
    ":::{admonition} Batch, Mini-batch, and Stochastic Gradient Descent\r\n",
    ":class: dropdown, tip\r\n",
    "- if we use all points in the training set (n = N) to compute the\r\n",
    "loss, we are performing a batch gradient descent\r\n",
    "- if we were to use a single point (n = 1) each time, it would be a\r\n",
    "stochastic gradient descent\r\n",
    "- anything else (n) in-between 1 and N characterizes a minibatch\r\n",
    "gradient descent\r\n",
    ":::"
   ],
   "metadata": {}
  },
  {
   "cell_type": "markdown",
   "source": [
    "### Step 3 - Compute the gradient\r\n",
    "A gradient is a partial derivative — why partial? Because one computes it with\r\n",
    "respect to (w.r.t.) a single parameter. We have two parameters, b and w, so we must\r\n",
    "compute two partial derivatives.\r\n",
    "\r\n",
    "A derivative tells you how much a given quantity changes when you slightly vary\r\n",
    "some other quantity. In our case, how much does our MSE loss change when we\r\n",
    "vary each one of our two parameters separately?"
   ],
   "metadata": {}
  },
  {
   "cell_type": "code",
   "execution_count": 10,
   "source": [
    "# Step 3 - Computes gradients for both \"b\" and \"w\" parameters\r\n",
    "b_grad = 2 * error.mean()\r\n",
    "w_grad = 2 * (x_train * error).mean()\r\n",
    "print(b_grad, w_grad)"
   ],
   "outputs": [
    {
     "output_type": "stream",
     "name": "stdout",
     "text": [
      "-3.044811379650508 -1.8337537171510832\n"
     ]
    }
   ],
   "metadata": {}
  },
  {
   "cell_type": "markdown",
   "source": [
    "### Step 4 - Update the Parameters\r\n",
    "In the final step, we use the gradients to update the parameters. Since we are\r\n",
    "trying to minimize our losses, we reverse the sign of the gradient for the update.\r\n",
    "There is still another (hyper-)parameter to consider: the learning rate, denoted by\r\n",
    "the Greek letter alpha, which is the multiplicative factor\r\n",
    "that we need to apply to the gradient for the parameter update."
   ],
   "metadata": {}
  },
  {
   "cell_type": "code",
   "execution_count": 11,
   "source": [
    "# Sets learning rate - this is \"eta\" ~ the \"n\"-like Greek letter\r\n",
    "lr = 0.1\r\n",
    "print(b, w)\r\n",
    "# Step 4 - Updates parameters using gradients and\r\n",
    "# the learning rate\r\n",
    "b = b - lr * b_grad\r\n",
    "w = w - lr * w_grad\r\n",
    "print(b, w)"
   ],
   "outputs": [
    {
     "output_type": "stream",
     "name": "stdout",
     "text": [
      "[0.49671415] [-0.1382643]\n",
      "[0.80119529] [0.04511107]\n"
     ]
    }
   ],
   "metadata": {}
  },
  {
   "cell_type": "markdown",
   "source": [
    "### Step 5 - Rinse and Repeat!\r\n",
    "Now we use the updated parameters to go back to Step 1 and restart the process.\r\n",
    ":::{admonition} Definition of Epoch\r\n",
    "An epoch is complete whenever every point in the training set\r\n",
    "(N) has already been used in all steps: forward pass, computing\r\n",
    "loss, computing gradients, and updating parameters.\r\n",
    ":::"
   ],
   "metadata": {}
  },
  {
   "cell_type": "code",
   "execution_count": 12,
   "source": [
    "n_epochs = 1000\r\n",
    "\r\n",
    "for epoch in range(n_epochs):\r\n",
    "    # Step 1 - Computes model's predicted output - forward pass\r\n",
    "    yhat = b + w * x_train\r\n",
    "    \r\n",
    "    # Step 2 - Computes the loss\r\n",
    "    # We are using ALL data points, so this is BATCH gradient\r\n",
    "    # descent.\r\n",
    "    # How wrong is our model? This is the error!\r\n",
    "    error = (yhat - y_train) \r\n",
    "    # It is a regression, so it computes mean squared error (MSE)\r\n",
    "    loss = (error ** 2).mean()\r\n",
    "    \r\n",
    "    # Step 3 - Computes gradients for both \"b\" and \"w\" parameters\r\n",
    "    b_grad = 2 * error.mean()\r\n",
    "    w_grad = 2 * (x_train * error).mean()\r\n",
    "\r\n",
    "    # Step 4 - Updates parameters using gradients and\r\n",
    "    # the learning rate\r\n",
    "    b = b - lr * b_grad\r\n",
    "    w = w - lr * w_grad\r\n",
    "\r\n",
    "print(b, w)"
   ],
   "outputs": [
    {
     "output_type": "stream",
     "name": "stdout",
     "text": [
      "[1.02354093] [1.96896412]\n"
     ]
    }
   ],
   "metadata": {}
  },
  {
   "cell_type": "markdown",
   "source": [
    "## Sanity Check using Scikit-Learn\r\n",
    "\r\n",
    "Just to make sure we haven’t done any mistakes in our code, we can use Scikit-\r\n",
    "Learn's Linear Regression to fit the model and compare the coefficients."
   ],
   "metadata": {}
  },
  {
   "cell_type": "code",
   "execution_count": 13,
   "source": [
    "from sklearn.linear_model import LinearRegression\r\n",
    "# Sanity Check: do we get the same results as our\r\n",
    "# gradient descent?\r\n",
    "linr = LinearRegression()\r\n",
    "linr.fit(x_train, y_train)\r\n",
    "print(linr.intercept_, linr.coef_[0])"
   ],
   "outputs": [
    {
     "output_type": "stream",
     "name": "stdout",
     "text": [
      "[1.02354075] [1.96896447]\n"
     ]
    }
   ],
   "metadata": {}
  }
 ],
 "metadata": {
  "orig_nbformat": 4,
  "language_info": {
   "name": "python",
   "version": "3.8.10",
   "mimetype": "text/x-python",
   "codemirror_mode": {
    "name": "ipython",
    "version": 3
   },
   "pygments_lexer": "ipython3",
   "nbconvert_exporter": "python",
   "file_extension": ".py"
  },
  "kernelspec": {
   "name": "python3",
   "display_name": "Python 3.8.10 64-bit ('cits4012': conda)"
  },
  "interpreter": {
   "hash": "d990147e05fc0cc60dd3871899a6233eb6a5324c1885ded43d013dc915f7e535"
  }
 },
 "nbformat": 4,
 "nbformat_minor": 2
}