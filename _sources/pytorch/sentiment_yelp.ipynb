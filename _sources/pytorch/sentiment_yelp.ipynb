{
 "cells": [
  {
   "cell_type": "markdown",
   "source": [
    "Classifying Yelp Reviews\r\n",
    "==========================="
   ],
   "metadata": {}
  },
  {
   "cell_type": "markdown",
   "source": [
    "## Imports"
   ],
   "metadata": {}
  },
  {
   "cell_type": "code",
   "execution_count": 12,
   "source": [
    "from argparse import Namespace\r\n",
    "from collections import Counter\r\n",
    "import json\r\n",
    "import os\r\n",
    "import re\r\n",
    "import string\r\n",
    "\r\n",
    "import numpy as np\r\n",
    "import pandas as pd\r\n",
    "import torch\r\n",
    "import torch.nn as nn\r\n",
    "import torch.nn.functional as F\r\n",
    "import torch.optim as optim\r\n",
    "from torch.utils.data import Dataset, DataLoader\r\n",
    "from tqdm.notebook import tqdm"
   ],
   "outputs": [],
   "metadata": {}
  },
  {
   "cell_type": "markdown",
   "source": [
    "## Data Vectorization classes"
   ],
   "metadata": {}
  },
  {
   "cell_type": "markdown",
   "source": [
    "### The Vocabulary"
   ],
   "metadata": {}
  },
  {
   "cell_type": "code",
   "execution_count": 13,
   "source": [
    "class Vocabulary(object):\r\n",
    "    \"\"\"Class to process text and extract vocabulary for mapping\"\"\"\r\n",
    "\r\n",
    "    def __init__(self, token_to_idx=None, add_unk=True, unk_token=\"<UNK>\"):\r\n",
    "        \"\"\"\r\n",
    "        Args:\r\n",
    "            token_to_idx (dict): a pre-existing map of tokens to indices\r\n",
    "            add_unk (bool): a flag that indicates whether to add the UNK token\r\n",
    "            unk_token (str): the UNK token to add into the Vocabulary\r\n",
    "        \"\"\"\r\n",
    "\r\n",
    "        if token_to_idx is None:\r\n",
    "            token_to_idx = {}\r\n",
    "        self._token_to_idx = token_to_idx\r\n",
    "\r\n",
    "        self._idx_to_token = {idx: token \r\n",
    "                              for token, idx in self._token_to_idx.items()}\r\n",
    "        \r\n",
    "        self._add_unk = add_unk\r\n",
    "        self._unk_token = unk_token\r\n",
    "        \r\n",
    "        self.unk_index = -1\r\n",
    "        if add_unk:\r\n",
    "            self.unk_index = self.add_token(unk_token) \r\n",
    "        \r\n",
    "        \r\n",
    "    def to_serializable(self):\r\n",
    "        \"\"\" returns a dictionary that can be serialized \"\"\"\r\n",
    "        return {'token_to_idx': self._token_to_idx, \r\n",
    "                'add_unk': self._add_unk, \r\n",
    "                'unk_token': self._unk_token}\r\n",
    "\r\n",
    "    @classmethod\r\n",
    "    def from_serializable(cls, contents):\r\n",
    "        \"\"\" instantiates the Vocabulary from a serialized dictionary \"\"\"\r\n",
    "        return cls(**contents)\r\n",
    "\r\n",
    "    def add_token(self, token):\r\n",
    "        \"\"\"Update mapping dicts based on the token.\r\n",
    "\r\n",
    "        Args:\r\n",
    "            token (str): the item to add into the Vocabulary\r\n",
    "        Returns:\r\n",
    "            index (int): the integer corresponding to the token\r\n",
    "        \"\"\"\r\n",
    "        if token in self._token_to_idx:\r\n",
    "            index = self._token_to_idx[token]\r\n",
    "        else:\r\n",
    "            index = len(self._token_to_idx)\r\n",
    "            self._token_to_idx[token] = index\r\n",
    "            self._idx_to_token[index] = token\r\n",
    "        return index\r\n",
    "    \r\n",
    "    def add_many(self, tokens):\r\n",
    "        \"\"\"Add a list of tokens into the Vocabulary\r\n",
    "        \r\n",
    "        Args:\r\n",
    "            tokens (list): a list of string tokens\r\n",
    "        Returns:\r\n",
    "            indices (list): a list of indices corresponding to the tokens\r\n",
    "        \"\"\"\r\n",
    "        return [self.add_token(token) for token in tokens]\r\n",
    "\r\n",
    "    def lookup_token(self, token):\r\n",
    "        \"\"\"Retrieve the index associated with the token \r\n",
    "          or the UNK index if token isn't present.\r\n",
    "        \r\n",
    "        Args:\r\n",
    "            token (str): the token to look up \r\n",
    "        Returns:\r\n",
    "            index (int): the index corresponding to the token\r\n",
    "        Notes:\r\n",
    "            `unk_index` needs to be >=0 (having been added into the Vocabulary) \r\n",
    "              for the UNK functionality \r\n",
    "        \"\"\"\r\n",
    "        if self.unk_index >= 0:\r\n",
    "            return self._token_to_idx.get(token, self.unk_index)\r\n",
    "        else:\r\n",
    "            return self._token_to_idx[token]\r\n",
    "\r\n",
    "    def lookup_index(self, index):\r\n",
    "        \"\"\"Return the token associated with the index\r\n",
    "        \r\n",
    "        Args: \r\n",
    "            index (int): the index to look up\r\n",
    "        Returns:\r\n",
    "            token (str): the token corresponding to the index\r\n",
    "        Raises:\r\n",
    "            KeyError: if the index is not in the Vocabulary\r\n",
    "        \"\"\"\r\n",
    "        if index not in self._idx_to_token:\r\n",
    "            raise KeyError(\"the index (%d) is not in the Vocabulary\" % index)\r\n",
    "        return self._idx_to_token[index]\r\n",
    "\r\n",
    "    def __str__(self):\r\n",
    "        return \"<Vocabulary(size=%d)>\" % len(self)\r\n",
    "\r\n",
    "    def __len__(self):\r\n",
    "        return len(self._token_to_idx)"
   ],
   "outputs": [],
   "metadata": {
    "code_folding": []
   }
  },
  {
   "cell_type": "markdown",
   "source": [
    "### The Vectorizer"
   ],
   "metadata": {}
  },
  {
   "cell_type": "code",
   "execution_count": 14,
   "source": [
    "class ReviewVectorizer(object):\r\n",
    "    \"\"\" The Vectorizer which coordinates the Vocabularies and puts them to use\"\"\"\r\n",
    "    def __init__(self, review_vocab, rating_vocab):\r\n",
    "        \"\"\"\r\n",
    "        Args:\r\n",
    "            review_vocab (Vocabulary): maps words to integers\r\n",
    "            rating_vocab (Vocabulary): maps class labels to integers\r\n",
    "        \"\"\"\r\n",
    "        self.review_vocab = review_vocab\r\n",
    "        self.rating_vocab = rating_vocab\r\n",
    "\r\n",
    "    def vectorize(self, review):\r\n",
    "        \"\"\"Create a collapsed one-hit vector for the review\r\n",
    "        \r\n",
    "        Args:\r\n",
    "            review (str): the review \r\n",
    "        Returns:\r\n",
    "            one_hot (np.ndarray): the collapsed one-hot encoding \r\n",
    "        \"\"\"\r\n",
    "        one_hot = np.zeros(len(self.review_vocab), dtype=np.float32)\r\n",
    "        \r\n",
    "        for token in review.split(\" \"):\r\n",
    "            if token not in string.punctuation:\r\n",
    "                one_hot[self.review_vocab.lookup_token(token)] = 1\r\n",
    "\r\n",
    "        return one_hot\r\n",
    "\r\n",
    "    @classmethod\r\n",
    "    def from_dataframe(cls, review_df, cutoff=25):\r\n",
    "        \"\"\"Instantiate the vectorizer from the dataset dataframe\r\n",
    "        \r\n",
    "        Args:\r\n",
    "            review_df (pandas.DataFrame): the review dataset\r\n",
    "            cutoff (int): the parameter for frequency-based filtering\r\n",
    "        Returns:\r\n",
    "            an instance of the ReviewVectorizer\r\n",
    "        \"\"\"\r\n",
    "        review_vocab = Vocabulary(add_unk=True)\r\n",
    "        rating_vocab = Vocabulary(add_unk=False)\r\n",
    "        \r\n",
    "        # Add ratings\r\n",
    "        for rating in sorted(set(review_df.rating)):\r\n",
    "            rating_vocab.add_token(rating)\r\n",
    "\r\n",
    "        # Add top words if count > provided count\r\n",
    "        word_counts = Counter()\r\n",
    "        for review in review_df.review:\r\n",
    "            for word in review.split(\" \"):\r\n",
    "                if word not in string.punctuation:\r\n",
    "                    word_counts[word] += 1\r\n",
    "               \r\n",
    "        for word, count in word_counts.items():\r\n",
    "            if count > cutoff:\r\n",
    "                review_vocab.add_token(word)\r\n",
    "\r\n",
    "        return cls(review_vocab, rating_vocab)\r\n",
    "\r\n",
    "    @classmethod\r\n",
    "    def from_serializable(cls, contents):\r\n",
    "        \"\"\"Instantiate a ReviewVectorizer from a serializable dictionary\r\n",
    "        \r\n",
    "        Args:\r\n",
    "            contents (dict): the serializable dictionary\r\n",
    "        Returns:\r\n",
    "            an instance of the ReviewVectorizer class\r\n",
    "        \"\"\"\r\n",
    "        review_vocab = Vocabulary.from_serializable(contents['review_vocab'])\r\n",
    "        rating_vocab =  Vocabulary.from_serializable(contents['rating_vocab'])\r\n",
    "\r\n",
    "        return cls(review_vocab=review_vocab, rating_vocab=rating_vocab)\r\n",
    "\r\n",
    "    def to_serializable(self):\r\n",
    "        \"\"\"Create the serializable dictionary for caching\r\n",
    "        \r\n",
    "        Returns:\r\n",
    "            contents (dict): the serializable dictionary\r\n",
    "        \"\"\"\r\n",
    "        return {'review_vocab': self.review_vocab.to_serializable(),\r\n",
    "                'rating_vocab': self.rating_vocab.to_serializable()}"
   ],
   "outputs": [],
   "metadata": {
    "code_folding": []
   }
  },
  {
   "cell_type": "markdown",
   "source": [
    "### The Dataset"
   ],
   "metadata": {}
  },
  {
   "cell_type": "code",
   "execution_count": 15,
   "source": [
    "class ReviewDataset(Dataset):\r\n",
    "    def __init__(self, review_df, vectorizer):\r\n",
    "        \"\"\"\r\n",
    "        Args:\r\n",
    "            review_df (pandas.DataFrame): the dataset\r\n",
    "            vectorizer (ReviewVectorizer): vectorizer instantiated from dataset\r\n",
    "        \"\"\"\r\n",
    "        self.review_df = review_df\r\n",
    "        self._vectorizer = vectorizer\r\n",
    "\r\n",
    "        self.train_df = self.review_df[self.review_df.split=='train']\r\n",
    "        self.train_size = len(self.train_df)\r\n",
    "\r\n",
    "        self.val_df = self.review_df[self.review_df.split=='val']\r\n",
    "        self.validation_size = len(self.val_df)\r\n",
    "\r\n",
    "        self.test_df = self.review_df[self.review_df.split=='test']\r\n",
    "        self.test_size = len(self.test_df)\r\n",
    "\r\n",
    "        self._lookup_dict = {'train': (self.train_df, self.train_size),\r\n",
    "                             'val': (self.val_df, self.validation_size),\r\n",
    "                             'test': (self.test_df, self.test_size)}\r\n",
    "\r\n",
    "        self.set_split('train')\r\n",
    "\r\n",
    "    @classmethod\r\n",
    "    def load_dataset_and_make_vectorizer(cls, review_csv):\r\n",
    "        \"\"\"Load dataset and make a new vectorizer from scratch\r\n",
    "        \r\n",
    "        Args:\r\n",
    "            review_csv (str): location of the dataset\r\n",
    "        Returns:\r\n",
    "            an instance of ReviewDataset\r\n",
    "        \"\"\"\r\n",
    "        review_df = pd.read_csv(review_csv)\r\n",
    "        train_review_df = review_df[review_df.split=='train']\r\n",
    "        return cls(review_df, ReviewVectorizer.from_dataframe(train_review_df))\r\n",
    "    \r\n",
    "    @classmethod\r\n",
    "    def load_dataset_and_load_vectorizer(cls, review_csv, vectorizer_filepath):\r\n",
    "        \"\"\"Load dataset and the corresponding vectorizer. \r\n",
    "        Used in the case in the vectorizer has been cached for re-use\r\n",
    "        \r\n",
    "        Args:\r\n",
    "            review_csv (str): location of the dataset\r\n",
    "            vectorizer_filepath (str): location of the saved vectorizer\r\n",
    "        Returns:\r\n",
    "            an instance of ReviewDataset\r\n",
    "        \"\"\"\r\n",
    "        review_df = pd.read_csv(review_csv)\r\n",
    "        vectorizer = cls.load_vectorizer_only(vectorizer_filepath)\r\n",
    "        return cls(review_df, vectorizer)\r\n",
    "\r\n",
    "    @staticmethod\r\n",
    "    def load_vectorizer_only(vectorizer_filepath):\r\n",
    "        \"\"\"a static method for loading the vectorizer from file\r\n",
    "        \r\n",
    "        Args:\r\n",
    "            vectorizer_filepath (str): the location of the serialized vectorizer\r\n",
    "        Returns:\r\n",
    "            an instance of ReviewVectorizer\r\n",
    "        \"\"\"\r\n",
    "        with open(vectorizer_filepath) as fp:\r\n",
    "            return ReviewVectorizer.from_serializable(json.load(fp))\r\n",
    "\r\n",
    "    def save_vectorizer(self, vectorizer_filepath):\r\n",
    "        \"\"\"saves the vectorizer to disk using json\r\n",
    "        \r\n",
    "        Args:\r\n",
    "            vectorizer_filepath (str): the location to save the vectorizer\r\n",
    "        \"\"\"\r\n",
    "        with open(vectorizer_filepath, \"w\") as fp:\r\n",
    "            json.dump(self._vectorizer.to_serializable(), fp)\r\n",
    "\r\n",
    "    def get_vectorizer(self):\r\n",
    "        \"\"\" returns the vectorizer \"\"\"\r\n",
    "        return self._vectorizer\r\n",
    "\r\n",
    "    def set_split(self, split=\"train\"):\r\n",
    "        \"\"\" selects the splits in the dataset using a column in the dataframe \r\n",
    "        \r\n",
    "        Args:\r\n",
    "            split (str): one of \"train\", \"val\", or \"test\"\r\n",
    "        \"\"\"\r\n",
    "        self._target_split = split\r\n",
    "        self._target_df, self._target_size = self._lookup_dict[split]\r\n",
    "\r\n",
    "    def __len__(self):\r\n",
    "        return self._target_size\r\n",
    "\r\n",
    "    def __getitem__(self, index):\r\n",
    "        \"\"\"the primary entry point method for PyTorch datasets\r\n",
    "        \r\n",
    "        Args:\r\n",
    "            index (int): the index to the data point \r\n",
    "        Returns:\r\n",
    "            a dictionary holding the data point's features (x_data) and label (y_target)\r\n",
    "        \"\"\"\r\n",
    "        row = self._target_df.iloc[index]\r\n",
    "\r\n",
    "        review_vector = \\\r\n",
    "            self._vectorizer.vectorize(row.review)\r\n",
    "\r\n",
    "        rating_index = \\\r\n",
    "            self._vectorizer.rating_vocab.lookup_token(row.rating)\r\n",
    "\r\n",
    "        return {'x_data': review_vector,\r\n",
    "                'y_target': rating_index}\r\n",
    "\r\n",
    "    def get_num_batches(self, batch_size):\r\n",
    "        \"\"\"Given a batch size, return the number of batches in the dataset\r\n",
    "        \r\n",
    "        Args:\r\n",
    "            batch_size (int)\r\n",
    "        Returns:\r\n",
    "            number of batches in the dataset\r\n",
    "        \"\"\"\r\n",
    "        return len(self) // batch_size  \r\n",
    "    \r\n",
    "def generate_batches(dataset, batch_size, shuffle=True,\r\n",
    "                     drop_last=True, device=\"cpu\"):\r\n",
    "    \"\"\"\r\n",
    "    A generator function which wraps the PyTorch DataLoader. It will \r\n",
    "      ensure each tensor is on the write device location.\r\n",
    "    \"\"\"\r\n",
    "    dataloader = DataLoader(dataset=dataset, batch_size=batch_size,\r\n",
    "                            shuffle=shuffle, drop_last=drop_last)\r\n",
    "\r\n",
    "    for data_dict in dataloader:\r\n",
    "        out_data_dict = {}\r\n",
    "        for name, tensor in data_dict.items():\r\n",
    "            out_data_dict[name] = data_dict[name].to(device)\r\n",
    "        yield out_data_dict"
   ],
   "outputs": [],
   "metadata": {
    "code_folding": [
     65
    ]
   }
  },
  {
   "cell_type": "markdown",
   "source": [
    "## The Model: ReviewClassifier"
   ],
   "metadata": {}
  },
  {
   "cell_type": "code",
   "execution_count": 16,
   "source": [
    "class ReviewClassifier(nn.Module):\r\n",
    "    \"\"\" a simple perceptron based classifier \"\"\"\r\n",
    "    def __init__(self, num_features):\r\n",
    "        \"\"\"\r\n",
    "        Args:\r\n",
    "            num_features (int): the size of the input feature vector\r\n",
    "        \"\"\"\r\n",
    "        super(ReviewClassifier, self).__init__()\r\n",
    "        self.fc1 = nn.Linear(in_features=num_features, \r\n",
    "                             out_features=1)\r\n",
    "\r\n",
    "    def forward(self, x_in, apply_sigmoid=False):\r\n",
    "        \"\"\"The forward pass of the classifier\r\n",
    "        \r\n",
    "        Args:\r\n",
    "            x_in (torch.Tensor): an input data tensor. \r\n",
    "                x_in.shape should be (batch, num_features)\r\n",
    "            apply_sigmoid (bool): a flag for the sigmoid activation\r\n",
    "                should be false if used with the Cross Entropy losses\r\n",
    "        Returns:\r\n",
    "            the resulting tensor. tensor.shape should be (batch,)\r\n",
    "        \"\"\"\r\n",
    "        y_out = self.fc1(x_in).squeeze()\r\n",
    "        if apply_sigmoid:\r\n",
    "            y_out = torch.sigmoid(y_out)\r\n",
    "        return y_out"
   ],
   "outputs": [],
   "metadata": {
    "code_folding": []
   }
  },
  {
   "cell_type": "markdown",
   "source": [
    "## Training Routine"
   ],
   "metadata": {}
  },
  {
   "cell_type": "markdown",
   "source": [
    "### Helper functions"
   ],
   "metadata": {}
  },
  {
   "cell_type": "code",
   "execution_count": 17,
   "source": [
    "def make_train_state(args):\r\n",
    "    return {'stop_early': False,\r\n",
    "            'early_stopping_step': 0,\r\n",
    "            'early_stopping_best_val': 1e8,\r\n",
    "            'learning_rate': args.learning_rate,\r\n",
    "            'epoch_index': 0,\r\n",
    "            'train_loss': [],\r\n",
    "            'train_acc': [],\r\n",
    "            'val_loss': [],\r\n",
    "            'val_acc': [],\r\n",
    "            'test_loss': -1,\r\n",
    "            'test_acc': -1,\r\n",
    "            'model_filename': args.model_state_file}\r\n",
    "\r\n",
    "def update_train_state(args, model, train_state):\r\n",
    "    \"\"\"Handle the training state updates.\r\n",
    "\r\n",
    "    Components:\r\n",
    "     - Early Stopping: Prevent overfitting.\r\n",
    "     - Model Checkpoint: Model is saved if the model is better\r\n",
    "\r\n",
    "    :param args: main arguments\r\n",
    "    :param model: model to train\r\n",
    "    :param train_state: a dictionary representing the training state values\r\n",
    "    :returns:\r\n",
    "        a new train_state\r\n",
    "    \"\"\"\r\n",
    "\r\n",
    "    # Save one model at least\r\n",
    "    if train_state['epoch_index'] == 0:\r\n",
    "        torch.save(model.state_dict(), train_state['model_filename'])\r\n",
    "        train_state['stop_early'] = False\r\n",
    "\r\n",
    "    # Save model if performance improved\r\n",
    "    elif train_state['epoch_index'] >= 1:\r\n",
    "        loss_tm1, loss_t = train_state['val_loss'][-2:]\r\n",
    "\r\n",
    "        # If loss worsened\r\n",
    "        if loss_t >= train_state['early_stopping_best_val']:\r\n",
    "            # Update step\r\n",
    "            train_state['early_stopping_step'] += 1\r\n",
    "        # Loss decreased\r\n",
    "        else:\r\n",
    "            # Save the best model\r\n",
    "            if loss_t < train_state['early_stopping_best_val']:\r\n",
    "                torch.save(model.state_dict(), train_state['model_filename'])\r\n",
    "\r\n",
    "            # Reset early stopping step\r\n",
    "            train_state['early_stopping_step'] = 0\r\n",
    "\r\n",
    "        # Stop early ?\r\n",
    "        train_state['stop_early'] = \\\r\n",
    "            train_state['early_stopping_step'] >= args.early_stopping_criteria\r\n",
    "\r\n",
    "    return train_state\r\n",
    "\r\n",
    "def compute_accuracy(y_pred, y_target):\r\n",
    "    y_target = y_target.cpu()\r\n",
    "    y_pred_indices = (torch.sigmoid(y_pred)>0.5).cpu().long()#.max(dim=1)[1]\r\n",
    "    n_correct = torch.eq(y_pred_indices, y_target).sum().item()\r\n",
    "    return n_correct / len(y_pred_indices) * 100"
   ],
   "outputs": [],
   "metadata": {
    "code_folding": []
   }
  },
  {
   "cell_type": "markdown",
   "source": [
    "#### General utilities"
   ],
   "metadata": {}
  },
  {
   "cell_type": "code",
   "execution_count": 18,
   "source": [
    "def set_seed_everywhere(seed, cuda):\r\n",
    "    np.random.seed(seed)\r\n",
    "    torch.manual_seed(seed)\r\n",
    "    if cuda:\r\n",
    "        torch.cuda.manual_seed_all(seed)\r\n",
    "\r\n",
    "def handle_dirs(dirpath):\r\n",
    "    if not os.path.exists(dirpath):\r\n",
    "        os.makedirs(dirpath)"
   ],
   "outputs": [],
   "metadata": {}
  },
  {
   "cell_type": "markdown",
   "source": [
    "### Settings and some prep work"
   ],
   "metadata": {}
  },
  {
   "cell_type": "code",
   "execution_count": 19,
   "source": [
    "args = Namespace(\r\n",
    "    # Data and Path information\r\n",
    "    frequency_cutoff=25,\r\n",
    "    model_state_file='model.pth',\r\n",
    "    review_csv='data/reviews_with_splits_lite.csv',\r\n",
    "    # review_csv='data/yelp/reviews_with_splits_full.csv',\r\n",
    "    save_dir='model_storage/yelp/',\r\n",
    "    vectorizer_file='vectorizer.json',\r\n",
    "    # No Model hyper parameters\r\n",
    "    # Training hyper parameters\r\n",
    "    batch_size=128,\r\n",
    "    early_stopping_criteria=5,\r\n",
    "    learning_rate=0.001,\r\n",
    "    num_epochs=100,\r\n",
    "    seed=1337,\r\n",
    "    # Runtime options\r\n",
    "    catch_keyboard_interrupt=True,\r\n",
    "    cuda=True,\r\n",
    "    expand_filepaths_to_save_dir=True,\r\n",
    "    reload_from_files=False,\r\n",
    ")\r\n",
    "\r\n",
    "if args.expand_filepaths_to_save_dir:\r\n",
    "    args.vectorizer_file = os.path.join(args.save_dir,\r\n",
    "                                        args.vectorizer_file)\r\n",
    "\r\n",
    "    args.model_state_file = os.path.join(args.save_dir,\r\n",
    "                                         args.model_state_file)\r\n",
    "    \r\n",
    "    print(\"Expanded filepaths: \")\r\n",
    "    print(\"\\t{}\".format(args.vectorizer_file))\r\n",
    "    print(\"\\t{}\".format(args.model_state_file))\r\n",
    "    \r\n",
    "# Check CUDA\r\n",
    "if not torch.cuda.is_available():\r\n",
    "    args.cuda = False\r\n",
    "\r\n",
    "print(\"Using CUDA: {}\".format(args.cuda))\r\n",
    "\r\n",
    "args.device = torch.device(\"cuda\" if args.cuda else \"cpu\")\r\n",
    "\r\n",
    "# Set seed for reproducibility\r\n",
    "set_seed_everywhere(args.seed, args.cuda)\r\n",
    "\r\n",
    "# handle dirs\r\n",
    "handle_dirs(args.save_dir)"
   ],
   "outputs": [
    {
     "output_type": "stream",
     "name": "stdout",
     "text": [
      "Expanded filepaths: \n",
      "\tmodel_storage/yelp/vectorizer.json\n",
      "\tmodel_storage/yelp/model.pth\n",
      "Using CUDA: True\n"
     ]
    }
   ],
   "metadata": {}
  },
  {
   "cell_type": "markdown",
   "source": [
    "### Initializations"
   ],
   "metadata": {}
  },
  {
   "cell_type": "code",
   "execution_count": 20,
   "source": [
    "if args.reload_from_files:\r\n",
    "    # training from a checkpoint\r\n",
    "    print(\"Loading dataset and vectorizer\")\r\n",
    "    dataset = ReviewDataset.load_dataset_and_load_vectorizer(args.review_csv,\r\n",
    "                                                            args.vectorizer_file)\r\n",
    "else:\r\n",
    "    print(\"Loading dataset and creating vectorizer\")\r\n",
    "    # create dataset and vectorizer\r\n",
    "    dataset = ReviewDataset.load_dataset_and_make_vectorizer(args.review_csv)\r\n",
    "    dataset.save_vectorizer(args.vectorizer_file)    \r\n",
    "vectorizer = dataset.get_vectorizer()\r\n",
    "\r\n",
    "classifier = ReviewClassifier(num_features=len(vectorizer.review_vocab))"
   ],
   "outputs": [
    {
     "output_type": "stream",
     "name": "stdout",
     "text": [
      "Loading dataset and creating vectorizer\n"
     ]
    }
   ],
   "metadata": {}
  },
  {
   "cell_type": "markdown",
   "source": [
    "### Training loop"
   ],
   "metadata": {}
  },
  {
   "cell_type": "code",
   "execution_count": 21,
   "source": [
    "classifier = classifier.to(args.device)\r\n",
    "\r\n",
    "loss_func = nn.BCEWithLogitsLoss()\r\n",
    "optimizer = optim.Adam(classifier.parameters(), lr=args.learning_rate)\r\n",
    "scheduler = optim.lr_scheduler.ReduceLROnPlateau(optimizer=optimizer,\r\n",
    "                                                 mode='min', factor=0.5,\r\n",
    "                                                 patience=1)\r\n",
    "\r\n",
    "train_state = make_train_state(args)\r\n",
    "\r\n",
    "epoch_bar = tqdm(desc='training routine', \r\n",
    "                          total=args.num_epochs,\r\n",
    "                          position=0)\r\n",
    "\r\n",
    "dataset.set_split('train')\r\n",
    "train_bar = tqdm(desc='split=train',\r\n",
    "                          total=dataset.get_num_batches(args.batch_size), \r\n",
    "                          position=1, \r\n",
    "                          leave=True)\r\n",
    "dataset.set_split('val')\r\n",
    "val_bar = tqdm(desc='split=val',\r\n",
    "                        total=dataset.get_num_batches(args.batch_size), \r\n",
    "                        position=1, \r\n",
    "                        leave=True)\r\n",
    "\r\n",
    "try:\r\n",
    "    for epoch_index in range(args.num_epochs):\r\n",
    "        train_state['epoch_index'] = epoch_index\r\n",
    "\r\n",
    "        # Iterate over training dataset\r\n",
    "\r\n",
    "        # setup: batch generator, set loss and acc to 0, set train mode on\r\n",
    "        dataset.set_split('train')\r\n",
    "        batch_generator = generate_batches(dataset, \r\n",
    "                                           batch_size=args.batch_size, \r\n",
    "                                           device=args.device)\r\n",
    "        running_loss = 0.0\r\n",
    "        running_acc = 0.0\r\n",
    "        classifier.train()\r\n",
    "\r\n",
    "        for batch_index, batch_dict in enumerate(batch_generator):\r\n",
    "            # the training routine is these 5 steps:\r\n",
    "\r\n",
    "            # --------------------------------------\r\n",
    "            # step 1. zero the gradients\r\n",
    "            optimizer.zero_grad()\r\n",
    "\r\n",
    "            # step 2. compute the output\r\n",
    "            y_pred = classifier(x_in=batch_dict['x_data'].float())\r\n",
    "\r\n",
    "            # step 3. compute the loss\r\n",
    "            loss = loss_func(y_pred, batch_dict['y_target'].float())\r\n",
    "            loss_t = loss.item()\r\n",
    "            running_loss += (loss_t - running_loss) / (batch_index + 1)\r\n",
    "\r\n",
    "            # step 4. use loss to produce gradients\r\n",
    "            loss.backward()\r\n",
    "\r\n",
    "            # step 5. use optimizer to take gradient step\r\n",
    "            optimizer.step()\r\n",
    "            # -----------------------------------------\r\n",
    "            # compute the accuracy\r\n",
    "            acc_t = compute_accuracy(y_pred, batch_dict['y_target'])\r\n",
    "            running_acc += (acc_t - running_acc) / (batch_index + 1)\r\n",
    "\r\n",
    "            # update bar\r\n",
    "            train_bar.set_postfix(loss=running_loss, \r\n",
    "                                  acc=running_acc, \r\n",
    "                                  epoch=epoch_index)\r\n",
    "            train_bar.update()\r\n",
    "\r\n",
    "        train_state['train_loss'].append(running_loss)\r\n",
    "        train_state['train_acc'].append(running_acc)\r\n",
    "\r\n",
    "        # Iterate over val dataset\r\n",
    "\r\n",
    "        # setup: batch generator, set loss and acc to 0; set eval mode on\r\n",
    "        dataset.set_split('val')\r\n",
    "        batch_generator = generate_batches(dataset, \r\n",
    "                                           batch_size=args.batch_size, \r\n",
    "                                           device=args.device)\r\n",
    "        running_loss = 0.\r\n",
    "        running_acc = 0.\r\n",
    "        classifier.eval()\r\n",
    "\r\n",
    "        for batch_index, batch_dict in enumerate(batch_generator):\r\n",
    "\r\n",
    "            # compute the output\r\n",
    "            y_pred = classifier(x_in=batch_dict['x_data'].float())\r\n",
    "\r\n",
    "            # step 3. compute the loss\r\n",
    "            loss = loss_func(y_pred, batch_dict['y_target'].float())\r\n",
    "            loss_t = loss.item()\r\n",
    "            running_loss += (loss_t - running_loss) / (batch_index + 1)\r\n",
    "\r\n",
    "            # compute the accuracy\r\n",
    "            acc_t = compute_accuracy(y_pred, batch_dict['y_target'])\r\n",
    "            running_acc += (acc_t - running_acc) / (batch_index + 1)\r\n",
    "            \r\n",
    "            val_bar.set_postfix(loss=running_loss, \r\n",
    "                                acc=running_acc, \r\n",
    "                                epoch=epoch_index)\r\n",
    "            val_bar.update()\r\n",
    "\r\n",
    "        train_state['val_loss'].append(running_loss)\r\n",
    "        train_state['val_acc'].append(running_acc)\r\n",
    "\r\n",
    "        train_state = update_train_state(args=args, model=classifier,\r\n",
    "                                         train_state=train_state)\r\n",
    "\r\n",
    "        scheduler.step(train_state['val_loss'][-1])\r\n",
    "\r\n",
    "        train_bar.n = 0\r\n",
    "        val_bar.n = 0\r\n",
    "        epoch_bar.update()\r\n",
    "\r\n",
    "        if train_state['stop_early']:\r\n",
    "            break\r\n",
    "\r\n",
    "        train_bar.n = 0\r\n",
    "        val_bar.n = 0\r\n",
    "        epoch_bar.update()\r\n",
    "except KeyboardInterrupt:\r\n",
    "    print(\"Exiting loop\")"
   ],
   "outputs": [
    {
     "output_type": "display_data",
     "data": {
      "text/plain": [
       "training routine:   0%|          | 0/100 [00:00<?, ?it/s]"
      ],
      "application/vnd.jupyter.widget-view+json": {
       "version_major": 2,
       "version_minor": 0,
       "model_id": "5b8d3ae2d8b7411f9e284ee5dbf9fdd2"
      }
     },
     "metadata": {}
    },
    {
     "output_type": "display_data",
     "data": {
      "text/plain": [
       "split=train:   0%|          | 0/306 [00:00<?, ?it/s]"
      ],
      "application/vnd.jupyter.widget-view+json": {
       "version_major": 2,
       "version_minor": 0,
       "model_id": "01caaf992e9d4065ad807ffd4a9d597e"
      }
     },
     "metadata": {}
    },
    {
     "output_type": "display_data",
     "data": {
      "text/plain": [
       "split=val:   0%|          | 0/65 [00:00<?, ?it/s]"
      ],
      "application/vnd.jupyter.widget-view+json": {
       "version_major": 2,
       "version_minor": 0,
       "model_id": "573565e47f1346d19026fa2f05acce42"
      }
     },
     "metadata": {}
    }
   ],
   "metadata": {
    "code_folding": [
     30
    ]
   }
  },
  {
   "cell_type": "code",
   "execution_count": 22,
   "source": [
    "# compute the loss & accuracy on the test set using the best available model\r\n",
    "\r\n",
    "classifier.load_state_dict(torch.load(train_state['model_filename']))\r\n",
    "classifier = classifier.to(args.device)\r\n",
    "\r\n",
    "dataset.set_split('test')\r\n",
    "batch_generator = generate_batches(dataset, \r\n",
    "                                   batch_size=args.batch_size, \r\n",
    "                                   device=args.device)\r\n",
    "running_loss = 0.\r\n",
    "running_acc = 0.\r\n",
    "classifier.eval()\r\n",
    "\r\n",
    "for batch_index, batch_dict in enumerate(batch_generator):\r\n",
    "    # compute the output\r\n",
    "    y_pred = classifier(x_in=batch_dict['x_data'].float())\r\n",
    "\r\n",
    "    # compute the loss\r\n",
    "    loss = loss_func(y_pred, batch_dict['y_target'].float())\r\n",
    "    loss_t = loss.item()\r\n",
    "    running_loss += (loss_t - running_loss) / (batch_index + 1)\r\n",
    "\r\n",
    "    # compute the accuracy\r\n",
    "    acc_t = compute_accuracy(y_pred, batch_dict['y_target'])\r\n",
    "    running_acc += (acc_t - running_acc) / (batch_index + 1)\r\n",
    "\r\n",
    "train_state['test_loss'] = running_loss\r\n",
    "train_state['test_acc'] = running_acc"
   ],
   "outputs": [],
   "metadata": {}
  },
  {
   "cell_type": "code",
   "execution_count": 23,
   "source": [
    "print(\"Test loss: {:.3f}\".format(train_state['test_loss']))\r\n",
    "print(\"Test Accuracy: {:.2f}\".format(train_state['test_acc']))"
   ],
   "outputs": [
    {
     "output_type": "stream",
     "name": "stdout",
     "text": [
      "Test loss: 0.214\n",
      "Test Accuracy: 91.81\n"
     ]
    }
   ],
   "metadata": {}
  },
  {
   "cell_type": "markdown",
   "source": [
    "### Inference"
   ],
   "metadata": {}
  },
  {
   "cell_type": "code",
   "execution_count": 24,
   "source": [
    "def preprocess_text(text):\r\n",
    "    text = text.lower()\r\n",
    "    text = re.sub(r\"([.,!?])\", r\" \\1 \", text)\r\n",
    "    text = re.sub(r\"[^a-zA-Z.,!?]+\", r\" \", text)\r\n",
    "    return text"
   ],
   "outputs": [],
   "metadata": {}
  },
  {
   "cell_type": "code",
   "execution_count": 25,
   "source": [
    "def predict_rating(review, classifier, vectorizer, decision_threshold=0.5):\r\n",
    "    \"\"\"Predict the rating of a review\r\n",
    "    \r\n",
    "    Args:\r\n",
    "        review (str): the text of the review\r\n",
    "        classifier (ReviewClassifier): the trained model\r\n",
    "        vectorizer (ReviewVectorizer): the corresponding vectorizer\r\n",
    "        decision_threshold (float): The numerical boundary which separates the rating classes\r\n",
    "    \"\"\"\r\n",
    "    review = preprocess_text(review)\r\n",
    "    \r\n",
    "    vectorized_review = torch.tensor(vectorizer.vectorize(review))\r\n",
    "    result = classifier(vectorized_review.view(1, -1))\r\n",
    "    \r\n",
    "    probability_value = F.sigmoid(result).item()\r\n",
    "    index = 1\r\n",
    "    if probability_value < decision_threshold:\r\n",
    "        index = 0\r\n",
    "\r\n",
    "    return vectorizer.rating_vocab.lookup_index(index)"
   ],
   "outputs": [],
   "metadata": {}
  },
  {
   "cell_type": "code",
   "execution_count": 26,
   "source": [
    "test_review = \"this is a pretty awesome book\"\r\n",
    "\r\n",
    "classifier = classifier.cpu()\r\n",
    "prediction = predict_rating(test_review, classifier, vectorizer, decision_threshold=0.5)\r\n",
    "print(\"{} -> {}\".format(test_review, prediction))"
   ],
   "outputs": [
    {
     "output_type": "stream",
     "name": "stdout",
     "text": [
      "this is a pretty awesome book -> positive\n"
     ]
    },
    {
     "output_type": "stream",
     "name": "stderr",
     "text": [
      "C:\\ProgramData\\Anaconda3\\envs\\cits4012\\lib\\site-packages\\torch\\nn\\functional.py:1805: UserWarning: nn.functional.sigmoid is deprecated. Use torch.sigmoid instead.\n",
      "  warnings.warn(\"nn.functional.sigmoid is deprecated. Use torch.sigmoid instead.\")\n"
     ]
    }
   ],
   "metadata": {}
  },
  {
   "cell_type": "markdown",
   "source": [
    "### Interpretability"
   ],
   "metadata": {}
  },
  {
   "cell_type": "code",
   "execution_count": 27,
   "source": [
    "classifier.fc1.weight.shape"
   ],
   "outputs": [
    {
     "output_type": "execute_result",
     "data": {
      "text/plain": [
       "torch.Size([1, 7326])"
      ]
     },
     "metadata": {},
     "execution_count": 27
    }
   ],
   "metadata": {}
  },
  {
   "cell_type": "code",
   "execution_count": 28,
   "source": [
    "# Sort weights\r\n",
    "fc1_weights = classifier.fc1.weight.detach()[0]\r\n",
    "_, indices = torch.sort(fc1_weights, dim=0, descending=True)\r\n",
    "indices = indices.numpy().tolist()\r\n",
    "\r\n",
    "# Top 20 words\r\n",
    "print(\"Influential words in Positive Reviews:\")\r\n",
    "print(\"--------------------------------------\")\r\n",
    "for i in range(20):\r\n",
    "    print(vectorizer.review_vocab.lookup_index(indices[i]))\r\n",
    "    \r\n",
    "print(\"====\\n\\n\\n\")\r\n",
    "\r\n",
    "# Top 20 negative words\r\n",
    "print(\"Influential words in Negative Reviews:\")\r\n",
    "print(\"--------------------------------------\")\r\n",
    "indices.reverse()\r\n",
    "for i in range(20):\r\n",
    "    print(vectorizer.review_vocab.lookup_index(indices[i]))"
   ],
   "outputs": [
    {
     "output_type": "stream",
     "name": "stdout",
     "text": [
      "Influential words in Positive Reviews:\n",
      "--------------------------------------\n",
      "delicious\n",
      "fantastic\n",
      "pleasantly\n",
      "amazing\n",
      "great\n",
      "vegas\n",
      "excellent\n",
      "yum\n",
      "perfect\n",
      "awesome\n",
      "ngreat\n",
      "yummy\n",
      "love\n",
      "bomb\n",
      "solid\n",
      "pleased\n",
      "wonderful\n",
      "chinatown\n",
      "notch\n",
      "deliciousness\n",
      "====\n",
      "\n",
      "\n",
      "\n",
      "Influential words in Negative Reviews:\n",
      "--------------------------------------\n",
      "worst\n",
      "mediocre\n",
      "bland\n",
      "horrible\n",
      "meh\n",
      "awful\n",
      "rude\n",
      "terrible\n",
      "tasteless\n",
      "overpriced\n",
      "disgusting\n",
      "unacceptable\n",
      "poorly\n",
      "slowest\n",
      "unfriendly\n",
      "nmaybe\n",
      "disappointing\n",
      "disappointment\n",
      "downhill\n",
      "underwhelmed\n"
     ]
    }
   ],
   "metadata": {
    "scrolled": false
   }
  },
  {
   "cell_type": "markdown",
   "source": [
    "### End"
   ],
   "metadata": {}
  }
 ],
 "metadata": {
  "kernelspec": {
   "name": "python3",
   "display_name": "Python 3.8.10 64-bit ('cits4012': conda)"
  },
  "language_info": {
   "codemirror_mode": {
    "name": "ipython",
    "version": 3
   },
   "file_extension": ".py",
   "mimetype": "text/x-python",
   "name": "python",
   "nbconvert_exporter": "python",
   "pygments_lexer": "ipython3",
   "version": "3.8.10"
  },
  "toc": {
   "colors": {
    "hover_highlight": "#DAA520",
    "running_highlight": "#FF0000",
    "selected_highlight": "#FFD700"
   },
   "moveMenuLeft": true,
   "nav_menu": {
    "height": "156px",
    "width": "252px"
   },
   "navigate_menu": true,
   "number_sections": true,
   "sideBar": true,
   "threshold": "5",
   "toc_cell": false,
   "toc_section_display": "block",
   "toc_window_display": false
  },
  "interpreter": {
   "hash": "d990147e05fc0cc60dd3871899a6233eb6a5324c1885ded43d013dc915f7e535"
  }
 },
 "nbformat": 4,
 "nbformat_minor": 2
}