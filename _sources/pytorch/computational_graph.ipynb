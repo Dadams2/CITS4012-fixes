{
 "metadata": {
  "language_info": {
   "codemirror_mode": {
    "name": "ipython",
    "version": 3
   },
   "file_extension": ".py",
   "mimetype": "text/x-python",
   "name": "python",
   "nbconvert_exporter": "python",
   "pygments_lexer": "ipython3",
   "version": "3.8.10"
  },
  "orig_nbformat": 2,
  "kernelspec": {
   "name": "python3",
   "display_name": "Python 3.8.10 64-bit ('cits4012': conda)"
  },
  "interpreter": {
   "hash": "d990147e05fc0cc60dd3871899a6233eb6a5324c1885ded43d013dc915f7e535"
  }
 },
 "nbformat": 4,
 "nbformat_minor": 2,
 "cells": [
  {
   "cell_type": "markdown",
   "source": [
    "Dynamic Computational Graph in PyTorch\r\n",
    "=======================================\r\n",
    "\r\n",
    "Computational Graphs allow a deep learning framework to do additional bookkeeping to implement automatic gradient differentiation needed to obtain gradients of parameters during training. A computational graph is a DAG (directed acyclic graph), where the nodes are the mathematical operations, such as multiplication and addition. The inputs to the operations are the incoming edges and the output of each operation is the outgoing edge. \r\n",
    "\r\n",
    "Static frameworks such as Teano, Caffe and TensorFlow (< v1.7) require the computational graphs to be first declared , compiled and the excuted. Although this leads to extremely efficient implementations (useful in production and mobile settings), it can become quite cumberson during research and development. Modern frames like Chainer, DyNet and Pytorch, implement Dynamic Computational Graphs to allow for a more flexible, imperative style of development, without needing to compile the models before every excution. Dynamic computational graphs are especially useful in modelling NLP tasks as each input could potentially result in a different graph structure. As of Version 1.7, TensorFlow has an eager excution that `tf.Tensor` objects reference concrete values instead of symbolic handles to nodes in a computational graph. This is a similar to the PyTorch's dynamic computational graph idea. "
   ],
   "metadata": {}
  },
  {
   "cell_type": "code",
   "execution_count": 3,
   "source": [
    "import torch\r\n",
    "import numpy as np\r\n",
    "\r\n",
    "device = 'cuda' if torch.cuda.is_available() else 'cpu'\r\n"
   ],
   "outputs": [],
   "metadata": {}
  },
  {
   "cell_type": "markdown",
   "source": [
    "## Training Data Preparation\r\n",
    "\r\n",
    "We use the same linear model data preparation process here. "
   ],
   "metadata": {}
  },
  {
   "cell_type": "code",
   "execution_count": 4,
   "source": [
    "true_b = 1\r\n",
    "true_w = 2\r\n",
    "N = 100\r\n",
    "# Data Generation\r\n",
    "np.random.seed(42)\r\n",
    "x = np.random.rand(N, 1)\r\n",
    "epsilon = (.1 * np.random.randn(N, 1))\r\n",
    "y = true_b + true_w * x + epsilon\r\n",
    "\r\n",
    "# Shuffles the indices\r\n",
    "idx = np.arange(N)\r\n",
    "np.random.shuffle(idx)\r\n",
    "# Uses first 80 random indices for train\r\n",
    "train_idx = idx[:int(N*.8)]\r\n",
    "# Uses the remaining indices for validation\r\n",
    "val_idx = idx[int(N*.8):]\r\n",
    "# Generates train and validation sets\r\n",
    "x_train, y_train = x[train_idx], y[train_idx]\r\n",
    "x_val, y_val = x[val_idx], y[val_idx]\r\n",
    "\r\n",
    "# Our data was in Numpy arrays, but we need to transform them\r\n",
    "# into PyTorch's Tensors and then we send them to the\r\n",
    "# chosen device\r\n",
    "x_train_tensor = torch.as_tensor(x_train).float().to(device)\r\n",
    "y_train_tensor = torch.as_tensor(y_train).float().to(device)"
   ],
   "outputs": [],
   "metadata": {}
  },
  {
   "cell_type": "markdown",
   "source": [
    "## Using `torchviz` to visualise computation graph "
   ],
   "metadata": {}
  },
  {
   "cell_type": "code",
   "execution_count": 5,
   "source": [
    "from torch import nn\r\n",
    "from torchviz import make_dot, make_dot_from_trace"
   ],
   "outputs": [],
   "metadata": {}
  },
  {
   "cell_type": "code",
   "execution_count": 6,
   "source": [
    "# Step 0 - Initializes parameters \"b\" and \"w\" randomly\r\n",
    "torch.manual_seed(42)\r\n",
    "b = torch.randn(1, requires_grad=True, \\\r\n",
    "    dtype=torch.float, device=device)\r\n",
    "w = torch.randn(1, requires_grad=True, \\\r\n",
    "    dtype=torch.float, device=device)\r\n",
    "# Step 1 - Computes our model's predicted output \r\n",
    "#        - forward pass\r\n",
    "yhat = b + w * x_train_tensor\r\n",
    "# Step 2 - Computes the loss\r\n",
    "error = (yhat - y_train_tensor)\r\n",
    "loss = (error ** 2).mean()\r\n",
    "# We can try plotting the graph for any python variable:\r\n",
    "# yhat, error, loss...\r\n",
    "make_dot(yhat)"
   ],
   "outputs": [
    {
     "output_type": "execute_result",
     "data": {
      "text/plain": [
       "<graphviz.dot.Digraph at 0x1cd4650f580>"
      ],
      "image/svg+xml": "<?xml version=\"1.0\" encoding=\"UTF-8\" standalone=\"no\"?>\r\n<!DOCTYPE svg PUBLIC \"-//W3C//DTD SVG 1.1//EN\"\r\n \"http://www.w3.org/Graphics/SVG/1.1/DTD/svg11.dtd\">\r\n<!-- Generated by graphviz version 2.47.3 (20210619.1520)\r\n -->\r\n<!-- Pages: 1 -->\r\n<svg width=\"222pt\" height=\"283pt\"\r\n viewBox=\"0.00 0.00 222.00 283.00\" xmlns=\"http://www.w3.org/2000/svg\" xmlns:xlink=\"http://www.w3.org/1999/xlink\">\r\n<g id=\"graph0\" class=\"graph\" transform=\"scale(1 1) rotate(0) translate(4 279)\">\r\n<polygon fill=\"white\" stroke=\"transparent\" points=\"-4,4 -4,-279 218,-279 218,4 -4,4\"/>\r\n<!-- 1981256559872 -->\r\n<g id=\"node1\" class=\"node\">\r\n<title>1981256559872</title>\r\n<polygon fill=\"#caff70\" stroke=\"black\" points=\"139,-31 74,-31 74,0 139,0 139,-31\"/>\r\n<text text-anchor=\"middle\" x=\"106.5\" y=\"-7\" font-family=\"monospace\" font-size=\"10.00\"> (80, 1)</text>\r\n</g>\r\n<!-- 1981159633104 -->\r\n<g id=\"node2\" class=\"node\">\r\n<title>1981159633104</title>\r\n<polygon fill=\"lightgrey\" stroke=\"black\" points=\"151,-86 62,-86 62,-67 151,-67 151,-86\"/>\r\n<text text-anchor=\"middle\" x=\"106.5\" y=\"-74\" font-family=\"monospace\" font-size=\"10.00\">AddBackward0</text>\r\n</g>\r\n<!-- 1981159633104&#45;&gt;1981256559872 -->\r\n<g id=\"edge6\" class=\"edge\">\r\n<title>1981159633104&#45;&gt;1981256559872</title>\r\n<path fill=\"none\" stroke=\"black\" d=\"M106.5,-66.79C106.5,-60.07 106.5,-50.4 106.5,-41.34\"/>\r\n<polygon fill=\"black\" stroke=\"black\" points=\"110,-41.19 106.5,-31.19 103,-41.19 110,-41.19\"/>\r\n</g>\r\n<!-- 1981159634880 -->\r\n<g id=\"node3\" class=\"node\">\r\n<title>1981159634880</title>\r\n<polygon fill=\"lightgrey\" stroke=\"black\" points=\"101,-141 0,-141 0,-122 101,-122 101,-141\"/>\r\n<text text-anchor=\"middle\" x=\"50.5\" y=\"-129\" font-family=\"monospace\" font-size=\"10.00\">AccumulateGrad</text>\r\n</g>\r\n<!-- 1981159634880&#45;&gt;1981159633104 -->\r\n<g id=\"edge1\" class=\"edge\">\r\n<title>1981159634880&#45;&gt;1981159633104</title>\r\n<path fill=\"none\" stroke=\"black\" d=\"M59.5,-121.98C67.69,-114.23 80.01,-102.58 89.97,-93.14\"/>\r\n<polygon fill=\"black\" stroke=\"black\" points=\"92.48,-95.59 97.34,-86.17 87.67,-90.5 92.48,-95.59\"/>\r\n</g>\r\n<!-- 1981256435264 -->\r\n<g id=\"node4\" class=\"node\">\r\n<title>1981256435264</title>\r\n<polygon fill=\"lightblue\" stroke=\"black\" points=\"77.5,-208 23.5,-208 23.5,-177 77.5,-177 77.5,-208\"/>\r\n<text text-anchor=\"middle\" x=\"50.5\" y=\"-184\" font-family=\"monospace\" font-size=\"10.00\"> (1)</text>\r\n</g>\r\n<!-- 1981256435264&#45;&gt;1981159634880 -->\r\n<g id=\"edge2\" class=\"edge\">\r\n<title>1981256435264&#45;&gt;1981159634880</title>\r\n<path fill=\"none\" stroke=\"black\" d=\"M50.5,-176.92C50.5,-169.22 50.5,-159.69 50.5,-151.43\"/>\r\n<polygon fill=\"black\" stroke=\"black\" points=\"54,-151.25 50.5,-141.25 47,-151.25 54,-151.25\"/>\r\n</g>\r\n<!-- 1981159636416 -->\r\n<g id=\"node5\" class=\"node\">\r\n<title>1981159636416</title>\r\n<polygon fill=\"lightgrey\" stroke=\"black\" points=\"208,-141 119,-141 119,-122 208,-122 208,-141\"/>\r\n<text text-anchor=\"middle\" x=\"163.5\" y=\"-129\" font-family=\"monospace\" font-size=\"10.00\">MulBackward0</text>\r\n</g>\r\n<!-- 1981159636416&#45;&gt;1981159633104 -->\r\n<g id=\"edge3\" class=\"edge\">\r\n<title>1981159636416&#45;&gt;1981159633104</title>\r\n<path fill=\"none\" stroke=\"black\" d=\"M154.34,-121.98C146,-114.23 133.47,-102.58 123.32,-93.14\"/>\r\n<polygon fill=\"black\" stroke=\"black\" points=\"125.53,-90.42 115.82,-86.17 120.76,-95.54 125.53,-90.42\"/>\r\n</g>\r\n<!-- 1981159636608 -->\r\n<g id=\"node6\" class=\"node\">\r\n<title>1981159636608</title>\r\n<polygon fill=\"lightgrey\" stroke=\"black\" points=\"214,-202 113,-202 113,-183 214,-183 214,-202\"/>\r\n<text text-anchor=\"middle\" x=\"163.5\" y=\"-190\" font-family=\"monospace\" font-size=\"10.00\">AccumulateGrad</text>\r\n</g>\r\n<!-- 1981159636608&#45;&gt;1981159636416 -->\r\n<g id=\"edge4\" class=\"edge\">\r\n<title>1981159636608&#45;&gt;1981159636416</title>\r\n<path fill=\"none\" stroke=\"black\" d=\"M163.5,-182.79C163.5,-174.6 163.5,-162.06 163.5,-151.55\"/>\r\n<polygon fill=\"black\" stroke=\"black\" points=\"167,-151.24 163.5,-141.24 160,-151.24 167,-151.24\"/>\r\n</g>\r\n<!-- 1981204937984 -->\r\n<g id=\"node7\" class=\"node\">\r\n<title>1981204937984</title>\r\n<polygon fill=\"lightblue\" stroke=\"black\" points=\"190.5,-275 136.5,-275 136.5,-244 190.5,-244 190.5,-275\"/>\r\n<text text-anchor=\"middle\" x=\"163.5\" y=\"-251\" font-family=\"monospace\" font-size=\"10.00\"> (1)</text>\r\n</g>\r\n<!-- 1981204937984&#45;&gt;1981159636608 -->\r\n<g id=\"edge5\" class=\"edge\">\r\n<title>1981204937984&#45;&gt;1981159636608</title>\r\n<path fill=\"none\" stroke=\"black\" d=\"M163.5,-243.75C163.5,-234.39 163.5,-222.19 163.5,-212.16\"/>\r\n<polygon fill=\"black\" stroke=\"black\" points=\"167,-212.02 163.5,-202.02 160,-212.02 167,-212.02\"/>\r\n</g>\r\n</g>\r\n</svg>\r\n"
     },
     "metadata": {},
     "execution_count": 6
    }
   ],
   "metadata": {}
  },
  {
   "cell_type": "markdown",
   "source": [
    "Let's take a closer look at its components:\r\n",
    "- blue boxes ((1)s): these boxes correspond to the tensors we use as parameters, the ones we're asking PyTorch to compute gradients for\r\n",
    "- gray boxes (MulBackward0 and AddBackward0): a Python operation that involves a gradient-computing tensor or its dependencies\r\n",
    "- green box ((80, 1)): the tensor used as the starting point for the computation of gradients (assuming the backward() method is called from the variable used to visualize the graph) — they are computed from the bottom-up in a graph \r\n",
    "\r\n",
    "Now, take a closer look at the gray box (AddBackward0) at the bottom of the graph: two arrows are\r\n",
    "pointing to it since it is adding up two variables, $b$, and $w\\times x$. But the gray box (MulBackward0) of the same graph: it is performing a multiplication, namely, $w \\times x$. But there is only one arrow pointing to it! The arrow comes from the blue box that corresponds to our parameter $w$.\r\n",
    "\r\n",
    ":::{admonition} \"Why don’t we have a box for our data (x)?\"\r\n",
    ":class: tip\r\n",
    "The answer is: we do not compute gradients for it!\r\n",
    ":::"
   ],
   "metadata": {}
  },
  {
   "cell_type": "markdown",
   "source": [
    "## No gradient tracking for `b`\r\n",
    "\r\n",
    ":::{important}\r\n",
    "Even though there are more tensors involved in the operations performed by\r\n",
    "the computation graph, it only shows **gradient-computing tensors** and its\r\n",
    "dependencies.\r\n",
    ":::\r\n",
    "\r\n",
    "Let's try to set b to be a non-gradient computing tensor and visualise the computational graph."
   ],
   "metadata": {}
  },
  {
   "cell_type": "code",
   "execution_count": 7,
   "source": [
    "b_nograd = torch.randn(1, requires_grad=False, \\\r\n",
    "dtype=torch.float, device=device)\r\n",
    "w = torch.randn(1, requires_grad=True, \\\r\n",
    "dtype=torch.float, device=device)\r\n",
    "yhat = b_nograd + w * x_train_tensor\r\n",
    "make_dot(yhat)"
   ],
   "outputs": [
    {
     "output_type": "execute_result",
     "data": {
      "text/plain": [
       "<graphviz.dot.Digraph at 0x1cd4c14b910>"
      ],
      "image/svg+xml": "<?xml version=\"1.0\" encoding=\"UTF-8\" standalone=\"no\"?>\r\n<!DOCTYPE svg PUBLIC \"-//W3C//DTD SVG 1.1//EN\"\r\n \"http://www.w3.org/Graphics/SVG/1.1/DTD/svg11.dtd\">\r\n<!-- Generated by graphviz version 2.47.3 (20210619.1520)\r\n -->\r\n<!-- Pages: 1 -->\r\n<svg width=\"109pt\" height=\"271pt\"\r\n viewBox=\"0.00 0.00 109.00 271.00\" xmlns=\"http://www.w3.org/2000/svg\" xmlns:xlink=\"http://www.w3.org/1999/xlink\">\r\n<g id=\"graph0\" class=\"graph\" transform=\"scale(1 1) rotate(0) translate(4 267)\">\r\n<polygon fill=\"white\" stroke=\"transparent\" points=\"-4,4 -4,-267 105,-267 105,4 -4,4\"/>\r\n<!-- 1981159845120 -->\r\n<g id=\"node1\" class=\"node\">\r\n<title>1981159845120</title>\r\n<polygon fill=\"#caff70\" stroke=\"black\" points=\"83,-31 18,-31 18,0 83,0 83,-31\"/>\r\n<text text-anchor=\"middle\" x=\"50.5\" y=\"-7\" font-family=\"monospace\" font-size=\"10.00\"> (80, 1)</text>\r\n</g>\r\n<!-- 1981256349776 -->\r\n<g id=\"node2\" class=\"node\">\r\n<title>1981256349776</title>\r\n<polygon fill=\"lightgrey\" stroke=\"black\" points=\"95,-86 6,-86 6,-67 95,-67 95,-86\"/>\r\n<text text-anchor=\"middle\" x=\"50.5\" y=\"-74\" font-family=\"monospace\" font-size=\"10.00\">AddBackward0</text>\r\n</g>\r\n<!-- 1981256349776&#45;&gt;1981159845120 -->\r\n<g id=\"edge4\" class=\"edge\">\r\n<title>1981256349776&#45;&gt;1981159845120</title>\r\n<path fill=\"none\" stroke=\"black\" d=\"M50.5,-66.79C50.5,-60.07 50.5,-50.4 50.5,-41.34\"/>\r\n<polygon fill=\"black\" stroke=\"black\" points=\"54,-41.19 50.5,-31.19 47,-41.19 54,-41.19\"/>\r\n</g>\r\n<!-- 1981256349728 -->\r\n<g id=\"node3\" class=\"node\">\r\n<title>1981256349728</title>\r\n<polygon fill=\"lightgrey\" stroke=\"black\" points=\"95,-141 6,-141 6,-122 95,-122 95,-141\"/>\r\n<text text-anchor=\"middle\" x=\"50.5\" y=\"-129\" font-family=\"monospace\" font-size=\"10.00\">MulBackward0</text>\r\n</g>\r\n<!-- 1981256349728&#45;&gt;1981256349776 -->\r\n<g id=\"edge1\" class=\"edge\">\r\n<title>1981256349728&#45;&gt;1981256349776</title>\r\n<path fill=\"none\" stroke=\"black\" d=\"M50.5,-121.75C50.5,-114.8 50.5,-104.85 50.5,-96.13\"/>\r\n<polygon fill=\"black\" stroke=\"black\" points=\"54,-96.09 50.5,-86.09 47,-96.09 54,-96.09\"/>\r\n</g>\r\n<!-- 1981160699024 -->\r\n<g id=\"node4\" class=\"node\">\r\n<title>1981160699024</title>\r\n<polygon fill=\"lightgrey\" stroke=\"black\" points=\"101,-196 0,-196 0,-177 101,-177 101,-196\"/>\r\n<text text-anchor=\"middle\" x=\"50.5\" y=\"-184\" font-family=\"monospace\" font-size=\"10.00\">AccumulateGrad</text>\r\n</g>\r\n<!-- 1981160699024&#45;&gt;1981256349728 -->\r\n<g id=\"edge2\" class=\"edge\">\r\n<title>1981160699024&#45;&gt;1981256349728</title>\r\n<path fill=\"none\" stroke=\"black\" d=\"M50.5,-176.75C50.5,-169.8 50.5,-159.85 50.5,-151.13\"/>\r\n<polygon fill=\"black\" stroke=\"black\" points=\"54,-151.09 50.5,-141.09 47,-151.09 54,-151.09\"/>\r\n</g>\r\n<!-- 1981159843712 -->\r\n<g id=\"node5\" class=\"node\">\r\n<title>1981159843712</title>\r\n<polygon fill=\"lightblue\" stroke=\"black\" points=\"77.5,-263 23.5,-263 23.5,-232 77.5,-232 77.5,-263\"/>\r\n<text text-anchor=\"middle\" x=\"50.5\" y=\"-239\" font-family=\"monospace\" font-size=\"10.00\"> (1)</text>\r\n</g>\r\n<!-- 1981159843712&#45;&gt;1981160699024 -->\r\n<g id=\"edge3\" class=\"edge\">\r\n<title>1981159843712&#45;&gt;1981160699024</title>\r\n<path fill=\"none\" stroke=\"black\" d=\"M50.5,-231.92C50.5,-224.22 50.5,-214.69 50.5,-206.43\"/>\r\n<polygon fill=\"black\" stroke=\"black\" points=\"54,-206.25 50.5,-196.25 47,-206.25 54,-206.25\"/>\r\n</g>\r\n</g>\r\n</svg>\r\n"
     },
     "metadata": {},
     "execution_count": 7
    }
   ],
   "metadata": {}
  },
  {
   "cell_type": "markdown",
   "source": [
    "## Computational Graph with branches\r\n",
    "\r\n",
    "Let's look at how computational graph deals with if statement. Note the code does not do anything sensible, purely for visualisation and demonstration purposes."
   ],
   "metadata": {}
  },
  {
   "cell_type": "code",
   "execution_count": 9,
   "source": [
    "b = torch.randn(1, requires_grad=True, \\\r\n",
    "dtype=torch.float, device=device)\r\n",
    "w = torch.randn(1, requires_grad=True, \\\r\n",
    "dtype=torch.float, device=device)\r\n",
    "yhat = b + w * x_train_tensor\r\n",
    "error = yhat - y_train_tensor\r\n",
    "loss = (error ** 2).mean()\r\n",
    "# this makes no sense!!\r\n",
    "if loss > 0:\r\n",
    "    yhat2 = w * x_train_tensor\r\n",
    "    error2 = yhat2 - y_train_tensor\r\n",
    "# neither does this :-)\r\n",
    "loss += error2.mean()\r\n",
    "make_dot(loss)"
   ],
   "outputs": [
    {
     "output_type": "execute_result",
     "data": {
      "text/plain": [
       "<graphviz.dot.Digraph at 0x1cd4c17b1c0>"
      ],
      "image/svg+xml": "<?xml version=\"1.0\" encoding=\"UTF-8\" standalone=\"no\"?>\r\n<!DOCTYPE svg PUBLIC \"-//W3C//DTD SVG 1.1//EN\"\r\n \"http://www.w3.org/Graphics/SVG/1.1/DTD/svg11.dtd\">\r\n<!-- Generated by graphviz version 2.47.3 (20210619.1520)\r\n -->\r\n<!-- Pages: 1 -->\r\n<svg width=\"326pt\" height=\"503pt\"\r\n viewBox=\"0.00 0.00 326.00 503.00\" xmlns=\"http://www.w3.org/2000/svg\" xmlns:xlink=\"http://www.w3.org/1999/xlink\">\r\n<g id=\"graph0\" class=\"graph\" transform=\"scale(1 1) rotate(0) translate(4 499)\">\r\n<polygon fill=\"white\" stroke=\"transparent\" points=\"-4,4 -4,-499 322,-499 322,4 -4,4\"/>\r\n<!-- 1980032143168 -->\r\n<g id=\"node1\" class=\"node\">\r\n<title>1980032143168</title>\r\n<polygon fill=\"#caff70\" stroke=\"black\" points=\"242.5,-31 188.5,-31 188.5,0 242.5,0 242.5,-31\"/>\r\n<text text-anchor=\"middle\" x=\"215.5\" y=\"-7\" font-family=\"monospace\" font-size=\"10.00\"> ()</text>\r\n</g>\r\n<!-- 1981256545568 -->\r\n<g id=\"node2\" class=\"node\">\r\n<title>1981256545568</title>\r\n<polygon fill=\"lightgrey\" stroke=\"black\" points=\"260,-86 171,-86 171,-67 260,-67 260,-86\"/>\r\n<text text-anchor=\"middle\" x=\"215.5\" y=\"-74\" font-family=\"monospace\" font-size=\"10.00\">AddBackward0</text>\r\n</g>\r\n<!-- 1981256545568&#45;&gt;1980032143168 -->\r\n<g id=\"edge14\" class=\"edge\">\r\n<title>1981256545568&#45;&gt;1980032143168</title>\r\n<path fill=\"none\" stroke=\"black\" d=\"M215.5,-66.79C215.5,-60.07 215.5,-50.4 215.5,-41.34\"/>\r\n<polygon fill=\"black\" stroke=\"black\" points=\"219,-41.19 215.5,-31.19 212,-41.19 219,-41.19\"/>\r\n</g>\r\n<!-- 1981256545376 -->\r\n<g id=\"node3\" class=\"node\">\r\n<title>1981256545376</title>\r\n<polygon fill=\"lightgrey\" stroke=\"black\" points=\"225,-141 130,-141 130,-122 225,-122 225,-141\"/>\r\n<text text-anchor=\"middle\" x=\"177.5\" y=\"-129\" font-family=\"monospace\" font-size=\"10.00\">MeanBackward0</text>\r\n</g>\r\n<!-- 1981256545376&#45;&gt;1981256545568 -->\r\n<g id=\"edge1\" class=\"edge\">\r\n<title>1981256545376&#45;&gt;1981256545568</title>\r\n<path fill=\"none\" stroke=\"black\" d=\"M183.77,-121.75C189.09,-114.34 196.86,-103.5 203.38,-94.41\"/>\r\n<polygon fill=\"black\" stroke=\"black\" points=\"206.36,-96.26 209.34,-86.09 200.67,-92.18 206.36,-96.26\"/>\r\n</g>\r\n<!-- 1981256545664 -->\r\n<g id=\"node4\" class=\"node\">\r\n<title>1981256545664</title>\r\n<polygon fill=\"lightgrey\" stroke=\"black\" points=\"205,-196 116,-196 116,-177 205,-177 205,-196\"/>\r\n<text text-anchor=\"middle\" x=\"160.5\" y=\"-184\" font-family=\"monospace\" font-size=\"10.00\">PowBackward0</text>\r\n</g>\r\n<!-- 1981256545664&#45;&gt;1981256545376 -->\r\n<g id=\"edge2\" class=\"edge\">\r\n<title>1981256545664&#45;&gt;1981256545376</title>\r\n<path fill=\"none\" stroke=\"black\" d=\"M163.31,-176.75C165.56,-169.72 168.8,-159.62 171.62,-150.84\"/>\r\n<polygon fill=\"black\" stroke=\"black\" points=\"175.02,-151.68 174.75,-141.09 168.36,-149.54 175.02,-151.68\"/>\r\n</g>\r\n<!-- 1980032130352 -->\r\n<g id=\"node5\" class=\"node\">\r\n<title>1980032130352</title>\r\n<polygon fill=\"lightgrey\" stroke=\"black\" points=\"205,-251 116,-251 116,-232 205,-232 205,-251\"/>\r\n<text text-anchor=\"middle\" x=\"160.5\" y=\"-239\" font-family=\"monospace\" font-size=\"10.00\">SubBackward0</text>\r\n</g>\r\n<!-- 1980032130352&#45;&gt;1981256545664 -->\r\n<g id=\"edge3\" class=\"edge\">\r\n<title>1980032130352&#45;&gt;1981256545664</title>\r\n<path fill=\"none\" stroke=\"black\" d=\"M160.5,-231.75C160.5,-224.8 160.5,-214.85 160.5,-206.13\"/>\r\n<polygon fill=\"black\" stroke=\"black\" points=\"164,-206.09 160.5,-196.09 157,-206.09 164,-206.09\"/>\r\n</g>\r\n<!-- 1980032130448 -->\r\n<g id=\"node6\" class=\"node\">\r\n<title>1980032130448</title>\r\n<polygon fill=\"lightgrey\" stroke=\"black\" points=\"205,-306 116,-306 116,-287 205,-287 205,-306\"/>\r\n<text text-anchor=\"middle\" x=\"160.5\" y=\"-294\" font-family=\"monospace\" font-size=\"10.00\">AddBackward0</text>\r\n</g>\r\n<!-- 1980032130448&#45;&gt;1980032130352 -->\r\n<g id=\"edge4\" class=\"edge\">\r\n<title>1980032130448&#45;&gt;1980032130352</title>\r\n<path fill=\"none\" stroke=\"black\" d=\"M160.5,-286.75C160.5,-279.8 160.5,-269.85 160.5,-261.13\"/>\r\n<polygon fill=\"black\" stroke=\"black\" points=\"164,-261.09 160.5,-251.09 157,-261.09 164,-261.09\"/>\r\n</g>\r\n<!-- 1980032129008 -->\r\n<g id=\"node7\" class=\"node\">\r\n<title>1980032129008</title>\r\n<polygon fill=\"lightgrey\" stroke=\"black\" points=\"101,-361 0,-361 0,-342 101,-342 101,-361\"/>\r\n<text text-anchor=\"middle\" x=\"50.5\" y=\"-349\" font-family=\"monospace\" font-size=\"10.00\">AccumulateGrad</text>\r\n</g>\r\n<!-- 1980032129008&#45;&gt;1980032130448 -->\r\n<g id=\"edge5\" class=\"edge\">\r\n<title>1980032129008&#45;&gt;1980032130448</title>\r\n<path fill=\"none\" stroke=\"black\" d=\"M68.17,-341.98C85.79,-333.5 113.08,-320.35 133.43,-310.54\"/>\r\n<polygon fill=\"black\" stroke=\"black\" points=\"135.02,-313.66 142.51,-306.17 131.98,-307.36 135.02,-313.66\"/>\r\n</g>\r\n<!-- 1981159852992 -->\r\n<g id=\"node8\" class=\"node\">\r\n<title>1981159852992</title>\r\n<polygon fill=\"lightblue\" stroke=\"black\" points=\"77.5,-428 23.5,-428 23.5,-397 77.5,-397 77.5,-428\"/>\r\n<text text-anchor=\"middle\" x=\"50.5\" y=\"-404\" font-family=\"monospace\" font-size=\"10.00\"> (1)</text>\r\n</g>\r\n<!-- 1981159852992&#45;&gt;1980032129008 -->\r\n<g id=\"edge6\" class=\"edge\">\r\n<title>1981159852992&#45;&gt;1980032129008</title>\r\n<path fill=\"none\" stroke=\"black\" d=\"M50.5,-396.92C50.5,-389.22 50.5,-379.69 50.5,-371.43\"/>\r\n<polygon fill=\"black\" stroke=\"black\" points=\"54,-371.25 50.5,-361.25 47,-371.25 54,-371.25\"/>\r\n</g>\r\n<!-- 1980032130496 -->\r\n<g id=\"node9\" class=\"node\">\r\n<title>1980032130496</title>\r\n<polygon fill=\"lightgrey\" stroke=\"black\" points=\"208,-361 119,-361 119,-342 208,-342 208,-361\"/>\r\n<text text-anchor=\"middle\" x=\"163.5\" y=\"-349\" font-family=\"monospace\" font-size=\"10.00\">MulBackward0</text>\r\n</g>\r\n<!-- 1980032130496&#45;&gt;1980032130448 -->\r\n<g id=\"edge7\" class=\"edge\">\r\n<title>1980032130496&#45;&gt;1980032130448</title>\r\n<path fill=\"none\" stroke=\"black\" d=\"M163,-341.75C162.61,-334.8 162.05,-324.85 161.55,-316.13\"/>\r\n<polygon fill=\"black\" stroke=\"black\" points=\"165.05,-315.88 160.99,-306.09 158.06,-316.27 165.05,-315.88\"/>\r\n</g>\r\n<!-- 1980032130592 -->\r\n<g id=\"node10\" class=\"node\">\r\n<title>1980032130592</title>\r\n<polygon fill=\"lightgrey\" stroke=\"black\" points=\"267,-422 166,-422 166,-403 267,-403 267,-422\"/>\r\n<text text-anchor=\"middle\" x=\"216.5\" y=\"-410\" font-family=\"monospace\" font-size=\"10.00\">AccumulateGrad</text>\r\n</g>\r\n<!-- 1980032130592&#45;&gt;1980032130496 -->\r\n<g id=\"edge8\" class=\"edge\">\r\n<title>1980032130592&#45;&gt;1980032130496</title>\r\n<path fill=\"none\" stroke=\"black\" d=\"M208.68,-402.79C200.69,-393.91 188.11,-379.89 178.24,-368.91\"/>\r\n<polygon fill=\"black\" stroke=\"black\" points=\"180.64,-366.34 171.35,-361.24 175.43,-371.02 180.64,-366.34\"/>\r\n</g>\r\n<!-- 1980032129968 -->\r\n<g id=\"node14\" class=\"node\">\r\n<title>1980032129968</title>\r\n<polygon fill=\"lightgrey\" stroke=\"black\" points=\"315,-361 226,-361 226,-342 315,-342 315,-361\"/>\r\n<text text-anchor=\"middle\" x=\"270.5\" y=\"-349\" font-family=\"monospace\" font-size=\"10.00\">MulBackward0</text>\r\n</g>\r\n<!-- 1980032130592&#45;&gt;1980032129968 -->\r\n<g id=\"edge13\" class=\"edge\">\r\n<title>1980032130592&#45;&gt;1980032129968</title>\r\n<path fill=\"none\" stroke=\"black\" d=\"M224.47,-402.79C232.6,-393.91 245.43,-379.89 255.48,-368.91\"/>\r\n<polygon fill=\"black\" stroke=\"black\" points=\"258.33,-370.98 262.5,-361.24 253.17,-366.26 258.33,-370.98\"/>\r\n</g>\r\n<!-- 1981256556992 -->\r\n<g id=\"node11\" class=\"node\">\r\n<title>1981256556992</title>\r\n<polygon fill=\"lightblue\" stroke=\"black\" points=\"243.5,-495 189.5,-495 189.5,-464 243.5,-464 243.5,-495\"/>\r\n<text text-anchor=\"middle\" x=\"216.5\" y=\"-471\" font-family=\"monospace\" font-size=\"10.00\"> (1)</text>\r\n</g>\r\n<!-- 1981256556992&#45;&gt;1980032130592 -->\r\n<g id=\"edge9\" class=\"edge\">\r\n<title>1981256556992&#45;&gt;1980032130592</title>\r\n<path fill=\"none\" stroke=\"black\" d=\"M216.5,-463.75C216.5,-454.39 216.5,-442.19 216.5,-432.16\"/>\r\n<polygon fill=\"black\" stroke=\"black\" points=\"220,-432.02 216.5,-422.02 213,-432.02 220,-432.02\"/>\r\n</g>\r\n<!-- 1981256546480 -->\r\n<g id=\"node12\" class=\"node\">\r\n<title>1981256546480</title>\r\n<polygon fill=\"lightgrey\" stroke=\"black\" points=\"318,-196 223,-196 223,-177 318,-177 318,-196\"/>\r\n<text text-anchor=\"middle\" x=\"270.5\" y=\"-184\" font-family=\"monospace\" font-size=\"10.00\">MeanBackward0</text>\r\n</g>\r\n<!-- 1981256546480&#45;&gt;1981256545568 -->\r\n<g id=\"edge10\" class=\"edge\">\r\n<title>1981256546480&#45;&gt;1981256545568</title>\r\n<path fill=\"none\" stroke=\"black\" d=\"M266,-176.66C256.97,-158.93 236.5,-118.73 224.57,-95.32\"/>\r\n<polygon fill=\"black\" stroke=\"black\" points=\"227.57,-93.48 219.91,-86.16 221.33,-96.66 227.57,-93.48\"/>\r\n</g>\r\n<!-- 1981256546096 -->\r\n<g id=\"node13\" class=\"node\">\r\n<title>1981256546096</title>\r\n<polygon fill=\"lightgrey\" stroke=\"black\" points=\"315,-306 226,-306 226,-287 315,-287 315,-306\"/>\r\n<text text-anchor=\"middle\" x=\"270.5\" y=\"-294\" font-family=\"monospace\" font-size=\"10.00\">SubBackward0</text>\r\n</g>\r\n<!-- 1981256546096&#45;&gt;1981256546480 -->\r\n<g id=\"edge11\" class=\"edge\">\r\n<title>1981256546096&#45;&gt;1981256546480</title>\r\n<path fill=\"none\" stroke=\"black\" d=\"M270.5,-286.66C270.5,-269.17 270.5,-229.8 270.5,-206.27\"/>\r\n<polygon fill=\"black\" stroke=\"black\" points=\"274,-206.16 270.5,-196.16 267,-206.16 274,-206.16\"/>\r\n</g>\r\n<!-- 1980032129968&#45;&gt;1981256546096 -->\r\n<g id=\"edge12\" class=\"edge\">\r\n<title>1980032129968&#45;&gt;1981256546096</title>\r\n<path fill=\"none\" stroke=\"black\" d=\"M270.5,-341.75C270.5,-334.8 270.5,-324.85 270.5,-316.13\"/>\r\n<polygon fill=\"black\" stroke=\"black\" points=\"274,-316.09 270.5,-306.09 267,-316.09 274,-316.09\"/>\r\n</g>\r\n</g>\r\n</svg>\r\n"
     },
     "metadata": {},
     "execution_count": 9
    }
   ],
   "metadata": {}
  }
 ]
}