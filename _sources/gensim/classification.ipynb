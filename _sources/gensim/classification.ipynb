{
 "cells": [
  {
   "cell_type": "markdown",
   "source": [
    "Document Classification\r\n",
    "=======================\r\n",
    "Now that we have a good understanding of TF-IDF term document matrix, we can treat each term as a feature, and each document (row) as an instance or a training sample to train a classifier. The classifier can be any traditional supervised learning models that deals with tabular shaped data, where one column stores the labels of each sample. All other columns are feature variables, in this case, each term/word is a feature. An illustration table is shown below. \r\n",
    "\r\n",
    "|ID |best\t|it |\tof\t| the |\t times |\twas |\tworst |\tage |\twisdom |\tfoolishness | class label |\r\n",
    "| :--- | --- | --- |  --- | --- | --- | --- | --- |  --- | --- |  --- | ---: |\r\n",
    "| 0\t| 0.844727 |\t0.117126\t|0.117126\t|0.117126|\t0.480957|\t0.117126|\t0.844727 |\t0.480957 |\t0.844727 |\t0.844727 | positive |\r\n",
    "|1\t|5.000000\t|0.117126\t|0.117126|\t0.117126|\t0.480957|\t0.117126|\t0.844727|\t0.000000|\t0.000000|\t0.000000 |negative |\r\n",
    "|2\t|0.000000\t|0.117126|\t0.117126|\t0.117126|\t0.000000|\t0.117126|\t0.000000|\t0.480957|\t0.844727|\t0.000000| positive|\r\n",
    "|3\t|0.000000|\t0.117126|\t0.117126|\t0.117126|\t0.000000|\t0.117126|\t0.000000\t|0.480957\t|0.000000|\t0.844727 | negative |\r\n",
    "\r\n",
    "The goal of this guide is to explore some of the main 'scikit-learn'\r\n",
    "tools on a popular classification task: analyzing a collection of text\r\n",
    "documents (newsgroups posts) and classify them into one of the twenty different topics.\r\n",
    "\r\n",
    "In this notebook we will see how to:\r\n",
    " - load the file contents and the categories\r\n",
    " - extract feature vectors suitable for machine learning\r\n",
    " - train a linear model to perform categorization\r\n",
    " - use a grid search strategy to find a good configuration of both the feature extraction components and the classifier\r\n",
    "\r\n",
    "Original Notebook Credit to [scikit-learn tutorial on Working with Text Data](https://scikit-learn.org/stable/tutorial/text_analytics/working_with_text_data.html)"
   ],
   "metadata": {}
  },
  {
   "cell_type": "markdown",
   "source": [
    "## Loading the 20 newsgroups dataset\r\n",
    "\r\n",
    "The dataset is called \"Twenty Newsgroups\". Here is the [official\r\n",
    "description](http://people.csail.mit.edu/jrennie/20Newsgroups/):\r\n",
    "\r\n",
    "> The 20 Newsgroups data set is a collection of approximately 20,000\r\n",
    "  newsgroup documents, partitioned (nearly) evenly across 20 different\r\n",
    "  newsgroups. To the best of our knowledge, it was originally collected\r\n",
    "  by Ken Lang, probably for his paper \"Newsweeder: Learning to filter\r\n",
    "  netnews,\" though he does not explicitly mention this collection.\r\n",
    "  The 20 newsgroups collection has become a popular data set for\r\n",
    "  experiments in text applications of machine learning techniques,\r\n",
    "  such as text classification and text clustering.\r\n",
    "\r\n",
    "In the following we will use the built-in dataset loader for 20 newsgroups\r\n",
    "from scikit-learn. \r\n",
    "\r\n",
    "In order to get faster execution times for this first example we will\r\n",
    "work on a partial dataset with only 4 categories out of the 20 available\r\n",
    "in the dataset:"
   ],
   "metadata": {}
  },
  {
   "cell_type": "code",
   "execution_count": 2,
   "source": [
    "categories = ['alt.atheism', 'soc.religion.christian',\r\n",
    "               'comp.graphics', 'sci.med']"
   ],
   "outputs": [],
   "metadata": {}
  },
  {
   "cell_type": "markdown",
   "source": [
    "We can now load the list of files matching those categories as follows (this may take a while - 65.1s on a desktop computer - AMD 16 core, 32GB RAM):"
   ],
   "metadata": {}
  },
  {
   "cell_type": "code",
   "execution_count": 3,
   "source": [
    "from sklearn.datasets import fetch_20newsgroups\r\n",
    "twenty_train = fetch_20newsgroups(subset='train',\r\n",
    "      categories=categories, shuffle=True, random_state=42)"
   ],
   "outputs": [],
   "metadata": {}
  },
  {
   "cell_type": "markdown",
   "source": [
    "\r\n",
    "The returned dataset is a `scikit-learn` \"bunch\": a simple holder\r\n",
    "object with fields that can be both accessed as python `dict`\r\n",
    "keys or `object` attributes for convenience, for instance the\r\n",
    "`target_names` holds the list of the requested category names::"
   ],
   "metadata": {}
  },
  {
   "cell_type": "code",
   "execution_count": 4,
   "source": [
    "twenty_train.target_names"
   ],
   "outputs": [
    {
     "output_type": "execute_result",
     "data": {
      "text/plain": [
       "['alt.atheism', 'comp.graphics', 'sci.med', 'soc.religion.christian']"
      ]
     },
     "metadata": {},
     "execution_count": 4
    }
   ],
   "metadata": {}
  },
  {
   "cell_type": "markdown",
   "source": [
    "The files themselves are loaded in memory in the `data` attribute. For\r\n",
    "reference the filenames are also available:"
   ],
   "metadata": {}
  },
  {
   "cell_type": "code",
   "execution_count": 5,
   "source": [
    "len(twenty_train.data)"
   ],
   "outputs": [
    {
     "output_type": "execute_result",
     "data": {
      "text/plain": [
       "2257"
      ]
     },
     "metadata": {},
     "execution_count": 5
    }
   ],
   "metadata": {}
  },
  {
   "cell_type": "code",
   "execution_count": 6,
   "source": [
    "twenty_train.filenames[0]"
   ],
   "outputs": [
    {
     "output_type": "execute_result",
     "data": {
      "text/plain": [
       "'C:\\\\Users\\\\wei\\\\scikit_learn_data\\\\20news_home\\\\20news-bydate-train\\\\comp.graphics\\\\38440'"
      ]
     },
     "metadata": {},
     "execution_count": 6
    }
   ],
   "metadata": {}
  },
  {
   "cell_type": "markdown",
   "source": [
    "Let's print the first three lines of the first loaded file:"
   ],
   "metadata": {}
  },
  {
   "cell_type": "code",
   "execution_count": 7,
   "source": [
    "print(\"\\n\".join(twenty_train.data[0].split(\"\\n\")[:3]))"
   ],
   "outputs": [
    {
     "output_type": "stream",
     "name": "stdout",
     "text": [
      "From: sd345@city.ac.uk (Michael Collier)\n",
      "Subject: Converting images to HP LaserJet III?\n",
      "Nntp-Posting-Host: hampton\n"
     ]
    }
   ],
   "metadata": {}
  },
  {
   "cell_type": "markdown",
   "source": [
    "Below is how to access the class label (i.e. target column) of the first document. "
   ],
   "metadata": {}
  },
  {
   "cell_type": "code",
   "execution_count": 8,
   "source": [
    "print(twenty_train.target_names[twenty_train.target[0]])"
   ],
   "outputs": [
    {
     "output_type": "stream",
     "name": "stdout",
     "text": [
      "comp.graphics\n"
     ]
    }
   ],
   "metadata": {}
  },
  {
   "cell_type": "markdown",
   "source": [
    "Supervised learning algorithms will require a category label for each\r\n",
    "document in the training set. In this case the category is the name of the\r\n",
    "newsgroup which also happens to be the name of the folder holding the\r\n",
    "individual documents.\r\n",
    "\r\n",
    "For speed and space efficiency reasons `scikit-learn` loads the\r\n",
    "target attribute as an array of integers that corresponds to the\r\n",
    "index of the category name in the `target_names` list. The category\r\n",
    "integer id of each sample is stored in the `target` attribute:"
   ],
   "metadata": {}
  },
  {
   "cell_type": "code",
   "execution_count": 9,
   "source": [
    "twenty_train.target[:10]"
   ],
   "outputs": [
    {
     "output_type": "execute_result",
     "data": {
      "text/plain": [
       "array([1, 1, 3, 3, 3, 3, 3, 2, 2, 2], dtype=int64)"
      ]
     },
     "metadata": {},
     "execution_count": 9
    }
   ],
   "metadata": {}
  },
  {
   "cell_type": "markdown",
   "source": [
    "It is possible to get back the category names as follows:"
   ],
   "metadata": {}
  },
  {
   "cell_type": "code",
   "execution_count": 10,
   "source": [
    "for t in twenty_train.target[:10]:\r\n",
    "    print(twenty_train.target_names[t])"
   ],
   "outputs": [
    {
     "output_type": "stream",
     "name": "stdout",
     "text": [
      "comp.graphics\n",
      "comp.graphics\n",
      "soc.religion.christian\n",
      "soc.religion.christian\n",
      "soc.religion.christian\n",
      "soc.religion.christian\n",
      "soc.religion.christian\n",
      "sci.med\n",
      "sci.med\n",
      "sci.med\n"
     ]
    }
   ],
   "metadata": {}
  },
  {
   "cell_type": "markdown",
   "source": [
    "You might have noticed that the samples were shuffled randomly when we called\r\n",
    "`fetch_20newsgroups(..., shuffle=True, random_state=42)`: this is useful if\r\n",
    "you wish to select only a subset of samples to quickly train a model and get a\r\n",
    "first idea of the results before re-training on the complete dataset later.\r\n",
    "\r\n",
    "## Extracting features from text files\r\n",
    "\r\n",
    "In order to perform machine learning on text documents, we first need to\r\n",
    "turn the text content into numerical feature vectors.\r\n",
    "\r\n",
    "### Bags of words\r\n",
    "\r\n",
    "The most intuitive way to do so is to use a bags of words representation:\r\n",
    "\r\n",
    "  1. Assign a fixed integer id to each word occurring in any document\r\n",
    "     of the training set (for instance by building a dictionary\r\n",
    "     from words to integer indices).\r\n",
    "\r\n",
    "  2. For each document `#i`, count the number of occurrences of each\r\n",
    "     word `w` and store it in `X[i, j]` as the value of feature\r\n",
    "     `#j` where `j` is the index of word `w` in the dictionary.\r\n",
    "\r\n",
    "The bags of words representation implies that `n_features` is\r\n",
    "the number of distinct words in the corpus: this number is typically\r\n",
    "larger than 100,000.\r\n",
    "\r\n",
    "If `n_samples == 10000`, storing `X` as a NumPy array of type\r\n",
    "float32 would require 10000 x 100000 x 4 bytes = **4GB in RAM** which\r\n",
    "is barely manageable on today's computers.\r\n",
    "\r\n",
    "Fortunately, **most values in X will be zeros** since for a given\r\n",
    "document less than a few thousand distinct words will be\r\n",
    "used. For this reason we say that bags of words are typically\r\n",
    "**high-dimensional sparse datasets**. We can save a lot of memory by\r\n",
    "only storing the non-zero parts of the feature vectors in memory.\r\n",
    "\r\n",
    "`scipy.sparse` matrices are data structures that do exactly this,\r\n",
    "and `scikit-learn` has built-in support for these structures.\r\n",
    "\r\n",
    "### Tokenizing text with `scikit-learn`\r\n",
    "\r\n",
    "Text preprocessing, tokenizing and filtering of stopwords are all included\r\n",
    "in class: `CountVectorizer`, which builds a dictionary of features and\r\n",
    "transforms documents to feature vectors:"
   ],
   "metadata": {}
  },
  {
   "cell_type": "code",
   "execution_count": 12,
   "source": [
    " from sklearn.feature_extraction.text import CountVectorizer\r\n",
    " \r\n",
    " count_vect = CountVectorizer()\r\n",
    " X_train_counts = count_vect.fit_transform(twenty_train.data)\r\n",
    " X_train_counts.shape"
   ],
   "outputs": [
    {
     "output_type": "execute_result",
     "data": {
      "text/plain": [
       "(2257, 35788)"
      ]
     },
     "metadata": {},
     "execution_count": 12
    }
   ],
   "metadata": {}
  },
  {
   "cell_type": "markdown",
   "source": [
    "\r\n",
    "Class `CountVectorizer` supports counts of N-grams of words or consecutive\r\n",
    "characters. Once fitted, the vectorizer has built a dictionary of feature\r\n",
    "indices:"
   ],
   "metadata": {}
  },
  {
   "cell_type": "code",
   "execution_count": 19,
   "source": [
    "# The number of times the word 'algorithm' occurs \r\n",
    "count_vect.vocabulary_.get(u'algorithm')"
   ],
   "outputs": [
    {
     "output_type": "execute_result",
     "data": {
      "text/plain": [
       "4690"
      ]
     },
     "metadata": {},
     "execution_count": 19
    }
   ],
   "metadata": {}
  },
  {
   "cell_type": "markdown",
   "source": [
    "The index value of a word in the vocabulary is linked to its frequency\r\n",
    "in the whole training corpus.\r\n",
    "\r\n",
    ":::{note}\r\n",
    "\r\n",
    "  The method `count_vect.fit_transform` performs two actions:\r\n",
    "  it learns the vocabulary and transforms the documents into count vectors.\r\n",
    "  It's possible to separate these steps by calling\r\n",
    "  `count_vect.fit(twenty_train.data)` followed by\r\n",
    "  `X_train_counts = count_vect.transform(twenty_train.data)`,\r\n",
    "  but doing so would tokenize and vectorize each text file twice.\r\n",
    ":::\r\n",
    "\r\n",
    "### From occurrences to frequencies\r\n",
    "\r\n",
    "Occurrence count is a good start but there is an issue: longer\r\n",
    "documents will have higher average count values than shorter documents,\r\n",
    "even though they might talk about the same topics.\r\n",
    "\r\n",
    "To avoid these potential discrepancies it suffices to divide the\r\n",
    "number of occurrences of each word in a document by the total number\r\n",
    "of words in the document: these new features are called `tf` for Term\r\n",
    "Frequencies.\r\n",
    "\r\n",
    "Another refinement on top of tf is to downscale weights for words\r\n",
    "that occur in many documents in the corpus and are therefore less\r\n",
    "informative than those that occur only in a smaller portion of the\r\n",
    "corpus.\r\n",
    "\r\n",
    "This downscaling is the `tf–idf` -  \"Term Frequency times\r\n",
    "Inverse Document Frequency\" we discussed earlier. \r\n",
    "\r\n",
    "As dicussed in the previous notebooks, both **tf** and **tf–idf** can be computed as follows using class `TfidfTransformer`:"
   ],
   "metadata": {}
  },
  {
   "cell_type": "code",
   "execution_count": 14,
   "source": [
    "from sklearn.feature_extraction.text import TfidfTransformer\r\n",
    "\r\n",
    "tf_transformer = TfidfTransformer(use_idf=False).fit(X_train_counts)\r\n",
    "X_train_tf = tf_transformer.transform(X_train_counts)\r\n",
    "X_train_tf.shape"
   ],
   "outputs": [
    {
     "output_type": "execute_result",
     "data": {
      "text/plain": [
       "(2257, 35788)"
      ]
     },
     "metadata": {},
     "execution_count": 14
    }
   ],
   "metadata": {}
  },
  {
   "cell_type": "markdown",
   "source": [
    "In the above example-code, we firstly use the `fit(..)` method to fit our\r\n",
    "estimator to the data and secondly the `transform(..)` method to transform\r\n",
    "our count-matrix to a tf-idf representation.\r\n",
    "These two steps can be combined to achieve the same end result faster\r\n",
    "by skipping redundant processing. This is done through using the\r\n",
    "`fit_transform(..)` method as shown below, and as mentioned in the note\r\n",
    "in the previous section:"
   ],
   "metadata": {}
  },
  {
   "cell_type": "code",
   "execution_count": 15,
   "source": [
    "tfidf_transformer = TfidfTransformer()\r\n",
    "X_train_tfidf = tfidf_transformer.fit_transform(X_train_counts)\r\n",
    "X_train_tfidf.shape"
   ],
   "outputs": [
    {
     "output_type": "execute_result",
     "data": {
      "text/plain": [
       "(2257, 35788)"
      ]
     },
     "metadata": {},
     "execution_count": 15
    }
   ],
   "metadata": {}
  },
  {
   "cell_type": "code",
   "execution_count": 18,
   "source": [
    "X_train_tfidf.toarray()"
   ],
   "outputs": [
    {
     "output_type": "execute_result",
     "data": {
      "text/plain": [
       "array([[0., 0., 0., ..., 0., 0., 0.],\n",
       "       [0., 0., 0., ..., 0., 0., 0.],\n",
       "       [0., 0., 0., ..., 0., 0., 0.],\n",
       "       ...,\n",
       "       [0., 0., 0., ..., 0., 0., 0.],\n",
       "       [0., 0., 0., ..., 0., 0., 0.],\n",
       "       [0., 0., 0., ..., 0., 0., 0.]])"
      ]
     },
     "metadata": {},
     "execution_count": 18
    }
   ],
   "metadata": {}
  },
  {
   "cell_type": "markdown",
   "source": [
    "## Training a classifier\r\n",
    "\r\n",
    "Now that we have our features, we can train a classifier to try to predict\r\n",
    "the category of a post. Let's start with a `naïve Bayes <naive_bayes>`\r\n",
    "classifier, which provides a nice baseline for this task. `scikit-learn` includes several\r\n",
    "variants of this classifier; the one most suitable for word counts is the\r\n",
    "multinomial variant:"
   ],
   "metadata": {}
  },
  {
   "cell_type": "code",
   "execution_count": 20,
   "source": [
    "from sklearn.naive_bayes import MultinomialNB\r\n",
    "\r\n",
    "clf = MultinomialNB().fit(X_train_tfidf, twenty_train.target)"
   ],
   "outputs": [],
   "metadata": {}
  },
  {
   "cell_type": "markdown",
   "source": [
    "To try to predict the outcome on a new document we need to extract\r\n",
    "the features using almost the same feature extracting chain as before.\r\n",
    "The difference is that we call `transform` instead of `fit_transform`\r\n",
    "on the transformers, since they have already been fit to the training set:"
   ],
   "metadata": {}
  },
  {
   "cell_type": "code",
   "execution_count": 22,
   "source": [
    "docs_new = ['God is love', 'OpenGL on the GPU is fast']\r\n",
    "X_new_counts = count_vect.transform(docs_new)\r\n",
    "X_new_tfidf = tfidf_transformer.transform(X_new_counts)\r\n",
    "\r\n",
    "predicted = clf.predict(X_new_tfidf)\r\n",
    "\r\n",
    "for doc, category in zip(docs_new, predicted):\r\n",
    "  print('%r => %s' % (doc, twenty_train.target_names[category]))"
   ],
   "outputs": [
    {
     "output_type": "stream",
     "name": "stdout",
     "text": [
      "'God is love' => soc.religion.christian\n",
      "'OpenGL on the GPU is fast' => comp.graphics\n"
     ]
    }
   ],
   "metadata": {}
  },
  {
   "cell_type": "markdown",
   "source": [
    "## Building a pipeline\r\n",
    "\r\n",
    "In order to make the vectorizer => transformer => classifier easier\r\n",
    "to work with, `scikit-learn` provides a class `~sklearn.pipeline.Pipeline` that behaves\r\n",
    "like a compound classifier:"
   ],
   "metadata": {}
  },
  {
   "cell_type": "code",
   "execution_count": 23,
   "source": [
    "from sklearn.pipeline import Pipeline\r\n",
    "text_clf = Pipeline([\r\n",
    "     ('vect', CountVectorizer()),\r\n",
    "     ('tfidf', TfidfTransformer()),\r\n",
    "     ('clf', MultinomialNB())])"
   ],
   "outputs": [],
   "metadata": {}
  },
  {
   "cell_type": "markdown",
   "source": [
    "The names `vect`, `tfidf` and `clf` (classifier) are arbitrary.\r\n",
    "We will use them to perform grid search for suitable hyperparameters below.\r\n",
    "We can now train the model with a single command:"
   ],
   "metadata": {}
  },
  {
   "cell_type": "code",
   "execution_count": 24,
   "source": [
    "text_clf.fit(twenty_train.data, twenty_train.target)"
   ],
   "outputs": [
    {
     "output_type": "execute_result",
     "data": {
      "text/plain": [
       "Pipeline(steps=[('vect', CountVectorizer()), ('tfidf', TfidfTransformer()),\n",
       "                ('clf', MultinomialNB())])"
      ]
     },
     "metadata": {},
     "execution_count": 24
    }
   ],
   "metadata": {}
  },
  {
   "cell_type": "markdown",
   "source": [
    "## Evaluation of the performance on the test set\r\n",
    "\r\n",
    "Evaluating the predictive accuracy of the model is simply a comparision of the predicted and the actual labels. "
   ],
   "metadata": {}
  },
  {
   "cell_type": "code",
   "execution_count": 25,
   "source": [
    "import numpy as np\r\n",
    "twenty_test = fetch_20newsgroups(subset='test', \r\n",
    "              categories=categories, shuffle=True, random_state=42)\r\n",
    "docs_test = twenty_test.data\r\n",
    "predicted = text_clf.predict(docs_test)\r\n",
    "np.mean(predicted == twenty_test.target)"
   ],
   "outputs": [
    {
     "output_type": "execute_result",
     "data": {
      "text/plain": [
       "0.8348868175765646"
      ]
     },
     "metadata": {},
     "execution_count": 25
    }
   ],
   "metadata": {}
  },
  {
   "cell_type": "markdown",
   "source": [
    "We achieved 83.5% accuracy. Let's see if we can do better with a\r\n",
    "linear `support vector machine (SVM) <svm>`,\r\n",
    "which is widely regarded as one of\r\n",
    "the best text classification algorithms (although it's also a bit slower\r\n",
    "than naïve Bayes). We can change the learner by simply plugging a different\r\n",
    "classifier object into our pipeline:"
   ],
   "metadata": {}
  },
  {
   "cell_type": "code",
   "execution_count": 26,
   "source": [
    "from sklearn.linear_model import SGDClassifier\r\n",
    "text_clf = Pipeline([\r\n",
    "     ('vect', CountVectorizer()),\r\n",
    "     ('tfidf', TfidfTransformer()),\r\n",
    "     ('clf', SGDClassifier(loss='hinge', penalty='l2',\r\n",
    "                           alpha=1e-3, random_state=42,\r\n",
    "                           max_iter=5, tol=None))])\r\n",
    "\r\n",
    "text_clf.fit(twenty_train.data, twenty_train.target)"
   ],
   "outputs": [
    {
     "output_type": "execute_result",
     "data": {
      "text/plain": [
       "Pipeline(steps=[('vect', CountVectorizer()), ('tfidf', TfidfTransformer()),\n",
       "                ('clf',\n",
       "                 SGDClassifier(alpha=0.001, max_iter=5, random_state=42,\n",
       "                               tol=None))])"
      ]
     },
     "metadata": {},
     "execution_count": 26
    }
   ],
   "metadata": {}
  },
  {
   "cell_type": "code",
   "execution_count": 27,
   "source": [
    "predicted = text_clf.predict(docs_test)\r\n",
    "np.mean(predicted == twenty_test.target)"
   ],
   "outputs": [
    {
     "output_type": "execute_result",
     "data": {
      "text/plain": [
       "0.9101198402130493"
      ]
     },
     "metadata": {},
     "execution_count": 27
    }
   ],
   "metadata": {}
  },
  {
   "cell_type": "markdown",
   "source": [
    "We achieved 91.3% accuracy using the SVM. `scikit-learn` provides further\r\n",
    "utilities for more detailed performance analysis of the results:"
   ],
   "metadata": {}
  },
  {
   "cell_type": "code",
   "execution_count": 28,
   "source": [
    "from sklearn import metrics\r\n",
    "print(metrics.classification_report(twenty_test.target, predicted,\r\n",
    "      target_names=twenty_test.target_names))"
   ],
   "outputs": [
    {
     "output_type": "stream",
     "name": "stdout",
     "text": [
      "                        precision    recall  f1-score   support\n",
      "\n",
      "           alt.atheism       0.95      0.80      0.87       319\n",
      "         comp.graphics       0.87      0.98      0.92       389\n",
      "               sci.med       0.94      0.89      0.91       396\n",
      "soc.religion.christian       0.90      0.95      0.93       398\n",
      "\n",
      "              accuracy                           0.91      1502\n",
      "             macro avg       0.91      0.91      0.91      1502\n",
      "          weighted avg       0.91      0.91      0.91      1502\n",
      "\n"
     ]
    }
   ],
   "metadata": {}
  },
  {
   "cell_type": "code",
   "execution_count": 29,
   "source": [
    "metrics.confusion_matrix(twenty_test.target, predicted)"
   ],
   "outputs": [
    {
     "output_type": "execute_result",
     "data": {
      "text/plain": [
       "array([[256,  11,  16,  36],\n",
       "       [  4, 380,   3,   2],\n",
       "       [  5,  35, 353,   3],\n",
       "       [  5,  11,   4, 378]], dtype=int64)"
      ]
     },
     "metadata": {},
     "execution_count": 29
    }
   ],
   "metadata": {}
  },
  {
   "cell_type": "markdown",
   "source": [
    "As expected the confusion matrix shows that posts from the newsgroups\r\n",
    "on atheism and Christianity are more often confused for one another than\r\n",
    "with computer graphics.\r\n",
    "\r\n",
    ":::{note}\r\n",
    "\r\n",
    "SGD stands for Stochastic Gradient Descent. This is a simple\r\n",
    "optimization algorithms that is known to be scalable when the dataset\r\n",
    "has many samples.\r\n",
    "\r\n",
    "By setting `loss=\"hinge\"` and `penalty=\"l2\"` we are configuring\r\n",
    "the classifier model to tune its parameters for the linear Support\r\n",
    "Vector Machine cost function.\r\n",
    ":::\r\n",
    "\r\n",
    "Alternatively we could have used `sklearn.svm.LinearSVC` (Linear\r\n",
    "Support Vector Machine Classifier) that provides an alternative\r\n",
    "optimizer for the same cost function based on the liblinear_ C++\r\n",
    "library.\r\n",
    "\r\n",
    "## Parameter tuning using grid search\r\n",
    "\r\n",
    "We've already encountered some parameters such as `use_idf` in the\r\n",
    "`TfidfTransformer`. Classifiers tend to have many parameters as well;\r\n",
    "e.g., `MultinomialNB` includes a smoothing parameter `alpha` and\r\n",
    "`SGDClassifier` has a penalty parameter `alpha` and configurable loss\r\n",
    "and penalty terms in the objective function (see the module documentation,\r\n",
    "or use the Python `help` function to get a description of these).\r\n",
    "\r\n",
    "Instead of tweaking the parameters of the various components of the\r\n",
    "chain, it is possible to run an exhaustive search of the best\r\n",
    "parameters on a grid of possible values. We try out all classifiers\r\n",
    "on either words or bigrams, with or without idf, and with a penalty\r\n",
    "parameter of either 0.01 or 0.001 for the linear SVM:"
   ],
   "metadata": {}
  },
  {
   "cell_type": "code",
   "execution_count": 30,
   "source": [
    "from sklearn.model_selection import GridSearchCV\r\n",
    "parameters = {\r\n",
    "    'vect__ngram_range': [(1, 1), (1, 2)],\r\n",
    "    'tfidf__use_idf': (True, False),\r\n",
    "    'clf__alpha': (1e-2, 1e-3),\r\n",
    "}"
   ],
   "outputs": [],
   "metadata": {}
  },
  {
   "cell_type": "markdown",
   "source": [
    "Obviously, such an exhaustive search can be expensive. If we have multiple\r\n",
    "CPU cores at our disposal, we can tell the grid searcher to try these eight\r\n",
    "parameter combinations in parallel with the `n_jobs` parameter. If we give\r\n",
    "this parameter a value of `-1`, grid search will detect how many cores\r\n",
    "are installed and use them all:"
   ],
   "metadata": {}
  },
  {
   "cell_type": "code",
   "execution_count": 31,
   "source": [
    "gs_clf = GridSearchCV(text_clf, parameters, cv=5, n_jobs=-1)"
   ],
   "outputs": [],
   "metadata": {}
  },
  {
   "cell_type": "markdown",
   "source": [
    "The grid search instance behaves like a normal ``scikit-learn``\r\n",
    "model. Let's perform the search on a smaller subset of the training data\r\n",
    "to speed up the computation:"
   ],
   "metadata": {}
  },
  {
   "cell_type": "code",
   "execution_count": 32,
   "source": [
    "gs_clf = gs_clf.fit(twenty_train.data[:400], twenty_train.target[:400])"
   ],
   "outputs": [],
   "metadata": {}
  },
  {
   "cell_type": "markdown",
   "source": [
    "After calling `fit` on a `GridSearchCV` object, we now obtained a classifier\r\n",
    "that we can use to `predict`:"
   ],
   "metadata": {}
  },
  {
   "cell_type": "code",
   "execution_count": 33,
   "source": [
    "twenty_train.target_names[gs_clf.predict(['God is love'])[0]]"
   ],
   "outputs": [
    {
     "output_type": "execute_result",
     "data": {
      "text/plain": [
       "'soc.religion.christian'"
      ]
     },
     "metadata": {},
     "execution_count": 33
    }
   ],
   "metadata": {}
  },
  {
   "cell_type": "markdown",
   "source": [
    "The object's `best_score_` and `best_params_` attributes store the best\r\n",
    "mean score and the parameters setting corresponding to that score:"
   ],
   "metadata": {}
  },
  {
   "cell_type": "code",
   "execution_count": 34,
   "source": [
    "gs_clf.best_score_"
   ],
   "outputs": [
    {
     "output_type": "execute_result",
     "data": {
      "text/plain": [
       "0.9175000000000001"
      ]
     },
     "metadata": {},
     "execution_count": 34
    }
   ],
   "metadata": {}
  },
  {
   "cell_type": "code",
   "execution_count": 35,
   "source": [
    "for param_name in sorted(parameters.keys()):\r\n",
    "    print(\"%s: %r\" % (param_name, gs_clf.best_params_[param_name]))"
   ],
   "outputs": [
    {
     "output_type": "stream",
     "name": "stdout",
     "text": [
      "clf__alpha: 0.001\n",
      "tfidf__use_idf: True\n",
      "vect__ngram_range: (1, 1)\n"
     ]
    }
   ],
   "metadata": {}
  },
  {
   "cell_type": "markdown",
   "source": [
    "A more detailed summary of the search is available at `gs_clf.cv_results_`.\r\n",
    "\r\n",
    "The `cv_results_` parameter can be easily imported into pandas as a\r\n",
    "`DataFrame` for further inspection.\r\n",
    "\r\n",
    ":::{note}\r\n",
    "  A `GridSearchCV` object also stores the best classifier that it trained\r\n",
    "  as its `best_estimator_` attribute. In this case, that isn't much use as\r\n",
    "  we trained on a small, 400-document subset of our full training set.\r\n",
    ":::\r\n",
    "\r\n",
    "The index value of a word in the vocabulary is linked to its frequency\r\n",
    "in the whole training corpus."
   ],
   "metadata": {}
  },
  {
   "cell_type": "markdown",
   "source": [
    ":::{admonition} Your Turn\r\n",
    "1. Build classifiers using the `raw count`, or `term frequency` to compare the performance against `tf-idf`. \r\n",
    "2. Update the code to use TfidfVectorisor. \r\n",
    "3. Think about how a classification model or a similarity/distance calculation using `tf-idf` might help your chatbot. \r\n",
    ":::"
   ],
   "metadata": {}
  }
 ],
 "metadata": {
  "orig_nbformat": 4,
  "language_info": {
   "name": "python",
   "version": "3.8.10",
   "mimetype": "text/x-python",
   "codemirror_mode": {
    "name": "ipython",
    "version": 3
   },
   "pygments_lexer": "ipython3",
   "nbconvert_exporter": "python",
   "file_extension": ".py"
  },
  "kernelspec": {
   "name": "python3",
   "display_name": "Python 3.8.10 64-bit ('cits4012': conda)"
  },
  "interpreter": {
   "hash": "d990147e05fc0cc60dd3871899a6233eb6a5324c1885ded43d013dc915f7e535"
  }
 },
 "nbformat": 4,
 "nbformat_minor": 2
}