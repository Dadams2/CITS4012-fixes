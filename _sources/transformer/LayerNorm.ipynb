{
 "cells": [
  {
   "cell_type": "markdown",
   "source": [
    "Layer Normalization\r\n",
    "========================="
   ],
   "metadata": {}
  },
  {
   "cell_type": "code",
   "execution_count": 18,
   "source": [
    "import torch\r\n",
    "import torch.nn as nn\r\n",
    "import numpy as np\r\n",
    "import matplotlib.pyplot as plt"
   ],
   "outputs": [],
   "metadata": {}
  },
  {
   "cell_type": "code",
   "execution_count": 5,
   "source": [
    "class PositionalEncoding(nn.Module):\r\n",
    "    def __init__(self, max_len, d_model):\r\n",
    "        super().__init__()\r\n",
    "        self.d_model = d_model\r\n",
    "        pe = torch.zeros(max_len, d_model)\r\n",
    "        position = torch.arange(0, max_len).float().unsqueeze(1)\r\n",
    "        angular_speed = torch.exp(torch.arange(0, d_model, 2).float() * (-np.log(10000.0) / d_model))\r\n",
    "        pe[:, 0::2] = torch.sin(position * angular_speed) # even dimensions\r\n",
    "        pe[:, 1::2] = torch.cos(position * angular_speed) # odd dimensions\r\n",
    "        self.register_buffer('pe', pe.unsqueeze(0))\r\n",
    "\r\n",
    "    def forward(self, x):\r\n",
    "        # x is N, L, D\r\n",
    "        # pe is 1, maxlen, D\r\n",
    "        scaled_x = x * np.sqrt(self.d_model)\r\n",
    "        encoded = scaled_x + self.pe[:, :x.size(1), :]\r\n",
    "        return encoded"
   ],
   "outputs": [],
   "metadata": {}
  },
  {
   "cell_type": "code",
   "execution_count": 6,
   "source": [
    "d_model = 4\r\n",
    "seq_len = 2\r\n",
    "n_points = 3\r\n",
    "\r\n",
    "torch.manual_seed(34)\r\n",
    "data = torch.randn(n_points, seq_len, d_model)\r\n",
    "pe = PositionalEncoding(seq_len, d_model)\r\n",
    "inputs = pe(data)\r\n",
    "inputs"
   ],
   "outputs": [
    {
     "output_type": "execute_result",
     "data": {
      "text/plain": [
       "tensor([[[-3.8049,  1.9899, -1.7325,  2.1359],\n",
       "         [ 1.7854,  0.8155,  0.1116, -1.7420]],\n",
       "\n",
       "        [[-2.4273,  1.3559,  2.8615,  2.0084],\n",
       "         [-1.0353, -1.2766, -2.2082, -0.6952]],\n",
       "\n",
       "        [[-0.8044,  1.9707,  3.3704,  2.0587],\n",
       "         [ 4.2256,  6.9575,  1.4770,  2.0762]]])"
      ]
     },
     "metadata": {},
     "execution_count": 6
    }
   ],
   "metadata": {}
  },
  {
   "cell_type": "markdown",
   "source": [
    "$$\r\n",
    "\\Large\r\n",
    "\\overline{X}_{n,l} = \\frac{1}{D}\\sum_{d=1}^Dx_{n,l,d}\r\n",
    "$$"
   ],
   "metadata": {}
  },
  {
   "cell_type": "code",
   "execution_count": 7,
   "source": [
    "inputs_mean = inputs.mean(axis=2).unsqueeze(2)\r\n",
    "inputs_mean"
   ],
   "outputs": [
    {
     "output_type": "execute_result",
     "data": {
      "text/plain": [
       "tensor([[[-0.3529],\n",
       "         [ 0.2426]],\n",
       "\n",
       "        [[ 0.9496],\n",
       "         [-1.3038]],\n",
       "\n",
       "        [[ 1.6489],\n",
       "         [ 3.6841]]])"
      ]
     },
     "metadata": {},
     "execution_count": 7
    }
   ],
   "metadata": {}
  },
  {
   "cell_type": "markdown",
   "source": [
    "$$\r\n",
    "\\Large\r\n",
    "\\sigma_{n,l}(X) = \\sqrt{\\frac{1}{D}\\sum_{d=1}^D(x_{n,l,d}-\\overline{X}_{n,l})^2}\r\n",
    "$$"
   ],
   "metadata": {}
  },
  {
   "cell_type": "code",
   "execution_count": 8,
   "source": [
    "inputs_var = inputs.var(axis=2, unbiased=False).unsqueeze(2)\r\n",
    "inputs_var"
   ],
   "outputs": [
    {
     "output_type": "execute_result",
     "data": {
      "text/plain": [
       "tensor([[[6.3756],\n",
       "         [1.6661]],\n",
       "\n",
       "        [[4.0862],\n",
       "         [0.3153]],\n",
       "\n",
       "        [[2.3135],\n",
       "         [4.6163]]])"
      ]
     },
     "metadata": {},
     "execution_count": 8
    }
   ],
   "metadata": {}
  },
  {
   "cell_type": "markdown",
   "source": [
    "$$\r\n",
    "\\Large\r\n",
    "standardized\\ x_{n,l,d}=\\frac{x_{n,l,d}-\\overline{X}_{n,l}}{\\sigma_{n,l}(X) + \\epsilon}\r\n",
    "$$"
   ],
   "metadata": {}
  },
  {
   "cell_type": "code",
   "execution_count": 9,
   "source": [
    "(inputs - inputs_mean)/torch.sqrt(inputs_var+1e-5)"
   ],
   "outputs": [
    {
     "output_type": "execute_result",
     "data": {
      "text/plain": [
       "tensor([[[-1.3671,  0.9279, -0.5464,  0.9857],\n",
       "         [ 1.1953,  0.4438, -0.1015, -1.5376]],\n",
       "\n",
       "        [[-1.6706,  0.2010,  0.9458,  0.5238],\n",
       "         [ 0.4782,  0.0485, -1.6106,  1.0839]],\n",
       "\n",
       "        [[-1.6129,  0.2116,  1.1318,  0.2695],\n",
       "         [ 0.2520,  1.5236, -1.0272, -0.7484]]])"
      ]
     },
     "metadata": {},
     "execution_count": 9
    }
   ],
   "metadata": {}
  },
  {
   "cell_type": "code",
   "execution_count": 11,
   "source": [
    "layer_norm = nn.LayerNorm(d_model)\r\n",
    "layer_norm.state_dict()"
   ],
   "outputs": [
    {
     "output_type": "execute_result",
     "data": {
      "text/plain": [
       "OrderedDict([('weight', tensor([1., 1., 1., 1.])),\n",
       "             ('bias', tensor([0., 0., 0., 0.]))])"
      ]
     },
     "metadata": {},
     "execution_count": 11
    }
   ],
   "metadata": {}
  },
  {
   "cell_type": "code",
   "execution_count": 12,
   "source": [
    "layer_norm = nn.LayerNorm(d_model)\r\n",
    "normalized = layer_norm(inputs)\r\n",
    "\r\n",
    "normalized[0][0].mean(), normalized[0][0].std(unbiased=False)"
   ],
   "outputs": [
    {
     "output_type": "execute_result",
     "data": {
      "text/plain": [
       "(tensor(-1.4901e-08, grad_fn=<MeanBackward0>),\n",
       " tensor(1.0000, grad_fn=<StdBackward>))"
      ]
     },
     "metadata": {},
     "execution_count": 12
    }
   ],
   "metadata": {}
  },
  {
   "cell_type": "code",
   "execution_count": 13,
   "source": [
    "layer_norm.state_dict()"
   ],
   "outputs": [
    {
     "output_type": "execute_result",
     "data": {
      "text/plain": [
       "OrderedDict([('weight', tensor([1., 1., 1., 1.])),\n",
       "             ('bias', tensor([0., 0., 0., 0.]))])"
      ]
     },
     "metadata": {},
     "execution_count": 13
    }
   ],
   "metadata": {}
  },
  {
   "cell_type": "markdown",
   "source": [
    "$$\n",
    "\\Large\n",
    "layer\\ normed\\ x_{n,l,d} = b_d + w_d\\ standardized\\ x_{n,l,d}\n",
    "$$"
   ],
   "metadata": {}
  },
  {
   "cell_type": "markdown",
   "source": [
    "$$\n",
    "\\Large\n",
    "layer\\ normed\\ x_{n,l,d} = standardized\\ x_{n,l,d}\\ \\gamma_d + \\beta_d\n",
    "$$"
   ],
   "metadata": {}
  },
  {
   "cell_type": "markdown",
   "source": [
    "### Batch vs Layer"
   ],
   "metadata": {}
  },
  {
   "cell_type": "code",
   "execution_count": 14,
   "source": [
    "torch.manual_seed(23)\r\n",
    "dummy_points = torch.randn(4, 1, 256)\r\n",
    "dummy_pe = PositionalEncoding(1, 256)\r\n",
    "dummy_enc = dummy_pe(dummy_points)\r\n",
    "dummy_enc"
   ],
   "outputs": [
    {
     "output_type": "execute_result",
     "data": {
      "text/plain": [
       "tensor([[[-14.4193,  10.0495,  -7.8116,  ..., -15.4844, -18.0732,  -3.9566]],\n",
       "\n",
       "        [[  2.6628,  -3.5462, -23.6461,  ...,  -0.9403, -18.4375, -37.4197]],\n",
       "\n",
       "        [[-24.6397,  -1.9127, -16.4244,  ..., -17.3708, -26.0550, -14.0706]],\n",
       "\n",
       "        [[ 13.7988,  21.4612,  10.4125,  ...,  -3.2333, -17.0188,   3.9237]]])"
      ]
     },
     "metadata": {},
     "execution_count": 14
    }
   ],
   "metadata": {}
  },
  {
   "cell_type": "markdown",
   "source": [
    "![](images/layer_vs_batch_norm.png)"
   ],
   "metadata": {}
  },
  {
   "cell_type": "code",
   "execution_count": 19,
   "source": [
    "def hist_encoding(encoding):\r\n",
    "    encoding = encoding.cpu().detach().numpy()\r\n",
    "    fig, axs = plt.subplots(1, 4, figsize=(15, 4))\r\n",
    "    axs = axs.flatten()\r\n",
    "    for i in range(4):\r\n",
    "        data_point = encoding[i][0]\r\n",
    "        axs[i].hist(data_point, bins=np.linspace(-3, 3, 15), alpha=.5)\r\n",
    "        axs[i].set_xlabel(f'Data Point #{i}')\r\n",
    "        axs[i].set_ylabel('# of features')\r\n",
    "        axs[i].set_title(f'mean={data_point.mean():.4f}\\n var={data_point.var():.4f}', fontsize=16)\r\n",
    "        axs[i].set_ylim([0, 10])\r\n",
    "        axs[i].label_outer()\r\n",
    "    fig.tight_layout()    \r\n",
    "    return fig\r\n",
    "\r\n",
    "def hist_layer_normed(encoding, normed):\r\n",
    "    encoding = encoding.cpu().detach().numpy()\r\n",
    "    normed = normed.cpu().detach()\r\n",
    "    fig, axs = plt.subplots(1, 4, figsize=(15, 4))\r\n",
    "    for i in range(4):\r\n",
    "        data_point = encoding[i][0]\r\n",
    "        normed_point = normed.detach()[i][0]\r\n",
    "        axs[i].hist(data_point, bins=np.linspace(-3, 3, 15), alpha=.5, label='Original')\r\n",
    "        axs[i].hist(normed_point.numpy(), bins=np.linspace(-3, 3, 15), alpha=.5, label='Standardized')\r\n",
    "        axs[i].set_xlabel(f'Data Point #{i}')\r\n",
    "        axs[i].set_ylabel('# of features')\r\n",
    "        axs[i].set_title(f'mean={normed.mean().numpy():.4f}\\n std={normed.std(unbiased=False).numpy():.4f}', fontsize=16)\r\n",
    "        axs[i].legend()\r\n",
    "        axs[i].set_ylim([0, 80])\r\n",
    "        axs[i].label_outer()\r\n",
    "    fig.tight_layout()\r\n",
    "    return fig\r\n",
    "\r\n"
   ],
   "outputs": [],
   "metadata": {}
  },
  {
   "cell_type": "code",
   "execution_count": 20,
   "source": [
    "fig = hist_encoding(dummy_enc)"
   ],
   "outputs": [
    {
     "output_type": "display_data",
     "data": {
      "image/png": "[encoded data removed]",
      "text/plain": [
       "<Figure size 1080x288 with 4 Axes>"
      ]
     },
     "metadata": {
      "needs_background": "light"
     }
    }
   ],
   "metadata": {}
  },
  {
   "cell_type": "code",
   "execution_count": 21,
   "source": [
    "layer_normalizer = nn.LayerNorm(256)\r\n",
    "dummy_normed = layer_normalizer(dummy_enc)\r\n",
    "dummy_normed"
   ],
   "outputs": [
    {
     "output_type": "execute_result",
     "data": {
      "text/plain": [
       "tensor([[[-0.9210,  0.5911, -0.5127,  ..., -0.9868, -1.1467, -0.2744]],\n",
       "\n",
       "        [[ 0.1399, -0.2607, -1.5574,  ..., -0.0925, -1.2214, -2.4460]],\n",
       "\n",
       "        [[-1.5755, -0.1191, -1.0491,  ..., -1.1097, -1.6662, -0.8982]],\n",
       "\n",
       "        [[ 0.8643,  1.3324,  0.6575,  ..., -0.1761, -1.0183,  0.2611]]],\n",
       "       grad_fn=<NativeLayerNormBackward>)"
      ]
     },
     "metadata": {},
     "execution_count": 21
    }
   ],
   "metadata": {}
  },
  {
   "cell_type": "code",
   "execution_count": 22,
   "source": [
    "fig = hist_layer_normed(dummy_enc, dummy_normed)"
   ],
   "outputs": [
    {
     "output_type": "display_data",
     "data": {
      "image/png": "[encoded data removed]",
      "text/plain": [
       "<Figure size 1080x288 with 4 Axes>"
      ]
     },
     "metadata": {
      "needs_background": "light"
     }
    }
   ],
   "metadata": {}
  },
  {
   "cell_type": "markdown",
   "source": [
    "### Our Seq2Seq Problem"
   ],
   "metadata": {}
  },
  {
   "cell_type": "code",
   "execution_count": 23,
   "source": [
    "pe = PositionalEncoding(max_len=2, d_model=2)\r\n",
    "\r\n",
    "source_seq = torch.tensor([[[ 1.0349,  0.9661], [ 0.8055, -0.9169]]])\r\n",
    "source_seq_enc = pe(source_seq)\r\n",
    "source_seq_enc"
   ],
   "outputs": [
    {
     "output_type": "execute_result",
     "data": {
      "text/plain": [
       "tensor([[[ 1.4636,  2.3663],\n",
       "         [ 1.9806, -0.7564]]])"
      ]
     },
     "metadata": {},
     "execution_count": 23
    }
   ],
   "metadata": {}
  },
  {
   "cell_type": "code",
   "execution_count": 25,
   "source": [
    "norm = nn.LayerNorm(2)\r\n",
    "norm(source_seq_enc)"
   ],
   "outputs": [
    {
     "output_type": "execute_result",
     "data": {
      "text/plain": [
       "tensor([[[-1.0000,  1.0000],\n",
       "         [ 1.0000, -1.0000]]], grad_fn=<NativeLayerNormBackward>)"
      ]
     },
     "metadata": {},
     "execution_count": 25
    }
   ],
   "metadata": {}
  },
  {
   "cell_type": "markdown",
   "source": [
    "### Projections or Embeddings"
   ],
   "metadata": {}
  },
  {
   "cell_type": "code",
   "execution_count": 26,
   "source": [
    "torch.manual_seed(11)\r\n",
    "proj_dim = 6\r\n",
    "linear_proj = nn.Linear(2, proj_dim)\r\n",
    "pe = PositionalEncoding(2, proj_dim)\r\n",
    "\r\n",
    "source_seq_proj = linear_proj(source_seq)\r\n",
    "source_seq_proj_enc = pe(source_seq_proj)\r\n",
    "source_seq_proj_enc"
   ],
   "outputs": [
    {
     "output_type": "execute_result",
     "data": {
      "text/plain": [
       "tensor([[[-2.0934,  1.5040,  1.8742,  0.0628,  0.3034,  2.0190],\n",
       "         [-0.8853,  2.8213,  0.5911,  2.4193, -2.5230,  0.3599]]],\n",
       "       grad_fn=<AddBackward0>)"
      ]
     },
     "metadata": {},
     "execution_count": 26
    }
   ],
   "metadata": {}
  },
  {
   "cell_type": "code",
   "execution_count": 27,
   "source": [
    "norm = nn.LayerNorm(proj_dim)\r\n",
    "norm(source_seq_proj_enc)"
   ],
   "outputs": [
    {
     "output_type": "execute_result",
     "data": {
      "text/plain": [
       "tensor([[[-1.9061,  0.6287,  0.8896, -0.3868, -0.2172,  0.9917],\n",
       "         [-0.7362,  1.2864,  0.0694,  1.0670, -1.6299, -0.0568]]],\n",
       "       grad_fn=<NativeLayerNormBackward>)"
      ]
     },
     "metadata": {},
     "execution_count": 27
    }
   ],
   "metadata": {}
  }
 ],
 "metadata": {
  "orig_nbformat": 4,
  "language_info": {
   "name": "python",
   "version": "3.8.10",
   "mimetype": "text/x-python",
   "codemirror_mode": {
    "name": "ipython",
    "version": 3
   },
   "pygments_lexer": "ipython3",
   "nbconvert_exporter": "python",
   "file_extension": ".py"
  },
  "kernelspec": {
   "name": "python3",
   "display_name": "Python 3.8.10 64-bit ('cits4012': conda)"
  },
  "interpreter": {
   "hash": "d990147e05fc0cc60dd3871899a6233eb6a5324c1885ded43d013dc915f7e535"
  }
 },
 "nbformat": 4,
 "nbformat_minor": 2
}