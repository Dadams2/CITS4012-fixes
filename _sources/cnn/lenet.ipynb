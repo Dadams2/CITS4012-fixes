{
 "cells": [
  {
   "cell_type": "code",
   "execution_count": 1,
   "source": [
    "import torch\r\n",
    "import torch.nn as nn"
   ],
   "outputs": [],
   "metadata": {}
  },
  {
   "cell_type": "code",
   "execution_count": 2,
   "source": [
    "lenet = nn.Sequential()\r\n",
    "# Featurizer\r\n",
    "# Block 1: 1@28x28 -> 6@28x28 -> 6@14x14\r\n",
    "lenet.add_module('C1', \r\n",
    "    nn.Conv2d(in_channels=1, out_channels=6, kernel_size=5, padding=2)\r\n",
    ")\r\n",
    "lenet.add_module('func1', nn.ReLU())\r\n",
    "lenet.add_module('S2', nn.MaxPool2d(kernel_size=2))\r\n",
    "# Block 2: 6@14x14 -> 16@10x10 -> 16@5x5\r\n",
    "lenet.add_module('C3',\r\n",
    "    nn.Conv2d(in_channels=6, out_channels=16, kernel_size=5)\r\n",
    ")\r\n",
    "lenet.add_module('func2', nn.ReLU())\r\n",
    "lenet.add_module('S4', nn.MaxPool2d(kernel_size=2))\r\n",
    "# Block 3: 16@5x5 -> 120@1x1\r\n",
    "lenet.add_module('C5',\r\n",
    "    nn.Conv2d(in_channels=16, out_channels=120, kernel_size=5)\r\n",
    ")\r\n",
    "lenet.add_module('func2', nn.ReLU())\r\n",
    "# Flattening\r\n",
    "lenet.add_module('flatten', nn.Flatten())\r\n",
    "# Classification\r\n",
    "# Hidden Layer\r\n",
    "lenet.add_module('F6', nn.Linear(in_features=120, out_features=84))\r\n",
    "lenet.add_module('func3', nn.ReLU())\r\n",
    "# Output Layer\r\n",
    "lenet.add_module('OUTPUT',\r\n",
    "    nn.Linear(in_features=84, out_features=10)\r\n",
    ")"
   ],
   "outputs": [],
   "metadata": {}
  }
 ],
 "metadata": {
  "orig_nbformat": 4,
  "language_info": {
   "name": "python",
   "version": "3.8.10",
   "mimetype": "text/x-python",
   "codemirror_mode": {
    "name": "ipython",
    "version": 3
   },
   "pygments_lexer": "ipython3",
   "nbconvert_exporter": "python",
   "file_extension": ".py"
  },
  "kernelspec": {
   "name": "python3",
   "display_name": "Python 3.8.10 64-bit ('cits4012': conda)"
  },
  "interpreter": {
   "hash": "d990147e05fc0cc60dd3871899a6233eb6a5324c1885ded43d013dc915f7e535"
  }
 },
 "nbformat": 4,
 "nbformat_minor": 2
}