{
 "cells": [
  {
   "cell_type": "markdown",
   "source": [
    "Yelp Review Dataset - Document Classification\r\n",
    "==================================================\r\n",
    "\r\n",
    "## Converting Text Inputs to Vectorized Minibatches\r\n",
    "\r\n",
    "The `Vocabulary`, the `Vectorizer`, and the `DataLoader` are three classes to perform a crucial pipeline for PyTorch based NLP tasks: converting text inputs to vectorized minibatches. The pipeline starts with preprocessed text; each data point is a collection of tokens. In this example, the tokens happen to be words, but tokens can also be characters. \r\n",
    "\r\n",
    "The three classes presented in this notebook are responsible for \r\n",
    "- mapping each token to an integer to create a  `Vocabulary`, \r\n",
    "- applying this mapping to each data point to create a vectorized form using `Vectorizer`, and \r\n",
    "- grouping the vectorized data points into a minibatch for the model through `DataLoader`."
   ],
   "metadata": {}
  },
  {
   "cell_type": "markdown",
   "source": [
    "### Dataset"
   ],
   "metadata": {}
  },
  {
   "cell_type": "code",
   "execution_count": 2,
   "source": [
    "from torch.utils.data import Dataset\r\n",
    "class ReviewDataset(Dataset):\r\n",
    "    def __init__(self, review_df, vectorizer):\r\n",
    "        \"\"\"\r\n",
    "        Args:\r\n",
    "        review_df (pandas.DataFrame): the dataset\r\n",
    "        vectorizer (ReviewVectorizer): vectorizer instantiated from dataset\r\n",
    "        \"\"\"\r\n",
    "        self.review_df = review_df\r\n",
    "        self._vectorizer = vectorizer\r\n",
    "        self.train_df = self.review_df[self.review_df.split=='train']\r\n",
    "        self.train_size = len(self.train_df)\r\n",
    "        self.val_df = self.review_df[self.review_df.split=='val']\r\n",
    "        self.validation_size = len(self.val_df)\r\n",
    "        self.test_df = self.review_df[self.review_df.split=='test']\r\n",
    "        self.test_size = len(self.test_df)\r\n",
    "        self._lookup_dict = {'train': (self.train_df, self.train_size),\r\n",
    "                            'val': (self.val_df, self.validation_size),\r\n",
    "                            'test': (self.test_df, self.test_size)}\r\n",
    "        self.set_split('train')\r\n",
    "    @classmethod\r\n",
    "    def load_dataset_and_make_vectorizer(cls, review_csv):\r\n",
    "        \"\"\"Load dataset and make a new vectorizer from scratch\r\n",
    "        Args:\r\n",
    "            review_csv (str): location of the dataset\r\n",
    "        Returns:\r\n",
    "            an instance of ReviewDataset\r\n",
    "        \"\"\"\r\n",
    "        review_df = pd.read_csv(review_csv)\r\n",
    "        return cls(review_df, ReviewVectorizer.from_dataframe(review_df))\r\n",
    "    def get_vectorizer(self):\r\n",
    "        \"\"\" returns the vectorizer \"\"\"\r\n",
    "        return self._vectorizer\r\n",
    "    def set_split(self, split=\"train\"):\r\n",
    "        \"\"\" selects the splits in the dataset using a column in the dataframe\r\n",
    "        Args:\r\n",
    "        split (str): one of \"train\", \"val\", or \"test\"\r\n",
    "        \"\"\"\r\n",
    "        self._target_split = split\r\n",
    "        self._target_df, self._target_size = self._lookup_dict[split]\r\n",
    "    def __len__(self):\r\n",
    "        return self._target_size\r\n",
    "    def __getitem__(self, index):\r\n",
    "        \"\"\"the primary entry point method for PyTorch datasets\r\n",
    "        Args:\r\n",
    "        index (int): the index to the data point\r\n",
    "        Returns:\r\n",
    "        a dict of the data point's features (x_data) and label (y_target)\r\n",
    "        \"\"\"\r\n",
    "        row = self._target_df.iloc[index]\r\n",
    "        review_vector = \\\r\n",
    "        self._vectorizer.vectorize(row.review)\r\n",
    "        rating_index = \\\r\n",
    "        self._vectorizer.rating_vocab.lookup_token(row.rating)\r\n",
    "        return {'x_data': review_vector,\r\n",
    "                'y_target': rating_index}\r\n",
    "    def get_num_batches(self, batch_size):\r\n",
    "        \"\"\"Given a batch size, return the number of batches in the dataset\r\n",
    "        Args:\r\n",
    "        batch_size (int)\r\n",
    "        Returns:\r\n",
    "        number of batches in the dataset\r\n",
    "        \"\"\"\r\n",
    "        return len(self) // batch_size"
   ],
   "outputs": [],
   "metadata": {}
  },
  {
   "cell_type": "markdown",
   "source": [
    "### The `Vocabulary` Class\r\n",
    "\r\n",
    "The first stage to map each token to a numerical version of itself. The standard methodology is to have a bijection - a mapping that can be reversed between the tokens and integers. In Python, this is simply two dictionaries."
   ],
   "metadata": {}
  },
  {
   "cell_type": "code",
   "execution_count": 3,
   "source": [
    "class Vocabulary(object):\r\n",
    "    \"\"\"Class to process text and extract Vocabulary for mapping\"\"\"\r\n",
    "    def __init__(self, token_to_idx=None, add_unk=True, unk_token=\"<UNK>\"):\r\n",
    "        \"\"\"\r\n",
    "        Args:\r\n",
    "            token_to_idx (dict): a pre-existingmap of tokens to indices\r\n",
    "            add_unk (bool): a flag that indicates whether to add the UNK token\r\n",
    "            unk_token (str): the UNK token to add into the Vocabulary\r\n",
    "        \"\"\"\r\n",
    "        if token_to_idx is None:\r\n",
    "            token_to_idx = {}\r\n",
    "        self._token_to_idx = token_to_idx\r\n",
    "        self._idx_to_token = {idx: token \r\n",
    "                                for token, idx in self._token_to_idx.items()}\r\n",
    "        self._add_unk = add_unk\r\n",
    "        self._unk_token = unk_token\r\n",
    "        self.unk_index = 1\r\n",
    "        if add_unk:\r\n",
    "            self.unk_index = self.add_token(unk_token)\r\n",
    "    def to_serializable(self):\r\n",
    "        \"\"\" returns a dictionary that can be serialized \"\"\"\r\n",
    "        return {'token_to_idx': self._token_to_idx,\r\n",
    "                'add_unk': self._add_unk,\r\n",
    "                'unk_token': self._unk_token}\r\n",
    "    @classmethod\r\n",
    "    def from_serializable(cls, contents):\r\n",
    "        \"\"\" instantiates the Vocabulary from a serialized dictionary \"\"\"\r\n",
    "        return cls(**contents)\r\n",
    "    def add_token(self, token):\r\n",
    "        \"\"\"Update mapping dicts based on the token.\r\n",
    "        Args:\r\n",
    "            token (str): the item to add into the Vocabulary\r\n",
    "        Returns:\r\n",
    "            index (int): the integer corresponding to the token\r\n",
    "        \"\"\"\r\n",
    "        if token in self._token_to_idx:\r\n",
    "            index = self._token_to_idx[token]\r\n",
    "        else:\r\n",
    "            index = len(self._token_to_idx)\r\n",
    "            self._token_to_idx[token] = index\r\n",
    "            self._idx_to_token[index] = token\r\n",
    "        return index\r\n",
    "    def lookup_token(self, token):\r\n",
    "        \"\"\"Retrieve the index associated with the token\r\n",
    "        or the UNK index if token isn't present.\r\n",
    "        Args:\r\n",
    "            token (str): the token to look up\r\n",
    "        Returns:\r\n",
    "            index (int): the index corresponding to the token\r\n",
    "        Notes:\r\n",
    "            `unk_index` needs to be >=0 (having been added into the Vocabulary)\r\n",
    "            for the UNK functionality\r\n",
    "        \"\"\"\r\n",
    "        if self._add_unk:\r\n",
    "            return self._token_to_idx.get(token, self.unk_index)\r\n",
    "        else:\r\n",
    "            return self._token_to_idx[token]\r\n",
    "    def lookup_index(self, index):\r\n",
    "        \"\"\"Return the token associated with the index\r\n",
    "        Args:\r\n",
    "            index (int): the index to look up\r\n",
    "        Returns:\r\n",
    "            token (str): the token corresponding to the index\r\n",
    "        Raises:\r\n",
    "        KeyError: if the index is not in the Vocabulary\r\n",
    "        \"\"\"\r\n",
    "        if index not in self._idx_to_token:\r\n",
    "            raise KeyError(\"the index (%d) is not in the Vocabulary\" % index)\r\n",
    "        return self._idx_to_token[index]\r\n",
    "    def __str__(self):\r\n",
    "        return \"<Vocabulary(size=%d)>\" % len(self)\r\n",
    "    def __len__(self):\r\n",
    "        return len(self._token_to_idx)"
   ],
   "outputs": [],
   "metadata": {}
  },
  {
   "cell_type": "markdown",
   "source": [
    "### Vectorizer\r\n",
    "\r\n",
    "The second stage of going from a text dataset to a vectorized minibatch is to iterate through the tokens of an input data point and convert each token to its integer form. The result of this iteration should be a vector. Because this vector will be combined with vectors from other data points, there is a constraint that the vectors produced by the Vectorizer should always have the same length."
   ],
   "metadata": {}
  },
  {
   "cell_type": "code",
   "execution_count": 4,
   "source": [
    "from collections import Counter\r\n",
    "import string\r\n",
    "class ReviewVectorizer(object):\r\n",
    "    \"\"\" The Vectorizer which coordinates the Vocabularies and puts them to use\"\"\"\r\n",
    "    def __init__(self, review_vocab, rating_vocab):\r\n",
    "        \"\"\"\r\n",
    "        Args:\r\n",
    "            review_vocab (Vocabulary): maps words to integers\r\n",
    "            rating_vocab (Vocabulary): maps class labels to integers\r\n",
    "        \"\"\"\r\n",
    "        self.review_vocab = review_vocab\r\n",
    "        self.rating_vocab = rating_vocab\r\n",
    "    def vectorize(self, review):\r\n",
    "        \"\"\"Create a collapsed one hot vector for the review\r\n",
    "        Args:\r\n",
    "            review (str): the review\r\n",
    "        Returns:\r\n",
    "            one_hot (np.ndarray): the collapsed onehot encoding\r\n",
    "        \"\"\"\r\n",
    "        one_hot = np.zeros(len(self.review_vocab), dtype=np.float32)\r\n",
    "        for token in review.split(\" \"):\r\n",
    "            if token not in string.punctuation:\r\n",
    "                one_hot[self.review_vocab.lookup_token(token)] = 1\r\n",
    "        return one_hot\r\n",
    "    @classmethod\r\n",
    "    def from_dataframe(cls, review_df, cutoff=25):\r\n",
    "        \"\"\"Instantiate the vectorizer from the dataset dataframe\r\n",
    "        Args:\r\n",
    "            review_df (pandas.DataFrame): the review dataset\r\n",
    "            cutoff (int): the parameter for frequency based filtering\r\n",
    "        Returns:\r\n",
    "            an instance of the ReviewVectorizer\r\n",
    "        \"\"\"\r\n",
    "        review_vocab = Vocabulary(add_unk=True)\r\n",
    "        rating_vocab = Vocabulary(add_unk=False)\r\n",
    "        # Add ratings\r\n",
    "        for rating in sorted(set(review_df.rating)):\r\n",
    "            rating_vocab.add_token(rating)\r\n",
    "        # Add top words if count > provided count\r\n",
    "        word_counts = Counter()\r\n",
    "        for review in review_df.review:\r\n",
    "            for word in review.split(\" \"):\r\n",
    "                if word not in string.punctuation:\r\n",
    "                    word_counts[word] += 1\r\n",
    "        for word, count in word_counts.items():\r\n",
    "            if count > cutoff:\r\n",
    "                review_vocab.add_token(word)\r\n",
    "        return cls(review_vocab, rating_vocab)\r\n",
    "    @classmethod\r\n",
    "    def from_serializable(cls, contents):\r\n",
    "        \"\"\"Intantiate a ReviewVectorizer from a serializable dictionary\r\n",
    "        Args:\r\n",
    "            contents (dict): the serializable dictionary\r\n",
    "        Returns:\r\n",
    "            an instance of the ReviewVectorizer class\r\n",
    "        \"\"\"\r\n",
    "        review_vocab = Vocabulary.from_serializable(contents['review_vocab'])\r\n",
    "        rating_vocab = Vocabulary.from_serializable(contents['rating_vocab'])\r\n",
    "        return cls(review_vocab=review_vocab, rating_vocab=rating_vocab)\r\n",
    "    def to_serializable(self):\r\n",
    "        \"\"\"Create the serializable dictionary for caching\r\n",
    "        Returns:\r\n",
    "            contents (dict): the serializable dictionary\r\n",
    "        \"\"\"\r\n",
    "        return {'review_vocab': self.review_vocab.to_serializable(),\r\n",
    "                'rating_vocab': self.rating_vocab.to_serializable()}"
   ],
   "outputs": [],
   "metadata": {}
  },
  {
   "cell_type": "markdown",
   "source": [
    "### Dataloader\r\n",
    "\r\n",
    "The final stage of the text to vectorized minibatch pipeline is to actually group the vectorized data\r\n",
    "points."
   ],
   "metadata": {}
  },
  {
   "cell_type": "code",
   "execution_count": 5,
   "source": [
    "from torch.utils.data import DataLoader\r\n",
    "def generate_batches(dataset, batch_size, shuffle=True, drop_last=True, device=\"cpu\"):\r\n",
    "    \"\"\"\r\n",
    "    A generator function which wraps the PyTorch DataLoader. It will\r\n",
    "    ensure each tensor is on the write device location.\r\n",
    "    \"\"\"\r\n",
    "    dataloader = DataLoader(dataset=dataset, batch_size=batch_size, \r\n",
    "                            shuffle=shuffle, drop_last=drop_last)\r\n",
    "    for data_dict in dataloader:\r\n",
    "        out_data_dict = {}\r\n",
    "        for name, tensor in data_dict.items():\r\n",
    "            out_data_dict[name] = data_dict[name].to(device)\r\n",
    "        yield out_data_dict"
   ],
   "outputs": [],
   "metadata": {}
  },
  {
   "cell_type": "markdown",
   "source": [
    "## A perceptron classifier\r\n",
    "\r\n",
    "This is a simple one hidden layer Perceptron that we have seen many times by now. "
   ],
   "metadata": {}
  },
  {
   "cell_type": "code",
   "execution_count": 6,
   "source": [
    "import torch.nn as nn\r\n",
    "import torch.nn.functional as F\r\n",
    "class ReviewClassifier(nn.Module):\r\n",
    "    \"\"\" a simple perceptron-based classifier \"\"\"\r\n",
    "    def __init__(self, num_features):\r\n",
    "        \"\"\"\r\n",
    "        Args:\r\n",
    "            num_features (int): the size of the input feature vector\r\n",
    "        \"\"\"\r\n",
    "        super(ReviewClassifier, self).__init__()\r\n",
    "        self.fc1 = nn.Linear(in_features=num_features, out_features=1)\r\n",
    "    \r\n",
    "    def forward(self, x_in, apply_sigmoid=False):\r\n",
    "        \"\"\"The forward pass of the classifier\r\n",
    "        Args:\r\n",
    "            x_in (torch.Tensor): an input data tensor \r\n",
    "                    x_in.shape should be (batch, num_features)\r\n",
    "            apply_sigmoid (bool): a flag for the sigmoid activation\r\n",
    "                    should be false if used with the cross-entropy losses\r\n",
    "        Returns:\r\n",
    "            the resulting tensor. tensor.shape should be (batch,).\r\n",
    "        \"\"\"\r\n",
    "        y_out = self.fc1(x_in).squeeze()\r\n",
    "        \r\n",
    "        if apply_sigmoid:\r\n",
    "            y_out = torch.sigmoid(y_out)\r\n",
    "        return y_out"
   ],
   "outputs": [],
   "metadata": {}
  },
  {
   "cell_type": "markdown",
   "source": [
    "## Training"
   ],
   "metadata": {}
  },
  {
   "cell_type": "markdown",
   "source": [
    "### Initial Setup"
   ],
   "metadata": {}
  },
  {
   "cell_type": "code",
   "execution_count": 7,
   "source": [
    "from argparse import Namespace\r\n",
    "args = Namespace(\r\n",
    "    # Data and path information\r\n",
    "    frequency_cutoff=25,\r\n",
    "    model_state_file='model.pth',\r\n",
    "    review_csv='../data/yelp/reviews_with_splits_full.csv',\r\n",
    "    save_dir='model_storage/yelp/',\r\n",
    "    vectorizer_file='vectorizer.json',\r\n",
    "    # No model hyperparameters\r\n",
    "    # Training hyperparameters\r\n",
    "    batch_size=128,\r\n",
    "    early_stopping_criteria=5,\r\n",
    "    learning_rate=0.001,\r\n",
    "    num_epochs=100,\r\n",
    "    seed=1337,\r\n",
    "    # Runtime options\r\n",
    "    cuda=True,\r\n",
    "    device='cuda',\r\n",
    ")"
   ],
   "outputs": [],
   "metadata": {}
  },
  {
   "cell_type": "markdown",
   "source": [
    "### Training Preparation\r\n",
    "\r\n",
    "Recall that three key components that we need prepare for a training are:\r\n",
    "\r\n",
    "- model\r\n",
    "- loss function\r\n",
    "- optimizer"
   ],
   "metadata": {}
  },
  {
   "cell_type": "code",
   "execution_count": 8,
   "source": [
    "import torch\r\n",
    "import torch.optim as optim\r\n",
    "import pandas as pd\r\n",
    "\r\n",
    "def make_train_state(args):\r\n",
    "    return {'epoch_index': 0,\r\n",
    "            'train_loss': [],\r\n",
    "            'train_acc': [],\r\n",
    "            'val_loss': [],\r\n",
    "            'val_acc': [],\r\n",
    "            'test_loss': 1,\r\n",
    "            'test_acc': 1}\r\n",
    "\r\n",
    "train_state = make_train_state(args)\r\n",
    "if not torch.cuda.is_available():\r\n",
    "    args.cuda = False\r\n",
    "args.device = torch.device(\"cuda\" if args.cuda else \"cpu\")\r\n",
    "\r\n",
    "# dataset and vectorizer\r\n",
    "dataset = ReviewDataset.load_dataset_and_make_vectorizer(args.review_csv)\r\n",
    "vectorizer = dataset.get_vectorizer()\r\n",
    "# model\r\n",
    "classifier = ReviewClassifier(num_features=len(vectorizer.review_vocab))\r\n",
    "classifier = classifier.to(args.device)\r\n",
    "# loss and optimizer\r\n",
    "loss_func = nn.BCEWithLogitsLoss()\r\n",
    "optimizer = optim.Adam(classifier.parameters(), lr=args.learning_rate)"
   ],
   "outputs": [],
   "metadata": {}
  },
  {
   "cell_type": "code",
   "execution_count": 9,
   "source": [
    "def compute_accuracy(y_pred, y_target):\r\n",
    "    y_target = y_target.cpu()\r\n",
    "    y_pred_indices = (torch.sigmoid(y_pred)>0.5).cpu().long()#.max(dim=1)[1]\r\n",
    "    n_correct = torch.eq(y_pred_indices, y_target).sum().item()\r\n",
    "    return n_correct / len(y_pred_indices) * 100"
   ],
   "outputs": [],
   "metadata": {}
  },
  {
   "cell_type": "markdown",
   "source": [
    "### Training \r\n",
    "\r\n",
    "This is the most time-consuming cell. Training on a NVIDIA RTX3070 GPU with the full dataset took 9237.4 seconds (rougly 3 hours). You should changes the `args` settings to use the LITE dataset first with a reduced number of epochs.  "
   ],
   "metadata": {}
  },
  {
   "cell_type": "code",
   "execution_count": 19,
   "source": [
    "9237.4/60/60"
   ],
   "outputs": [
    {
     "output_type": "execute_result",
     "data": {
      "text/plain": [
       "2.5659444444444444"
      ]
     },
     "metadata": {},
     "execution_count": 19
    }
   ],
   "metadata": {}
  },
  {
   "cell_type": "code",
   "execution_count": 10,
   "source": [
    "import numpy as np\r\n",
    "for epoch_index in range(args.num_epochs):\r\n",
    "    train_state['epoch_index'] = epoch_index\r\n",
    "    # Iterate over training dataset\r\n",
    "    # setup: batch generator, set loss and acc to 0, set train mode on\r\n",
    "    dataset.set_split('train')\r\n",
    "    batch_generator = generate_batches(dataset, batch_size=args.batch_size, device=args.device)\r\n",
    "    running_loss = 0.0\r\n",
    "    running_acc = 0.0\r\n",
    "    classifier.train()\r\n",
    "    for batch_index, batch_dict in enumerate(batch_generator):\r\n",
    "        # the training routine is 5 steps:\r\n",
    "        # step 1. zero the gradients\r\n",
    "        optimizer.zero_grad()\r\n",
    "        # step 2. compute the output\r\n",
    "        y_pred = classifier(x_in=batch_dict['x_data'].float())\r\n",
    "        # step 3. compute the loss\r\n",
    "        loss = loss_func(y_pred, batch_dict['y_target'].float())\r\n",
    "        loss_batch = loss.item()\r\n",
    "        running_loss += (loss_batch-running_loss) / (batch_index + 1)\r\n",
    "        # step 4. use loss to produce gradients\r\n",
    "        loss.backward()\r\n",
    "        # step 5. use optimizer to take gradient step\r\n",
    "        optimizer.step()\r\n",
    "        # compute the accuracy\r\n",
    "        acc_batch = compute_accuracy(y_pred, batch_dict['y_target'])\r\n",
    "        running_acc += (acc_batch - running_acc) / (batch_index + 1)\r\n",
    "\r\n",
    "    train_state['train_loss'].append(running_loss)\r\n",
    "    train_state['train_acc'].append(running_acc)\r\n",
    "\r\n",
    "    # Iterate over val dataset\r\n",
    "    # setup: batch generator, set loss and acc to 0, set eval mode on\r\n",
    "    dataset.set_split('val')\r\n",
    "    batch_generator = generate_batches(dataset, batch_size=args.batch_size, device=args.device)\r\n",
    "    running_loss = 0.\r\n",
    "    running_acc = 0.\r\n",
    "    classifier.eval()\r\n",
    "\r\n",
    "    for batch_index, batch_dict in enumerate(batch_generator):\r\n",
    "        # step 1. compute the output\r\n",
    "        y_pred = classifier(x_in=batch_dict['x_data'].float())\r\n",
    "        # step 2. compute the loss\r\n",
    "        loss = loss_func(y_pred, batch_dict['y_target'].float())\r\n",
    "        loss_batch = loss.item()\r\n",
    "        running_loss += (loss_batch - running_loss) / (batch_index + 1)\r\n",
    "        # step 3. compute the accuracy\r\n",
    "        acc_batch = compute_accuracy(y_pred, batch_dict['y_target'])\r\n",
    "        running_acc += (acc_batch - running_acc) / (batch_index + 1)\r\n",
    "    train_state['val_loss'].append(running_loss)\r\n",
    "    train_state['val_acc'].append(running_acc)"
   ],
   "outputs": [],
   "metadata": {}
  },
  {
   "cell_type": "markdown",
   "source": [
    "## Evaluation, Inference, and Inspection\r\n",
    "After you have a trained model, the next steps are to either evaluate how it did against some heldout\r\n",
    "portion of the data, use it to do inference on new data, or inspect the model weights to see what it is has learned. In this section, we will show you all three steps.\r\n",
    "\r\n",
    "### EVALUATING ON TEST DATA\r\n",
    "To evaluate the data on the heldout test set, the code is exactly the same as the validation loop in the training routine we saw in the previous example, but with one minor difference: the split is set to be 'test' rather than 'val'. The difference between the two partitions of the dataset comes from the fact that the test set should be run as little as possible. Each time you run a trained model on the test set, make a new model decision (such as changing the size of the layers), and remeasure the new retrained model on the test set, you are biasing your modeling decisions toward the test data. In other words, if you repeat that process often enough, the test set will become meaningless as an accurate measure of truly heldout data."
   ],
   "metadata": {}
  },
  {
   "cell_type": "code",
   "execution_count": 11,
   "source": [
    "dataset.set_split('test')\r\n",
    "batch_generator = generate_batches(dataset,batch_size=args.batch_size,device=args.device)\r\n",
    "running_loss = 0.\r\n",
    "running_acc = 0.\r\n",
    "classifier.eval()\r\n",
    "for batch_index, batch_dict in enumerate(batch_generator):\r\n",
    "    # compute the output\r\n",
    "    y_pred = classifier(x_in=batch_dict['x_data'].float())\r\n",
    "    # compute the loss\r\n",
    "    loss = loss_func(y_pred, batch_dict['y_target'].float())\r\n",
    "    loss_batch = loss.item()\r\n",
    "    running_loss += (loss_batch - running_loss) / (batch_index + 1)\r\n",
    "    # compute the accuracy\r\n",
    "    acc_batch = compute_accuracy(y_pred, batch_dict['y_target'])\r\n",
    "    running_acc += (acc_batch - running_acc) / (batch_index + 1)\r\n",
    "train_state['test_loss'] = running_loss\r\n",
    "train_state['test_acc'] = running_acc"
   ],
   "outputs": [],
   "metadata": {}
  },
  {
   "cell_type": "code",
   "execution_count": 12,
   "source": [
    "print(\"Test loss: {:.3f}\".format(train_state['test_loss']))\r\n",
    "print(\"Test Accuracy: {:.2f}\".format(train_state['test_acc']))"
   ],
   "outputs": [
    {
     "output_type": "stream",
     "name": "stdout",
     "text": [
      "Test loss: 0.243\n",
      "Test Accuracy: 92.45\n"
     ]
    }
   ],
   "metadata": {}
  },
  {
   "cell_type": "markdown",
   "source": [
    "### INFERENCE AND CLASSIFYING NEW DATA POINTS\r\n",
    "Another method for evaluating the model is to do inference on new data and make qualitative judgments about whether the model is working."
   ],
   "metadata": {}
  },
  {
   "cell_type": "code",
   "execution_count": 13,
   "source": [
    "import re\r\n",
    "# Preprocess the reviews\r\n",
    "def preprocess_text(text):\r\n",
    "    if type(text) == float:\r\n",
    "        print(text)\r\n",
    "    text = text.lower()\r\n",
    "    text = re.sub(r\"([.,!?])\", r\" \\1 \", text)\r\n",
    "    text = re.sub(r\"[^a-zA-Z.,!?]+\", r\" \", text)\r\n",
    "    return text\r\n",
    "\r\n",
    "def predict_rating(review, classifier, vectorizer,decision_threshold=0.5):\r\n",
    "    \"\"\"Predict the rating of a review\r\n",
    "    Args:\r\n",
    "        review (str): the text of the review\r\n",
    "        classifier (ReviewClassifier): the trained model\r\n",
    "        vectorizer (ReviewVectorizer): the corresponding vectorizer\r\n",
    "        decision_threshold (float): The numerical boundary which\r\n",
    "                                    separates the rating classes\r\n",
    "    \"\"\"\r\n",
    "    review = preprocess_text(review)\r\n",
    "    vectorized_review = torch.tensor(vectorizer.vectorize(review)).to(args.device)\r\n",
    "    result = classifier(vectorized_review.view(1, -1))\r\n",
    "    probability_value = torch.sigmoid(result).item()\r\n",
    "    index = 1\r\n",
    "    if probability_value < decision_threshold:\r\n",
    "        index = 0\r\n",
    "    return vectorizer.rating_vocab.lookup_index(index)"
   ],
   "outputs": [],
   "metadata": {}
  },
  {
   "cell_type": "code",
   "execution_count": 14,
   "source": [
    "test_review = \"NLP is pretty awesome\"\r\n",
    "prediction = predict_rating(test_review, classifier, vectorizer)\r\n",
    "print(\"{} > {}\".format(test_review, prediction))"
   ],
   "outputs": [
    {
     "output_type": "stream",
     "name": "stdout",
     "text": [
      "NLP is pretty awesome > positive\n"
     ]
    }
   ],
   "metadata": {}
  },
  {
   "cell_type": "markdown",
   "source": [
    "### INSPECTING MODEL WEIGHTS\r\n",
    "Finally, the last way to understand whether a model is doing well after it has finished training is to inspect the weights and make qualitative judgments about whether they seem correct."
   ],
   "metadata": {}
  },
  {
   "cell_type": "code",
   "execution_count": 15,
   "source": [
    "# Sort weights\r\n",
    "fc1_weights = classifier.fc1.weight.to('cpu').detach()[0]\r\n",
    "_, indices = torch.sort(fc1_weights, dim=0, descending=True)\r\n",
    "indices = indices.numpy().tolist()"
   ],
   "outputs": [],
   "metadata": {}
  },
  {
   "cell_type": "markdown",
   "source": [
    "#### Top 20 Influential Words in Positive Reviews"
   ],
   "metadata": {}
  },
  {
   "cell_type": "code",
   "execution_count": 16,
   "source": [
    "# Top 20 words\r\n",
    "print(\"Influential words in Positive Reviews:\")\r\n",
    "print(\"\")\r\n",
    "for i in range(20):\r\n",
    "    print(vectorizer.review_vocab.lookup_index(indices[i]))"
   ],
   "outputs": [
    {
     "output_type": "stream",
     "name": "stdout",
     "text": [
      "Influential words in Positive Reviews:\n",
      "\n",
      "pastys\n",
      "excellentes\n",
      "mmmmmmmm\n",
      "yummo\n",
      "teau\n",
      "excellents\n",
      "reina\n",
      "besten\n",
      "nhats\n",
      "soulful\n",
      "bovine\n",
      "nsupport\n",
      "bottling\n",
      "abel\n",
      "emplacement\n",
      "recyclable\n",
      "couleurs\n",
      "kouign\n",
      "whimsy\n",
      "couverte\n"
     ]
    }
   ],
   "metadata": {}
  },
  {
   "cell_type": "markdown",
   "source": [
    "#### Top 20 Influential Words in Negative Reviews"
   ],
   "metadata": {}
  },
  {
   "cell_type": "code",
   "execution_count": 17,
   "source": [
    "# Top 20 negative words\r\n",
    "print(\"Influential words in Negative Reviews:\")\r\n",
    "print(\"\")\r\n",
    "indices.reverse()\r\n",
    "for i in range(20):\r\n",
    "    print(vectorizer.review_vocab.lookup_index(indices[i])) "
   ],
   "outputs": [
    {
     "output_type": "stream",
     "name": "stdout",
     "text": [
      "Influential words in Negative Reviews:\n",
      "\n",
      "ception\n",
      "nlame\n",
      "nworse\n",
      "nnasty\n",
      "discusting\n",
      "discriminates\n",
      "ewwwww\n",
      "disputing\n",
      "crook\n",
      "demerits\n",
      "acrid\n",
      "scab\n",
      "nyuck\n",
      "nbland\n",
      "dishonesty\n",
      "unfresh\n",
      "lecturing\n",
      "poorest\n",
      "grossest\n",
      "condescendingly\n"
     ]
    }
   ],
   "metadata": {}
  },
  {
   "cell_type": "markdown",
   "source": [
    "## Your Turn\r\n",
    "\r\n",
    ":::{admonition} Your Turn\r\n",
    "Modify the vectorizer to use Word Embeddings (e.g. GloVe) to replace one-hot encoding. Observe the performance change. You may need to handle unknown words. \r\n",
    ":::"
   ],
   "metadata": {}
  }
 ],
 "metadata": {
  "orig_nbformat": 4,
  "language_info": {
   "name": "python",
   "version": "3.8.10",
   "mimetype": "text/x-python",
   "codemirror_mode": {
    "name": "ipython",
    "version": 3
   },
   "pygments_lexer": "ipython3",
   "nbconvert_exporter": "python",
   "file_extension": ".py"
  },
  "kernelspec": {
   "name": "python3",
   "display_name": "Python 3.8.10 64-bit ('cits4012': conda)"
  },
  "interpreter": {
   "hash": "d990147e05fc0cc60dd3871899a6233eb6a5324c1885ded43d013dc915f7e535"
  }
 },
 "nbformat": 4,
 "nbformat_minor": 2
}